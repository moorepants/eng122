{
 "cells": [
  {
   "cell_type": "markdown",
   "metadata": {},
   "source": [
    "This derives the equations of motion for the compound pendulum with a base attached to a vertical spring using both Kane's method and Langrange's method and compares the results of both."
   ]
  },
  {
   "cell_type": "code",
   "execution_count": 1,
   "metadata": {
    "collapsed": true
   },
   "outputs": [],
   "source": [
    "from sympy import symbols, solve, cos\n",
    "from sympy.physics.mechanics import dynamicsymbols, ReferenceFrame, Point, Particle\n",
    "from sympy.physics.mechanics import RigidBody, inertia, KanesMethod, init_vprinting, Lagrangian, LagrangesMethod"
   ]
  },
  {
   "cell_type": "code",
   "execution_count": 2,
   "metadata": {
    "collapsed": true
   },
   "outputs": [],
   "source": [
    "init_vprinting()"
   ]
  },
  {
   "cell_type": "code",
   "execution_count": 3,
   "metadata": {
    "collapsed": true
   },
   "outputs": [],
   "source": [
    "x, theta = dynamicsymbols('x, theta')\n",
    "v, omega = dynamicsymbols('v, omega')\n",
    "m, M, I, k, l, g = symbols('m, M, I, k, l, g')"
   ]
  },
  {
   "cell_type": "code",
   "execution_count": 4,
   "metadata": {
    "collapsed": true
   },
   "outputs": [],
   "source": [
    "N = ReferenceFrame('N')\n",
    "A = N.orientnew('A', 'Axis', (theta, N.z))"
   ]
  },
  {
   "cell_type": "code",
   "execution_count": 5,
   "metadata": {
    "collapsed": false
   },
   "outputs": [],
   "source": [
    "O = Point('O')\n",
    "a = O.locatenew('a', x * N.x)\n",
    "b = a.locatenew('b', l * A.x)"
   ]
  },
  {
   "cell_type": "markdown",
   "metadata": {},
   "source": [
    "# Kane's Method"
   ]
  },
  {
   "cell_type": "code",
   "execution_count": 6,
   "metadata": {
    "collapsed": true
   },
   "outputs": [],
   "source": [
    "A.set_ang_vel(N, omega * N.z)"
   ]
  },
  {
   "cell_type": "code",
   "execution_count": 7,
   "metadata": {
    "collapsed": false,
    "scrolled": true
   },
   "outputs": [
    {
     "data": {
      "image/png": "[encoded data removed]",
      "text/latex": [
       "$$v\\mathbf{\\hat{n}_x} + l \\omega\\mathbf{\\hat{a}_y}$$"
      ],
      "text/plain": [
       "v n_x + l⋅ω a_y"
      ]
     },
     "execution_count": 7,
     "metadata": {},
     "output_type": "execute_result"
    }
   ],
   "source": [
    "O.set_vel(N, 0)\n",
    "a.set_vel(N, v * N.x)\n",
    "b.v2pt_theory(a, N, A)"
   ]
  },
  {
   "cell_type": "code",
   "execution_count": 8,
   "metadata": {
    "collapsed": false
   },
   "outputs": [],
   "source": [
    "block = Particle('block', a, m)\n",
    "bar = RigidBody('bar', b, A, M, (inertia(A, 0, 0, I), b))"
   ]
  },
  {
   "cell_type": "code",
   "execution_count": 9,
   "metadata": {
    "collapsed": false
   },
   "outputs": [],
   "source": [
    "kane = KanesMethod(N, (x, theta), (v, omega), kd_eqs=(x.diff() - v, theta.diff() - omega))\n",
    "fr, frstar = kane.kanes_equations(((a, -k * x * N.x + m * g * N.x), (b, M * g * N.x)), (block, bar))"
   ]
  },
  {
   "cell_type": "code",
   "execution_count": 10,
   "metadata": {
    "collapsed": false
   },
   "outputs": [
    {
     "data": {
      "image/png": "[encoded data removed]",
      "text/latex": [
       "$$\\left[\\begin{matrix}M g + M l \\omega^{2} \\operatorname{cos}\\left(\\theta\\right) + M l \\operatorname{sin}\\left(\\theta\\right) \\dot{\\omega} + g m - k x - \\left(M + m\\right) \\dot{v}\\\\- M g l \\operatorname{sin}\\left(\\theta\\right) + M l \\operatorname{sin}\\left(\\theta\\right) \\dot{v} - \\left(I + M l^{2}\\right) \\dot{\\omega}\\end{matrix}\\right]$$"
      ],
      "text/plain": [
       "⎡           2                                                ⎤\n",
       "⎢M⋅g + M⋅l⋅ω ⋅cos(θ) + M⋅l⋅sin(θ)⋅ω̇ + g⋅m - k⋅x - (M + m)⋅v̇⎥\n",
       "⎢                                                            ⎥\n",
       "⎢                                       ⎛       2⎞           ⎥\n",
       "⎣       -M⋅g⋅l⋅sin(θ) + M⋅l⋅sin(θ)⋅v̇ - ⎝I + M⋅l ⎠⋅ω̇        ⎦"
      ]
     },
     "execution_count": 10,
     "metadata": {},
     "output_type": "execute_result"
    }
   ],
   "source": [
    "fr_plus_frstar = fr + frstar\n",
    "fr_plus_frstar.simplify()\n",
    "fr_plus_frstar"
   ]
  },
  {
   "cell_type": "code",
   "execution_count": 13,
   "metadata": {
    "collapsed": false
   },
   "outputs": [
    {
     "data": {
      "image/png": "[encoded data removed]",
      "text/latex": [
       "$$\\left[\\begin{matrix}v\\\\\\omega\\\\\\frac{1}{\\left(M + m\\right) \\left(- M^{2} l^{2} \\operatorname{sin}^{2}\\left(\\theta\\right) + \\left(I + M l^{2}\\right) \\left(M + m\\right)\\right)} \\left(- M^{2} l^{2} \\left(- M l \\omega^{2} \\operatorname{cos}\\left(\\theta\\right) + k x\\right) \\operatorname{sin}^{2}\\left(\\theta\\right) + \\left(- M^{2} l^{2} \\operatorname{sin}^{2}\\left(\\theta\\right) + \\left(I + M l^{2}\\right) \\left(M + m\\right)\\right) \\left(M g + M l \\omega^{2} \\operatorname{cos}\\left(\\theta\\right) + g m - k x\\right)\\right)\\\\\\frac{M l \\left(M l \\omega^{2} \\operatorname{cos}\\left(\\theta\\right) - k x\\right) \\operatorname{sin}\\left(\\theta\\right)}{- M^{2} l^{2} \\operatorname{sin}^{2}\\left(\\theta\\right) + \\left(I + M l^{2}\\right) \\left(M + m\\right)}\\end{matrix}\\right]$$"
      ],
      "text/plain": [
       "⎡                                                        v                    \n",
       "⎢                                                                             \n",
       "⎢                                                        ω                    \n",
       "⎢                                                                             \n",
       "⎢   2  2 ⎛       2             ⎞    2      ⎛   2  2    2      ⎛       2⎞      \n",
       "⎢- M ⋅l ⋅⎝- M⋅l⋅ω ⋅cos(θ) + k⋅x⎠⋅sin (θ) + ⎝- M ⋅l ⋅sin (θ) + ⎝I + M⋅l ⎠⋅(M + \n",
       "⎢─────────────────────────────────────────────────────────────────────────────\n",
       "⎢                                          ⎛   2  2    2      ⎛       2⎞      \n",
       "⎢                                  (M + m)⋅⎝- M ⋅l ⋅sin (θ) + ⎝I + M⋅l ⎠⋅(M + \n",
       "⎢                                                                             \n",
       "⎢                                             ⎛     2             ⎞           \n",
       "⎢                                         M⋅l⋅⎝M⋅l⋅ω ⋅cos(θ) - k⋅x⎠⋅sin(θ)    \n",
       "⎢                                       ────────────────────────────────────  \n",
       "⎢                                          2  2    2      ⎛       2⎞          \n",
       "⎣                                       - M ⋅l ⋅sin (θ) + ⎝I + M⋅l ⎠⋅(M + m)  \n",
       "\n",
       "                                     ⎤\n",
       "                                     ⎥\n",
       "                                     ⎥\n",
       "                                     ⎥\n",
       "  ⎞ ⎛           2                   ⎞⎥\n",
       "m)⎠⋅⎝M⋅g + M⋅l⋅ω ⋅cos(θ) + g⋅m - k⋅x⎠⎥\n",
       "─────────────────────────────────────⎥\n",
       "  ⎞                                  ⎥\n",
       "m)⎠                                  ⎥\n",
       "                                     ⎥\n",
       "                                     ⎥\n",
       "                                     ⎥\n",
       "                                     ⎥\n",
       "                                     ⎥\n",
       "                                     ⎦"
      ]
     },
     "execution_count": 13,
     "metadata": {},
     "output_type": "execute_result"
    }
   ],
   "source": [
    "rhs = kane.rhs()\n",
    "rhs.simplify()\n",
    "rhs"
   ]
  },
  {
   "cell_type": "markdown",
   "metadata": {},
   "source": [
    "This gives the two equilibrium points:"
   ]
  },
  {
   "cell_type": "code",
   "execution_count": 15,
   "metadata": {
    "collapsed": false
   },
   "outputs": [
    {
     "data": {
      "image/png": "[encoded data removed]",
      "text/latex": [
       "$$\\left [ \\left \\{ \\theta : 0, \\quad x : \\frac{g}{k} \\left(M + m\\right)\\right \\}, \\quad \\left \\{ \\theta : \\pi, \\quad x : \\frac{g}{k} \\left(M + m\\right)\\right \\}\\right ]$$"
      ],
      "text/plain": [
       "⎡⎧         g⋅(M + m)⎫  ⎧         g⋅(M + m)⎫⎤\n",
       "⎢⎨θ: 0, x: ─────────⎬, ⎨θ: π, x: ─────────⎬⎥\n",
       "⎣⎩             k    ⎭  ⎩             k    ⎭⎦"
      ]
     },
     "execution_count": 15,
     "metadata": {},
     "output_type": "execute_result"
    }
   ],
   "source": [
    "eq_points = solve(fr_plus_frstar.subs({omega.diff(): 0, v.diff(): 0, omega: 0, v: 0}), x, theta)\n",
    "eq_points"
   ]
  },
  {
   "cell_type": "markdown",
   "metadata": {},
   "source": [
    "Linearized equations of motion about the stable equilibrium point."
   ]
  },
  {
   "cell_type": "code",
   "execution_count": 16,
   "metadata": {
    "collapsed": false
   },
   "outputs": [
    {
     "data": {
      "image/png": "[encoded data removed]",
      "text/latex": [
       "$$\\left[\\begin{matrix}v\\\\\\omega\\\\- \\frac{2 M l \\omega^{2}}{- M - m} - \\frac{M l \\theta \\dot{\\omega}}{- M - m} + \\frac{k x}{- M - m}\\\\\\frac{\\left(M g l - M l \\dot{v}\\right) \\theta}{- I - M l^{2}}\\end{matrix}\\right]$$"
      ],
      "text/plain": [
       "⎡              v               ⎤\n",
       "⎢                              ⎥\n",
       "⎢              ω               ⎥\n",
       "⎢                              ⎥\n",
       "⎢         2                    ⎥\n",
       "⎢  2⋅M⋅l⋅ω    M⋅l⋅θ⋅ω̇    k⋅x  ⎥\n",
       "⎢- ──────── - ──────── + ──────⎥\n",
       "⎢   -M - m     -M - m    -M - m⎥\n",
       "⎢                              ⎥\n",
       "⎢      (M⋅g⋅l - M⋅l⋅v̇)⋅θ      ⎥\n",
       "⎢      ──────────────────      ⎥\n",
       "⎢                  2           ⎥\n",
       "⎣          -I - M⋅l            ⎦"
      ]
     },
     "execution_count": 16,
     "metadata": {},
     "output_type": "execute_result"
    }
   ],
   "source": [
    "A_mat, _, _ = kane.linearize(op_point=eq_points[0], new_method=True, A_and_B=True)\n",
    "states = kane.q.col_join(kane.u)\n",
    "states.diff() - A_mat * states \n",
    "A_mat * states"
   ]
  },
  {
   "cell_type": "markdown",
   "metadata": {},
   "source": [
    "# Lagrange's Method"
   ]
  },
  {
   "cell_type": "code",
   "execution_count": 13,
   "metadata": {
    "collapsed": false
   },
   "outputs": [
    {
     "data": {
      "image/png": "[encoded data removed]",
      "text/latex": [
       "$$\\dot{x}\\mathbf{\\hat{n}_x} + l \\dot{\\theta}\\mathbf{\\hat{a}_y}$$"
      ],
      "text/plain": [
       "ẋ n_x + l⋅θ̇ a_y"
      ]
     },
     "execution_count": 13,
     "metadata": {},
     "output_type": "execute_result"
    }
   ],
   "source": [
    "A.set_ang_vel(N, theta.diff() * N.z)\n",
    "a.set_vel(N, x.diff() * N.x)\n",
    "b.v2pt_theory(a, N, A)"
   ]
  },
  {
   "cell_type": "code",
   "execution_count": 14,
   "metadata": {
    "collapsed": false
   },
   "outputs": [
    {
     "data": {
      "image/png": "[encoded data removed]",
      "text/latex": [
       "$$\\sqrt{l^{2} \\dot{\\theta}^{2} - 2 l \\operatorname{sin}\\left(\\theta\\right) \\dot{\\theta} \\dot{x} + \\dot{x}^{2}}$$"
      ],
      "text/plain": [
       "   _________________________________\n",
       "  ╱  2   2                        2 \n",
       "╲╱  l ⋅θ̇  - 2⋅l⋅sin(θ)⋅θ̇⋅ẋ + ẋ  "
      ]
     },
     "execution_count": 14,
     "metadata": {},
     "output_type": "execute_result"
    }
   ],
   "source": [
    "b.vel(N).magnitude()"
   ]
  },
  {
   "cell_type": "code",
   "execution_count": 15,
   "metadata": {
    "collapsed": false
   },
   "outputs": [
    {
     "data": {
      "image/png": "[encoded data removed]",
      "text/latex": [
       "$$\\frac{I \\dot{\\theta}^{2}}{2} + \\frac{M}{2} \\left(l^{2} \\dot{\\theta}^{2} - 2 l \\operatorname{sin}\\left(\\theta\\right) \\dot{\\theta} \\dot{x} + \\dot{x}^{2}\\right) + \\frac{m \\dot{x}^{2}}{2}$$"
      ],
      "text/plain": [
       "    2     ⎛ 2   2                        2⎞       2\n",
       "I⋅θ̇    M⋅⎝l ⋅θ̇  - 2⋅l⋅sin(θ)⋅θ̇⋅ẋ + ẋ ⎠   m⋅ẋ \n",
       "───── + ─────────────────────────────────── + ─────\n",
       "  2                      2                      2  "
      ]
     },
     "execution_count": 15,
     "metadata": {},
     "output_type": "execute_result"
    }
   ],
   "source": [
    "bar.kinetic_energy(N) + block.kinetic_energy(N)"
   ]
  },
  {
   "cell_type": "code",
   "execution_count": 16,
   "metadata": {
    "collapsed": false
   },
   "outputs": [],
   "source": [
    "block.potential_energy = k * x**2 / 2 - m * g * x\n",
    "bar.potential_energy = -M * g * (x + l * cos(theta))"
   ]
  },
  {
   "cell_type": "code",
   "execution_count": 17,
   "metadata": {
    "collapsed": false
   },
   "outputs": [
    {
     "data": {
      "image/png": "[encoded data removed]",
      "text/latex": [
       "$$\\frac{I \\dot{\\theta}^{2}}{2} + M g \\left(l \\operatorname{cos}\\left(\\theta\\right) + x\\right) + \\frac{M}{2} \\left(l^{2} \\dot{\\theta}^{2} - 2 l \\operatorname{sin}\\left(\\theta\\right) \\dot{\\theta} \\dot{x} + \\dot{x}^{2}\\right) + g m x - \\frac{k x^{2}}{2} + \\frac{m \\dot{x}^{2}}{2}$$"
      ],
      "text/plain": [
       "    2                          ⎛ 2   2                        2⎞              \n",
       "I⋅θ̇                         M⋅⎝l ⋅θ̇  - 2⋅l⋅sin(θ)⋅θ̇⋅ẋ + ẋ ⎠           k⋅x\n",
       "───── + M⋅g⋅(l⋅cos(θ) + x) + ─────────────────────────────────── + g⋅m⋅x - ───\n",
       "  2                                           2                             2 \n",
       "\n",
       "2       2\n",
       "    m⋅ẋ \n",
       "─ + ─────\n",
       "      2  "
      ]
     },
     "execution_count": 17,
     "metadata": {},
     "output_type": "execute_result"
    }
   ],
   "source": [
    "L = Lagrangian(N, block, bar)\n",
    "L"
   ]
  },
  {
   "cell_type": "code",
   "execution_count": 18,
   "metadata": {
    "collapsed": false
   },
   "outputs": [
    {
     "data": {
      "image/png": "[encoded data removed]",
      "text/latex": [
       "$$I \\ddot{\\theta} + M l \\left(l \\ddot{\\theta} - \\operatorname{sin}\\left(\\theta\\right) \\ddot{x} - \\operatorname{cos}\\left(\\theta\\right) \\dot{\\theta} \\dot{x}\\right)$$"
      ],
      "text/plain": [
       "I⋅θ̈ + M⋅l⋅(l⋅θ̈ - sin(θ)⋅ẍ - cos(θ)⋅θ̇⋅ẋ)"
      ]
     },
     "execution_count": 18,
     "metadata": {},
     "output_type": "execute_result"
    }
   ],
   "source": [
    "L.diff(theta.diff()).simplify().diff(dynamicsymbols._t)"
   ]
  },
  {
   "cell_type": "code",
   "execution_count": 19,
   "metadata": {
    "collapsed": true
   },
   "outputs": [],
   "source": [
    "lagrange = LagrangesMethod(L, (x, theta))"
   ]
  },
  {
   "cell_type": "code",
   "execution_count": 20,
   "metadata": {
    "collapsed": false
   },
   "outputs": [
    {
     "data": {
      "image/png": "[encoded data removed]",
      "text/latex": [
       "$$\\left[\\begin{matrix}- M g - M \\left(l \\operatorname{sin}\\left(\\theta\\right) \\ddot{\\theta} + l \\operatorname{cos}\\left(\\theta\\right) \\dot{\\theta}^{2} - \\ddot{x}\\right) - g m + k x + m \\ddot{x}\\\\I \\ddot{\\theta} + M g l \\operatorname{sin}\\left(\\theta\\right) + M l^{2} \\ddot{\\theta} - M l \\operatorname{sin}\\left(\\theta\\right) \\ddot{x}\\end{matrix}\\right]$$"
      ],
      "text/plain": [
       "⎡         ⎛                         2     ⎞                   ⎤\n",
       "⎢-M⋅g - M⋅⎝l⋅sin(θ)⋅θ̈ + l⋅cos(θ)⋅θ̇  - ẍ⎠ - g⋅m + k⋅x + m⋅ẍ⎥\n",
       "⎢                                                             ⎥\n",
       "⎢                                 2                           ⎥\n",
       "⎣        I⋅θ̈ + M⋅g⋅l⋅sin(θ) + M⋅l ⋅θ̈ - M⋅l⋅sin(θ)⋅ẍ        ⎦"
      ]
     },
     "execution_count": 20,
     "metadata": {},
     "output_type": "execute_result"
    }
   ],
   "source": [
    "lagranges_equations = lagrange.form_lagranges_equations()\n",
    "lagranges_equations.simplify()\n",
    "lagranges_equations"
   ]
  },
  {
   "cell_type": "markdown",
   "metadata": {},
   "source": [
    "# Compare"
   ]
  },
  {
   "cell_type": "code",
   "execution_count": 21,
   "metadata": {
    "collapsed": false
   },
   "outputs": [
    {
     "data": {
      "image/png": "[encoded data removed]",
      "text/latex": [
       "$$\\left[\\begin{matrix}0\\\\0\\end{matrix}\\right]$$"
      ],
      "text/plain": [
       "⎡0⎤\n",
       "⎢ ⎥\n",
       "⎣0⎦"
      ]
     },
     "execution_count": 21,
     "metadata": {},
     "output_type": "execute_result"
    }
   ],
   "source": [
    "should_be_zero = fr_plus_frstar.subs({omega: theta.diff(), v: x.diff()}) + lagranges_equations\n",
    "should_be_zero.simplify()\n",
    "should_be_zero"
   ]
  }
 ],
 "metadata": {
  "anaconda-cloud": {},
  "kernelspec": {
   "display_name": "Python [conda root]",
   "language": "python",
   "name": "conda-root-py"
  },
  "language_info": {
   "codemirror_mode": {
    "name": "ipython",
    "version": 3
   },
   "file_extension": ".py",
   "mimetype": "text/x-python",
   "name": "python",
   "nbconvert_exporter": "python",
   "pygments_lexer": "ipython3",
   "version": "3.5.2"
  }
 },
 "nbformat": 4,
 "nbformat_minor": 1
}
