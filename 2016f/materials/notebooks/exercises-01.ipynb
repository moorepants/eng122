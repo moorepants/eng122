{
 "cells": [
  {
   "cell_type": "markdown",
   "metadata": {},
   "source": [
    "# Python\n",
    "\n",
    "Write a function `rescale` in the cell below that takes a list as input and returns a corresponding array of values scaled to lie in the range 0.0 to 1.0. You can run the cell to test that it works.\n",
    "\n",
    "Example:\n",
    "\n",
    "```python\n",
    "rescale([1.0, 3.0, 5.0])\n",
    "```\n",
    "should return\n",
    "```python\n",
    "[0.0, 0.5, 1.0]\n",
    "```\n",
    "\n",
    "*Hint*: If $L$ and $H$ are the lowest and highest values in the original array, then the replacement for a value $v$ should be $(v-L) / (H-L)$"
   ]
  },
  {
   "cell_type": "code",
   "execution_count": null,
   "metadata": {
    "collapsed": false
   },
   "outputs": [],
   "source": [
    "# define your function here\n",
    "\n",
    "\n",
    "# test the function\n",
    "print(\"got\")\n",
    "print(rescale([-1, 1, 0]))\n",
    "print(\"expected\")\n",
    "print([0.0, 1.0, 0.5])"
   ]
  },
  {
   "cell_type": "markdown",
   "metadata": {
    "collapsed": true
   },
   "source": [
    "# NumPy\n",
    "\n",
    "Rewrite your `rescale` function so that it works with NumPy arrays instead of Python lists. It should rescale each *row* of the input array. Use vectorized operations inside the function instead of loops.\n",
    "\n",
    "Example:\n",
    "\n",
    "```python\n",
    "rescale(np.array([[1.0, 3.0, 5.0],\n",
    "                  [2.0, 4.0, 6.0]])\n",
    "```\n",
    "should return\n",
    "```python\n",
    "array([[ 0. ,  0.5,  1. ],\n",
    "       [ 0. ,  0.5,  1. ]])\n",
    "```"
   ]
  },
  {
   "cell_type": "code",
   "execution_count": null,
   "metadata": {
    "collapsed": false
   },
   "outputs": [],
   "source": [
    "import numpy as np\n",
    "# define a new version of rescale here\n",
    "\n",
    "\n",
    "# test the function\n",
    "print(\"got\")\n",
    "print(rescale(np.array([[1., 3., 5.], [2., 6., 4.]])))\n",
    "print(\"expected\")\n",
    "print(np.array([[0., 0.5, 1.], [0., 1., 0.5]]))"
   ]
  },
  {
   "cell_type": "markdown",
   "metadata": {},
   "source": [
    "# Matplotlib\n",
    "\n",
    "Create a graph of the following function:\n",
    "\n",
    "$$f(t) = A e^{\\tau t} \\cos(\\omega t + \\phi)$$\n",
    "\n",
    "Use the parameters:\n",
    "\n",
    "- $A=3.0$\n",
    "- $\\tau=-0.2$\n",
    "- $\\phi=\\pi/3$.\n",
    "\n",
    "Plot a different color line for $\\omega=1, 3$, and $5$.\n",
    "\n",
    "Make sure to include a legend for each line as well as axis labels.\n",
    "\n",
    "*Hint*: numpy provides the value of $\\pi$ with `np.pi`"
   ]
  },
  {
   "cell_type": "code",
   "execution_count": null,
   "metadata": {
    "collapsed": false
   },
   "outputs": [],
   "source": [
    "import numpy as np\n",
    "import matplotlib.pyplot as plt\n",
    "%matplotlib notebook\n",
    "\n",
    "# write your code to generate the plot here\n"
   ]
  },
  {
   "cell_type": "markdown",
   "metadata": {},
   "source": [
    "# SciPy\n",
    "\n",
    "Using the $\\omega=1$ curve from the the Matplotlib section and use `scipy.interpolate.interp1d` to interpolate the function at half second intervals.\n",
    "\n",
    "Create a new plot with the interpolated points shown superimposed over the curve. Make the plot interactive using a function so that you have a slider that lets you adjust the interpolation interval. Use the graph to make an estimate of the largest interval needed to recognize that the curve is a decaying sine wave.\n",
    "\n",
    "*Hint*: http://docs.scipy.org/doc/scipy/reference/generated/scipy.interpolate.interp1d.html#scipy.interpolate.interp1d"
   ]
  },
  {
   "cell_type": "code",
   "execution_count": null,
   "metadata": {
    "collapsed": false
   },
   "outputs": [],
   "source": [
    "from scipy.interpolate import interp1d\n",
    "from ipywidgets import interact\n",
    "\n",
    "%matplotlib inline\n",
    "\n",
    "# write your code to make the interactive plot here\n"
   ]
  },
  {
   "cell_type": "markdown",
   "metadata": {},
   "source": [
    "Some of these exercises have been modified from the CC-BY Software Carpentry Lessons."
   ]
  }
 ],
 "metadata": {
  "anaconda-cloud": {},
  "kernelspec": {
   "display_name": "Python 3",
   "language": "python",
   "name": "python3"
  },
  "language_info": {
   "codemirror_mode": {
    "name": "ipython",
    "version": 3
   },
   "file_extension": ".py",
   "mimetype": "text/x-python",
   "name": "python",
   "nbconvert_exporter": "python",
   "pygments_lexer": "ipython3",
   "version": "3.5.2"
  },
  "widgets": {
   "state": {
    "c2b51ca20d0348798d007dbc2de99e3f": {
     "views": [
      {
       "cell_index": 7
      }
     ]
    }
   },
   "version": "1.2.0"
  }
 },
 "nbformat": 4,
 "nbformat_minor": 1
}
