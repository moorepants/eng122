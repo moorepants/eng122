{
 "cells": [
  {
   "cell_type": "code",
   "execution_count": 1,
   "metadata": {
    "collapsed": true
   },
   "outputs": [],
   "source": [
    "from sympy import symbols, sin, cos, sqrt, trigsimp\n",
    "from sympy.physics.mechanics import ReferenceFrame, Point, dynamicsymbols, init_vprinting"
   ]
  },
  {
   "cell_type": "code",
   "execution_count": 2,
   "metadata": {
    "collapsed": true
   },
   "outputs": [],
   "source": [
    "init_vprinting()"
   ]
  },
  {
   "cell_type": "code",
   "execution_count": 3,
   "metadata": {
    "collapsed": false
   },
   "outputs": [],
   "source": [
    "r, h, l, m, g = symbols('r, h, l, m, g', positive=True, real=True)\n",
    "theta = dynamicsymbols('theta')"
   ]
  },
  {
   "cell_type": "code",
   "execution_count": 4,
   "metadata": {
    "collapsed": true
   },
   "outputs": [],
   "source": [
    "N = ReferenceFrame('N')\n",
    "A = N.orientnew('A', 'Axis', (theta, N.z))"
   ]
  },
  {
   "cell_type": "code",
   "execution_count": 5,
   "metadata": {
    "collapsed": false
   },
   "outputs": [
    {
     "data": {
      "image/png": "[encoded data removed]",
      "text/latex": [
       "$$r \\theta\\mathbf{\\hat{a}_x} + (\\frac{h}{2} + r)\\mathbf{\\hat{a}_y}$$"
      ],
      "text/plain": [
       "r⋅θ a_x + ⎛h    ⎞\n",
       "⎜─ + r⎟\n",
       "⎝2    ⎠ a_y"
      ]
     },
     "execution_count": 5,
     "metadata": {},
     "output_type": "execute_result"
    }
   ],
   "source": [
    "R = r * A.y + r * theta * A.x + h / 2 * A.y\n",
    "R"
   ]
  },
  {
   "cell_type": "code",
   "execution_count": 6,
   "metadata": {
    "collapsed": false
   },
   "outputs": [
    {
     "data": {
      "image/png": "[encoded data removed]",
      "text/latex": [
       "$$(r \\theta \\operatorname{cos}\\left(\\theta\\right) - \\left(\\frac{h}{2} + r\\right) \\operatorname{sin}\\left(\\theta\\right))\\mathbf{\\hat{n}_x} + (r \\theta \\operatorname{sin}\\left(\\theta\\right) + \\left(\\frac{h}{2} + r\\right) \\operatorname{cos}\\left(\\theta\\right))\\mathbf{\\hat{n}_y}$$"
      ],
      "text/plain": [
       "⎛             ⎛h    ⎞       ⎞\n",
       "⎜r⋅θ⋅cos(θ) - ⎜─ + r⎟⋅sin(θ)⎟\n",
       "⎝             ⎝2    ⎠       ⎠ n_x + ⎛             ⎛h    ⎞       ⎞\n",
       "⎜r⋅θ⋅sin(θ) + ⎜─ + r⎟⋅cos(θ)⎟\n",
       "⎝             ⎝2    ⎠       ⎠ n_y"
      ]
     },
     "execution_count": 6,
     "metadata": {},
     "output_type": "execute_result"
    }
   ],
   "source": [
    "R.express(N)"
   ]
  },
  {
   "cell_type": "code",
   "execution_count": 7,
   "metadata": {
    "collapsed": false
   },
   "outputs": [
    {
     "data": {
      "image/png": "[encoded data removed]",
      "text/latex": [
       "$$(r \\dot{\\theta} - \\left(\\frac{h}{2} + r\\right) \\dot{\\theta})\\mathbf{\\hat{a}_x} + r \\theta \\dot{\\theta}\\mathbf{\\hat{a}_y}$$"
      ],
      "text/plain": [
       "⎛       ⎛h    ⎞   ⎞\n",
       "⎜r⋅θ̇ - ⎜─ + r⎟⋅θ̇⎟\n",
       "⎝       ⎝2    ⎠   ⎠ a_x + r⋅θ⋅θ̇ a_y"
      ]
     },
     "execution_count": 7,
     "metadata": {},
     "output_type": "execute_result"
    }
   ],
   "source": [
    "o = Point('o')\n",
    "o.set_vel(N, 0)\n",
    "p = o.locatenew('p', R)\n",
    "p.set_vel(A, R.diff(dynamicsymbols._t, A))\n",
    "p.v1pt_theory(o, N, A)"
   ]
  },
  {
   "cell_type": "code",
   "execution_count": 8,
   "metadata": {
    "collapsed": false
   },
   "outputs": [
    {
     "data": {
      "image/png": "[encoded data removed]",
      "text/latex": [
       "$$\\frac{1}{2} \\sqrt{\\left(h^{2} + 4 r^{2} \\theta^{2}\\right) \\dot{\\theta}^{2}}$$"
      ],
      "text/plain": [
       "   ____________________\n",
       "  ╱ ⎛ 2      2  2⎞   2 \n",
       "╲╱  ⎝h  + 4⋅r ⋅θ ⎠⋅θ̇  \n",
       "───────────────────────\n",
       "           2           "
      ]
     },
     "execution_count": 8,
     "metadata": {},
     "output_type": "execute_result"
    }
   ],
   "source": [
    "p.vel(N).magnitude().simplify()"
   ]
  },
  {
   "cell_type": "code",
   "execution_count": 9,
   "metadata": {
    "collapsed": false
   },
   "outputs": [
    {
     "data": {
      "image/png": "[encoded data removed]",
      "text/latex": [
       "$$r \\dot{\\theta}\\mathbf{\\hat{a}_x}$$"
      ],
      "text/plain": [
       "r⋅θ̇ a_x"
      ]
     },
     "execution_count": 9,
     "metadata": {},
     "output_type": "execute_result"
    }
   ],
   "source": [
    "R.diff(dynamicsymbols._t, A).simplify()"
   ]
  },
  {
   "cell_type": "code",
   "execution_count": 10,
   "metadata": {
    "collapsed": false
   },
   "outputs": [
    {
     "data": {
      "image/png": "[encoded data removed]",
      "text/latex": [
       "$$-  \\frac{h \\dot{\\theta}}{2}\\mathbf{\\hat{a}_x} + r \\theta \\dot{\\theta}\\mathbf{\\hat{a}_y}$$"
      ],
      "text/plain": [
       "- h⋅θ̇ \n",
       "──────\n",
       "  2    a_x + r⋅θ⋅θ̇ a_y"
      ]
     },
     "execution_count": 10,
     "metadata": {},
     "output_type": "execute_result"
    }
   ],
   "source": [
    "(r * theta.diff() * A.x + (theta.diff() * A.z).cross(r * theta * A.x + (r + h / 2) * A.y)).simplify()"
   ]
  },
  {
   "cell_type": "code",
   "execution_count": 11,
   "metadata": {
    "collapsed": false
   },
   "outputs": [
    {
     "data": {
      "image/png": "[encoded data removed]",
      "text/latex": [
       "$$\\frac{1}{2} \\sqrt{\\left(h^{2} + 4 r^{2} \\theta^{2}\\right) \\dot{\\theta}^{2}}$$"
      ],
      "text/plain": [
       "   ____________________\n",
       "  ╱ ⎛ 2      2  2⎞   2 \n",
       "╲╱  ⎝h  + 4⋅r ⋅θ ⎠⋅θ̇  \n",
       "───────────────────────\n",
       "           2           "
      ]
     },
     "execution_count": 11,
     "metadata": {},
     "output_type": "execute_result"
    }
   ],
   "source": [
    "sqrt((r * theta * theta.diff())**2 + ((r + h / 2) * theta.diff() - r * theta.diff())**2).simplify()"
   ]
  },
  {
   "cell_type": "code",
   "execution_count": 12,
   "metadata": {
    "collapsed": false
   },
   "outputs": [
    {
     "data": {
      "image/png": "[encoded data removed]",
      "text/latex": [
       "$$\\frac{1}{2} \\sqrt{\\left(h^{2} + 4 r^{2} \\theta^{2}\\right) \\dot{\\theta}^{2}}$$"
      ],
      "text/plain": [
       "   ____________________\n",
       "  ╱ ⎛ 2      2  2⎞   2 \n",
       "╲╱  ⎝h  + 4⋅r ⋅θ ⎠⋅θ̇  \n",
       "───────────────────────\n",
       "           2           "
      ]
     },
     "execution_count": 12,
     "metadata": {},
     "output_type": "execute_result"
    }
   ],
   "source": [
    "v = R.diff(dynamicsymbols._t, N).magnitude().simplify()\n",
    "v"
   ]
  },
  {
   "cell_type": "code",
   "execution_count": 13,
   "metadata": {
    "collapsed": false
   },
   "outputs": [
    {
     "data": {
      "image/png": "[encoded data removed]",
      "text/latex": [
       "$$\\frac{\\left|{\\theta_{d}}\\right|}{2} \\sqrt{h^{2} + 4 r^{2} \\theta^{2}}$$"
      ],
      "text/plain": [
       "   ______________      \n",
       "  ╱  2      2  2       \n",
       "╲╱  h  + 4⋅r ⋅θ  ⋅│θ_d│\n",
       "───────────────────────\n",
       "           2           "
      ]
     },
     "execution_count": 13,
     "metadata": {},
     "output_type": "execute_result"
    }
   ],
   "source": [
    "v.subs({theta.diff(): symbols('theta_d', real=True)}).simplify()"
   ]
  },
  {
   "cell_type": "code",
   "execution_count": 14,
   "metadata": {
    "collapsed": false
   },
   "outputs": [
    {
     "data": {
      "image/png": "[encoded data removed]",
      "text/latex": [
       "$$- \\frac{1}{2} \\sqrt{\\left(h^{2} + 4 r^{2} \\theta^{2}\\right) \\dot{\\theta}^{2}} + \\frac{1}{2} \\sqrt{\\frac{\\left(16 r^{4} \\theta^{2} + \\left(4 r^{2} \\theta^{2} + \\left(h + 2 r\\right)^{2}\\right)^{2}\\right) \\dot{\\theta}^{2}}{4 r^{2} \\theta^{2} + \\left(h + 2 r\\right)^{2}}}$$"
      ],
      "text/plain": [
       "                                   __________________________________________\n",
       "                                  ╱ ⎛                                 2⎞     \n",
       "                                 ╱  ⎜    4  2   ⎛   2  2            2⎞ ⎟   2 \n",
       "                                ╱   ⎝16⋅r ⋅θ  + ⎝4⋅r ⋅θ  + (h + 2⋅r) ⎠ ⎠⋅θ̇  \n",
       "     ____________________      ╱    ──────────────────────────────────────── \n",
       "    ╱ ⎛ 2      2  2⎞   2      ╱                  2  2            2           \n",
       "  ╲╱  ⎝h  + 4⋅r ⋅θ ⎠⋅θ̇     ╲╱                4⋅r ⋅θ  + (h + 2⋅r)            \n",
       "- ─────────────────────── + ─────────────────────────────────────────────────\n",
       "             2                                      2                        "
      ]
     },
     "execution_count": 14,
     "metadata": {},
     "output_type": "execute_result"
    }
   ],
   "source": [
    "(sqrt((R.magnitude().diff(dynamicsymbols._t)**2 + (R.magnitude() * theta.diff())**2)) - v).simplify()"
   ]
  },
  {
   "cell_type": "code",
   "execution_count": 15,
   "metadata": {
    "collapsed": false
   },
   "outputs": [
    {
     "data": {
      "image/png": "[encoded data removed]",
      "text/latex": [
       "$$\\frac{m}{12} \\left(h^{2} + l^{2}\\right)$$"
      ],
      "text/plain": [
       "  ⎛ 2    2⎞\n",
       "m⋅⎝h  + l ⎠\n",
       "───────────\n",
       "     12    "
      ]
     },
     "execution_count": 15,
     "metadata": {},
     "output_type": "execute_result"
    }
   ],
   "source": [
    "I = m / 12 * (l**2 + h**2)\n",
    "I"
   ]
  },
  {
   "cell_type": "code",
   "execution_count": 16,
   "metadata": {
    "collapsed": false
   },
   "outputs": [
    {
     "data": {
      "image/png": "[encoded data removed]",
      "text/latex": [
       "$$\\frac{m \\dot{\\theta}^{2}}{24} \\left(h^{2} + l^{2}\\right) + \\frac{m \\dot{\\theta}^{2}}{8} \\left(h^{2} + 4 r^{2} \\theta^{2}\\right)$$"
      ],
      "text/plain": [
       "  ⎛ 2    2⎞   2     ⎛ 2      2  2⎞   2\n",
       "m⋅⎝h  + l ⎠⋅θ̇    m⋅⎝h  + 4⋅r ⋅θ ⎠⋅θ̇ \n",
       "─────────────── + ────────────────────\n",
       "       24                  8          "
      ]
     },
     "execution_count": 16,
     "metadata": {},
     "output_type": "execute_result"
    }
   ],
   "source": [
    "T = I / 2 * theta.diff()**2 + m / 2 * v**2\n",
    "T"
   ]
  },
  {
   "cell_type": "code",
   "execution_count": 17,
   "metadata": {
    "collapsed": false
   },
   "outputs": [
    {
     "data": {
      "image/png": "[encoded data removed]",
      "text/latex": [
       "$$- \\frac{g m}{2} \\left(h - 2 r \\theta \\operatorname{sin}\\left(\\theta\\right) + 2 r - \\left(h + 2 r\\right) \\operatorname{cos}\\left(\\theta\\right)\\right)$$"
      ],
      "text/plain": [
       "-g⋅m⋅(h - 2⋅r⋅θ⋅sin(θ) + 2⋅r - (h + 2⋅r)⋅cos(θ)) \n",
       "─────────────────────────────────────────────────\n",
       "                        2                        "
      ]
     },
     "execution_count": 17,
     "metadata": {},
     "output_type": "execute_result"
    }
   ],
   "source": [
    "U = -m * g * (r + h / 2 - R.dot(N.y))\n",
    "U.simplify()"
   ]
  },
  {
   "cell_type": "code",
   "execution_count": 18,
   "metadata": {
    "collapsed": false
   },
   "outputs": [
    {
     "data": {
      "image/png": "[encoded data removed]",
      "text/latex": [
       "$$\\frac{g m}{2} \\left(- h \\operatorname{sin}\\left(\\theta\\right) + 2 r \\theta \\operatorname{cos}\\left(\\theta\\right)\\right)$$"
      ],
      "text/plain": [
       "g⋅m⋅(-h⋅sin(θ) + 2⋅r⋅θ⋅cos(θ))\n",
       "──────────────────────────────\n",
       "              2               "
      ]
     },
     "execution_count": 18,
     "metadata": {},
     "output_type": "execute_result"
    }
   ],
   "source": [
    "U.diff(theta).simplify()"
   ]
  },
  {
   "cell_type": "code",
   "execution_count": 19,
   "metadata": {
    "collapsed": false
   },
   "outputs": [
    {
     "data": {
      "image/png": "[encoded data removed]",
      "text/latex": [
       "$$\\frac{g m}{2} \\left(- h \\operatorname{sin}\\left(\\theta\\right) + 2 r \\theta \\operatorname{cos}\\left(\\theta\\right)\\right)$$"
      ],
      "text/plain": [
       "g⋅m⋅(-h⋅sin(θ) + 2⋅r⋅θ⋅cos(θ))\n",
       "──────────────────────────────\n",
       "              2               "
      ]
     },
     "execution_count": 19,
     "metadata": {},
     "output_type": "execute_result"
    }
   ],
   "source": [
    "(m * g * ((r + h / 2) * cos(theta) + r * theta * sin(theta))).diff(theta).simplify()"
   ]
  },
  {
   "cell_type": "code",
   "execution_count": 20,
   "metadata": {
    "collapsed": true
   },
   "outputs": [],
   "source": [
    "L = T - U"
   ]
  },
  {
   "cell_type": "code",
   "execution_count": 21,
   "metadata": {
    "collapsed": false
   },
   "outputs": [
    {
     "data": {
      "image/png": "[encoded data removed]",
      "text/latex": [
       "$$- \\frac{g h}{2} m \\operatorname{sin}\\left(\\theta\\right) + g m r \\theta \\operatorname{cos}\\left(\\theta\\right) + \\frac{h^{2} m}{3} \\ddot{\\theta} + \\frac{l^{2} m}{12} \\ddot{\\theta} + m r^{2} \\theta^{2} \\ddot{\\theta} + m r^{2} \\theta \\dot{\\theta}^{2}$$"
      ],
      "text/plain": [
       "                                   2         2                               \n",
       "  g⋅h⋅m⋅sin(θ)                    h ⋅m⋅θ̈   l ⋅m⋅θ̈      2  2         2     2\n",
       "- ──────────── + g⋅m⋅r⋅θ⋅cos(θ) + ─────── + ─────── + m⋅r ⋅θ ⋅θ̈ + m⋅r ⋅θ⋅θ̇ \n",
       "       2                             3         12                            "
      ]
     },
     "execution_count": 21,
     "metadata": {},
     "output_type": "execute_result"
    }
   ],
   "source": [
    "eom = L.diff(theta.diff()).diff(dynamicsymbols._t) - L.diff(theta)\n",
    "eom.simplify().expand()"
   ]
  },
  {
   "cell_type": "code",
   "execution_count": 22,
   "metadata": {
    "collapsed": false
   },
   "outputs": [
    {
     "data": {
      "image/png": "[encoded data removed]",
      "text/latex": [
       "$$- 6 g h \\operatorname{sin}\\left(\\theta\\right) + 12 g r \\theta \\operatorname{cos}\\left(\\theta\\right) + 4 h^{2} \\ddot{\\theta} + l^{2} \\ddot{\\theta} + 12 r^{2} \\theta^{2} \\ddot{\\theta} + 12 r^{2} \\theta \\dot{\\theta}^{2}$$"
      ],
      "text/plain": [
       "                                     2       2          2  2          2     2\n",
       "-6⋅g⋅h⋅sin(θ) + 12⋅g⋅r⋅θ⋅cos(θ) + 4⋅h ⋅θ̈ + l ⋅θ̈ + 12⋅r ⋅θ ⋅θ̈ + 12⋅r ⋅θ⋅θ̇ "
      ]
     },
     "execution_count": 22,
     "metadata": {},
     "output_type": "execute_result"
    }
   ],
   "source": [
    "eom.simplify() / m * 12"
   ]
  },
  {
   "cell_type": "code",
   "execution_count": 23,
   "metadata": {
    "collapsed": false
   },
   "outputs": [
    {
     "data": {
      "image/png": "[encoded data removed]",
      "text/latex": [
       "$$\\frac{h^{2} m}{3} + \\frac{l^{2} m}{12} + m r^{2} \\theta^{2}$$"
      ],
      "text/plain": [
       " 2      2            \n",
       "h ⋅m   l ⋅m      2  2\n",
       "──── + ──── + m⋅r ⋅θ \n",
       " 3      12           "
      ]
     },
     "execution_count": 23,
     "metadata": {},
     "output_type": "execute_result"
    }
   ],
   "source": [
    "Istar = eom.expand().coeff(theta.diff().diff())\n",
    "Istar"
   ]
  },
  {
   "cell_type": "code",
   "execution_count": 24,
   "metadata": {
    "collapsed": false
   },
   "outputs": [
    {
     "data": {
      "image/png": "[encoded data removed]",
      "text/latex": [
       "$$\\frac{m}{2} \\left(- g h \\operatorname{sin}\\left(\\theta\\right) + 2 g r \\theta \\operatorname{cos}\\left(\\theta\\right) + 2 r^{2} \\theta \\dot{\\theta}^{2}\\right)$$"
      ],
      "text/plain": [
       "  ⎛                                  2     2⎞\n",
       "m⋅⎝-g⋅h⋅sin(θ) + 2⋅g⋅r⋅θ⋅cos(θ) + 2⋅r ⋅θ⋅θ̇ ⎠\n",
       "─────────────────────────────────────────────\n",
       "                      2                      "
      ]
     },
     "execution_count": 24,
     "metadata": {},
     "output_type": "execute_result"
    }
   ],
   "source": [
    "(eom - Istar * theta.diff().diff()).simplify()"
   ]
  },
  {
   "cell_type": "code",
   "execution_count": 25,
   "metadata": {
    "collapsed": false
   },
   "outputs": [
    {
     "data": {
      "image/png": "[encoded data removed]",
      "text/latex": [
       "$$- \\frac{g h}{2} \\theta + g r \\theta + \\frac{h^{2} \\ddot{\\theta}}{3} + \\frac{l^{2} \\ddot{\\theta}}{12}$$"
      ],
      "text/plain": [
       "                   2       2   \n",
       "  g⋅h⋅θ           h ⋅θ̈   l ⋅θ̈\n",
       "- ───── + g⋅r⋅θ + ───── + ─────\n",
       "    2               3       12 "
      ]
     },
     "execution_count": 25,
     "metadata": {},
     "output_type": "execute_result"
    }
   ],
   "source": [
    "lin_eom = eom.subs({cos(theta): 1, sin(theta): theta, theta**2: 0, theta.diff()**2: 0}).simplify()\n",
    "(lin_eom.expand() / m).simplify()"
   ]
  },
  {
   "cell_type": "code",
   "execution_count": 26,
   "metadata": {
    "collapsed": false
   },
   "outputs": [
    {
     "data": {
      "image/png": "[encoded data removed]",
      "text/latex": [
       "$$\\left ( \\frac{h^{2} m}{3} + \\frac{l^{2} m}{12}, \\quad - \\frac{g h}{2} m + g m r\\right )$$"
      ],
      "text/plain": [
       "⎛ 2      2                   ⎞\n",
       "⎜h ⋅m   l ⋅m    g⋅h⋅m        ⎟\n",
       "⎜──── + ────, - ───── + g⋅m⋅r⎟\n",
       "⎝ 3      12       2          ⎠"
      ]
     },
     "execution_count": 26,
     "metadata": {},
     "output_type": "execute_result"
    }
   ],
   "source": [
    "m_ = lin_eom.expand().coeff(theta.diff().diff())\n",
    "k_ = lin_eom.expand().coeff(theta)\n",
    "m_, k_"
   ]
  },
  {
   "cell_type": "code",
   "execution_count": 27,
   "metadata": {
    "collapsed": false
   },
   "outputs": [
    {
     "data": {
      "image/png": "[encoded data removed]",
      "text/latex": [
       "$$\\frac{\\sqrt{6} \\sqrt{g} \\sqrt{- h + 2 r}}{\\sqrt{4 h^{2} + l^{2}}}$$"
      ],
      "text/plain": [
       "        __________\n",
       "√6⋅√g⋅╲╱ -h + 2⋅r \n",
       "──────────────────\n",
       "     ___________  \n",
       "    ╱    2    2   \n",
       "  ╲╱  4⋅h  + l    "
      ]
     },
     "execution_count": 27,
     "metadata": {},
     "output_type": "execute_result"
    }
   ],
   "source": [
    "sqrt(k_ / m_).simplify()"
   ]
  },
  {
   "cell_type": "markdown",
   "metadata": {},
   "source": [
    "Stability"
   ]
  },
  {
   "cell_type": "code",
   "execution_count": 28,
   "metadata": {
    "collapsed": false
   },
   "outputs": [
    {
     "data": {
      "image/png": "[encoded data removed]",
      "text/latex": [
       "$$- \\frac{h}{2} + r$$"
      ],
      "text/plain": [
       "  h    \n",
       "- ─ + r\n",
       "  2    "
      ]
     },
     "execution_count": 28,
     "metadata": {},
     "output_type": "execute_result"
    }
   ],
   "source": [
    "(k_ / m / g).simplify()"
   ]
  },
  {
   "cell_type": "code",
   "execution_count": 29,
   "metadata": {
    "collapsed": true
   },
   "outputs": [],
   "source": [
    "ct = cos(theta)\n",
    "st = sin(theta)\n",
    "I_ = r * r * theta * theta + h * h / 3 + l * l / 12\n",
    "eom_mont = -(r * r * theta.diff() * theta.diff() * theta + g * (r * theta * ct - h * st / 2)) / I_"
   ]
  },
  {
   "cell_type": "code",
   "execution_count": 30,
   "metadata": {
    "collapsed": false
   },
   "outputs": [
    {
     "data": {
      "image/png": "[encoded data removed]",
      "text/latex": [
       "$$\\frac{h^{2}}{3} + \\frac{l^{2}}{12} + r^{2} \\theta^{2}$$"
      ],
      "text/plain": [
       " 2    2        \n",
       "h    l     2  2\n",
       "── + ── + r ⋅θ \n",
       "3    12        "
      ]
     },
     "execution_count": 30,
     "metadata": {},
     "output_type": "execute_result"
    }
   ],
   "source": [
    "I_"
   ]
  },
  {
   "cell_type": "code",
   "execution_count": 31,
   "metadata": {
    "collapsed": false
   },
   "outputs": [
    {
     "data": {
      "image/png": "[encoded data removed]",
      "text/latex": [
       "$$\\frac{6 g \\left(h \\operatorname{sin}\\left(\\theta\\right) - 2 r \\theta \\operatorname{cos}\\left(\\theta\\right)\\right) - 12 r^{2} \\theta \\dot{\\theta}^{2}}{4 h^{2} + l^{2} + 12 r^{2} \\theta^{2}}$$"
      ],
      "text/plain": [
       "  ⎛                                 2     2⎞\n",
       "6⋅⎝g⋅(h⋅sin(θ) - 2⋅r⋅θ⋅cos(θ)) - 2⋅r ⋅θ⋅θ̇ ⎠\n",
       "────────────────────────────────────────────\n",
       "               2    2       2  2            \n",
       "            4⋅h  + l  + 12⋅r ⋅θ             "
      ]
     },
     "execution_count": 31,
     "metadata": {},
     "output_type": "execute_result"
    }
   ],
   "source": [
    "eom_mont.simplify()"
   ]
  },
  {
   "cell_type": "code",
   "execution_count": 32,
   "metadata": {
    "collapsed": false
   },
   "outputs": [
    {
     "data": {
      "image/png": "[encoded data removed]",
      "text/latex": [
       "$$0$$"
      ],
      "text/plain": [
       "0"
      ]
     },
     "execution_count": 32,
     "metadata": {},
     "output_type": "execute_result"
    }
   ],
   "source": [
    "(-eom_mont * I_ + I_ * theta.diff().diff() - eom / m).simplify()"
   ]
  },
  {
   "cell_type": "code",
   "execution_count": 33,
   "metadata": {
    "collapsed": false
   },
   "outputs": [
    {
     "data": {
      "image/png": "[encoded data removed]",
      "text/latex": [
       "$$- 6 g h \\operatorname{sin}\\left(\\theta\\right) + 12 g r \\theta \\operatorname{cos}\\left(\\theta\\right) + 4 h^{2} \\ddot{\\theta} + l^{2} \\ddot{\\theta} + 12 r^{2} \\theta^{2} \\ddot{\\theta} + 12 r^{2} \\theta \\dot{\\theta}^{2}$$"
      ],
      "text/plain": [
       "                                     2       2          2  2          2     2\n",
       "-6⋅g⋅h⋅sin(θ) + 12⋅g⋅r⋅θ⋅cos(θ) + 4⋅h ⋅θ̈ + l ⋅θ̈ + 12⋅r ⋅θ ⋅θ̈ + 12⋅r ⋅θ⋅θ̇ "
      ]
     },
     "execution_count": 33,
     "metadata": {},
     "output_type": "execute_result"
    }
   ],
   "source": [
    "(eom / m * 12).simplify()"
   ]
  }
 ],
 "metadata": {
  "anaconda-cloud": {},
  "kernelspec": {
   "display_name": "Python [default]",
   "language": "python",
   "name": "python3"
  },
  "language_info": {
   "codemirror_mode": {
    "name": "ipython",
    "version": 3
   },
   "file_extension": ".py",
   "mimetype": "text/x-python",
   "name": "python",
   "nbconvert_exporter": "python",
   "pygments_lexer": "ipython3",
   "version": "3.5.2"
  }
 },
 "nbformat": 4,
 "nbformat_minor": 1
}
