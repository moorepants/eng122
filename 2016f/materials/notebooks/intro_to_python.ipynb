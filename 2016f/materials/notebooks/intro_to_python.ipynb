{
 "cells": [
  {
   "cell_type": "markdown",
   "metadata": {},
   "source": [
    "# Introduction to Python\n",
    "\n",
    "In this session, we're going to be following chapter 1 of scipy-lectures (with some small changes and omissions).\n",
    "\n",
    "http://scipy-lectures.org"
   ]
  },
  {
   "cell_type": "markdown",
   "metadata": {},
   "source": [
    "## Basic Stuff"
   ]
  },
  {
   "cell_type": "code",
   "execution_count": 1,
   "metadata": {
    "collapsed": false,
    "scrolled": true
   },
   "outputs": [
    {
     "name": "stdout",
     "output_type": "stream",
     "text": [
      "hello\n",
      "5\n"
     ]
    }
   ],
   "source": [
    "# comment\n",
    "print(\"hello\")\n",
    "a = 5\n",
    "print(a)"
   ]
  },
  {
   "cell_type": "markdown",
   "metadata": {},
   "source": [
    "Here are some numerical *types*"
   ]
  },
  {
   "cell_type": "code",
   "execution_count": 2,
   "metadata": {
    "collapsed": false
   },
   "outputs": [
    {
     "name": "stdout",
     "output_type": "stream",
     "text": [
      "<class 'int'>\n",
      "<class 'float'>\n",
      "<class 'bool'>\n"
     ]
    }
   ],
   "source": [
    "a = 4\n",
    "print(type(a))\n",
    "\n",
    "b = 2.1\n",
    "print(type(b))\n",
    "\n",
    "c = True\n",
    "print(type(c))"
   ]
  },
  {
   "cell_type": "markdown",
   "metadata": {},
   "source": [
    "You can do some basic math with these types"
   ]
  },
  {
   "cell_type": "code",
   "execution_count": 3,
   "metadata": {
    "collapsed": false
   },
   "outputs": [
    {
     "name": "stdout",
     "output_type": "stream",
     "text": [
      "21\n",
      "16\n",
      "0.75\n"
     ]
    }
   ],
   "source": [
    "a = 7 * 3 # multiplication\n",
    "print(a)\n",
    "\n",
    "b = 2 ** 4 # exponentiation (note it's not ^)\n",
    "print(b)\n",
    "\n",
    "c = 3 / 4 # division\n",
    "print(c)"
   ]
  },
  {
   "cell_type": "markdown",
   "metadata": {},
   "source": [
    "## Containers"
   ]
  },
  {
   "cell_type": "markdown",
   "metadata": {},
   "source": [
    "### Lists\n",
    "\n",
    "Lists are ordered collections of objects. They may have different types."
   ]
  },
  {
   "cell_type": "code",
   "execution_count": 4,
   "metadata": {
    "collapsed": false
   },
   "outputs": [
    {
     "name": "stdout",
     "output_type": "stream",
     "text": [
      "[1, 2, 3, 4.0, 'hello']\n"
     ]
    }
   ],
   "source": [
    "l = [1, 2, 3, 4.0, 'hello']\n",
    "print(l)"
   ]
  },
  {
   "cell_type": "markdown",
   "metadata": {},
   "source": [
    "You can access elements of lists by their index.\n",
    "\n",
    "**Note**: indexes start at 0 in Python"
   ]
  },
  {
   "cell_type": "code",
   "execution_count": 5,
   "metadata": {
    "collapsed": false
   },
   "outputs": [
    {
     "name": "stdout",
     "output_type": "stream",
     "text": [
      "4.0\n"
     ]
    }
   ],
   "source": [
    "a = l[3]\n",
    "print(a)"
   ]
  },
  {
   "cell_type": "markdown",
   "metadata": {},
   "source": [
    "Lists can be *sliced*, meaning you can access multiple elements at once.\n",
    "\n",
    "Slicing works like `l[start:stop:stride]`, and all slicing parameter are optional.\n",
    "\n",
    "**Note**: the index specified by `stop` is *not* included"
   ]
  },
  {
   "cell_type": "code",
   "execution_count": 6,
   "metadata": {
    "collapsed": false
   },
   "outputs": [
    {
     "name": "stdout",
     "output_type": "stream",
     "text": [
      "[2, 3, 4.0]\n"
     ]
    }
   ],
   "source": [
    "s = l[1:4] # start = 1, stop = 4, stride = default (1)\n",
    "print(s)"
   ]
  },
  {
   "cell_type": "code",
   "execution_count": 7,
   "metadata": {
    "collapsed": false
   },
   "outputs": [
    {
     "name": "stdout",
     "output_type": "stream",
     "text": [
      "[1, 2, 3]\n"
     ]
    }
   ],
   "source": [
    "s = l[:3] # start = default (0), stop = 3, stride = default (1)\n",
    "print(s)"
   ]
  },
  {
   "cell_type": "code",
   "execution_count": 8,
   "metadata": {
    "collapsed": false
   },
   "outputs": [
    {
     "name": "stdout",
     "output_type": "stream",
     "text": [
      "[1, 3, 'hello']\n"
     ]
    }
   ],
   "source": [
    "s = l[::2] # start = default (0), stop = default (end), stride = 2\n",
    "print(s)"
   ]
  },
  {
   "cell_type": "markdown",
   "metadata": {},
   "source": [
    "Lists are *mutable*, meaning they can be changed.\n",
    "\n",
    "**Note**: if you change your lists in a Jupyter notebook and run your cells out of order, you might get unexpected results!"
   ]
  },
  {
   "cell_type": "code",
   "execution_count": 9,
   "metadata": {
    "collapsed": false
   },
   "outputs": [
    {
     "name": "stdout",
     "output_type": "stream",
     "text": [
      "[1, 5, 3, 4.0, 'hello']\n"
     ]
    }
   ],
   "source": [
    "l[1] = 5\n",
    "print(l)"
   ]
  },
  {
   "cell_type": "markdown",
   "metadata": {},
   "source": [
    "Lists can be appended to and expanded."
   ]
  },
  {
   "cell_type": "code",
   "execution_count": 10,
   "metadata": {
    "collapsed": false
   },
   "outputs": [
    {
     "name": "stdout",
     "output_type": "stream",
     "text": [
      "[1, 2, 3]\n",
      "[1, 2, 3, 4]\n",
      "[1, 2, 3, 4, -1, -2]\n"
     ]
    }
   ],
   "source": [
    "l = [1, 2, 3]\n",
    "print(l)\n",
    "\n",
    "l.append(4) # append single elements\n",
    "print(l)\n",
    "\n",
    "l.extend([-1, -2]) # extend a list\n",
    "print(l)"
   ]
  },
  {
   "cell_type": "markdown",
   "metadata": {},
   "source": [
    "Arithmetic operations also work on lists, but they *don't* do \"matrix math\" (we'll use numpy for that)."
   ]
  },
  {
   "cell_type": "code",
   "execution_count": 11,
   "metadata": {
    "collapsed": false
   },
   "outputs": [
    {
     "name": "stdout",
     "output_type": "stream",
     "text": [
      "[1, 2, 3, 6, 7, 8]\n",
      "[1, 2, 3, 1, 2, 3]\n"
     ]
    }
   ],
   "source": [
    "a = [1, 2, 3]\n",
    "b = [6, 7, 8]\n",
    "\n",
    "c = a + b # concatenates a and b into a single list\n",
    "print(c)\n",
    "\n",
    "d = 2 * a\n",
    "print(d)"
   ]
  },
  {
   "cell_type": "markdown",
   "metadata": {},
   "source": [
    "### Strings\n",
    "\n",
    "Strings can be specified in a few different ways."
   ]
  },
  {
   "cell_type": "code",
   "execution_count": 12,
   "metadata": {
    "collapsed": false
   },
   "outputs": [
    {
     "name": "stdout",
     "output_type": "stream",
     "text": [
      "hello\n",
      "hello\n"
     ]
    }
   ],
   "source": [
    "s = \"hello\" # double quotes\n",
    "print(s)\n",
    "\n",
    "t = 'hello' # single quotes\n",
    "print(t)"
   ]
  },
  {
   "cell_type": "markdown",
   "metadata": {},
   "source": [
    "Strings can be used flexibly to print variables neatly."
   ]
  },
  {
   "cell_type": "code",
   "execution_count": 13,
   "metadata": {
    "collapsed": false
   },
   "outputs": [
    {
     "name": "stdout",
     "output_type": "stream",
     "text": [
      "a is 1 and b is 2.44\n"
     ]
    }
   ],
   "source": [
    "a = 1\n",
    "b = 2.4397248\n",
    "print(\"a is {} and b is {:.2f}\".format(a, b))"
   ]
  },
  {
   "cell_type": "markdown",
   "metadata": {},
   "source": [
    "### Dictionaries\n",
    "\n",
    "Dictionaries store a mapping from *keys* to *values*.\n",
    "\n",
    "You access the elements in a dictionary by their *key* instead of an index."
   ]
  },
  {
   "cell_type": "code",
   "execution_count": 14,
   "metadata": {
    "collapsed": false
   },
   "outputs": [
    {
     "name": "stdout",
     "output_type": "stream",
     "text": [
      "{'last': 'Lyons', 'first': 'Kenneth', 'age': 25}\n",
      "Lyons\n"
     ]
    }
   ],
   "source": [
    "# syntax: dictionary = {key : value, key: value, ...}\n",
    "d = {'first': 'Kenneth', 'last': 'Lyons', 'age': 25}\n",
    "print(d)\n",
    "\n",
    "last_name = d['last']\n",
    "print(last_name)"
   ]
  },
  {
   "cell_type": "markdown",
   "metadata": {},
   "source": [
    "## Control Flow"
   ]
  },
  {
   "cell_type": "markdown",
   "metadata": {},
   "source": [
    "### if/elif/else\n",
    "\n",
    "Conditionally execute blocks of code.\n",
    "\n",
    "**Note**: whitespace (indentation) is important in Python"
   ]
  },
  {
   "cell_type": "code",
   "execution_count": 15,
   "metadata": {
    "collapsed": false
   },
   "outputs": [
    {
     "name": "stdout",
     "output_type": "stream",
     "text": [
      "a is less than six, but it is not equal to three\n"
     ]
    }
   ],
   "source": [
    "a = 5\n",
    "if a == 3:\n",
    "    print(\"a is three\")\n",
    "elif a < 6:\n",
    "    print(\"a is less than six, but it is not equal to three\")\n",
    "else:\n",
    "    print(\"a is greater than or equal to 6\")"
   ]
  },
  {
   "cell_type": "markdown",
   "metadata": {},
   "source": [
    "### for\n",
    "\n",
    "You can iterate over things with `for`"
   ]
  },
  {
   "cell_type": "code",
   "execution_count": 16,
   "metadata": {
    "collapsed": false
   },
   "outputs": [
    {
     "name": "stdout",
     "output_type": "stream",
     "text": [
      "1\n",
      "3\n",
      "6\n",
      "2\n"
     ]
    }
   ],
   "source": [
    "my_list = [1, 3, 6, 2]\n",
    "for element in my_list:\n",
    "    # element refers to the current element in my_list\n",
    "    print(element)"
   ]
  },
  {
   "cell_type": "markdown",
   "metadata": {},
   "source": [
    "The `range` function can be used to iterate over a specific set of numbers without creating a list"
   ]
  },
  {
   "cell_type": "code",
   "execution_count": 17,
   "metadata": {
    "collapsed": false
   },
   "outputs": [
    {
     "name": "stdout",
     "output_type": "stream",
     "text": [
      "1\n",
      "4\n",
      "7\n"
     ]
    }
   ],
   "source": [
    "for index in range(1, 10, 3): # range takes start (default is 0), stop, and stride parameters (default is 1)\n",
    "    print(index)"
   ]
  },
  {
   "cell_type": "markdown",
   "metadata": {},
   "source": [
    "The `break` command can be used to exit a loop"
   ]
  },
  {
   "cell_type": "code",
   "execution_count": 18,
   "metadata": {
    "collapsed": false
   },
   "outputs": [
    {
     "name": "stdout",
     "output_type": "stream",
     "text": [
      "4\n",
      "2\n",
      "7\n",
      "8\n",
      "210\n"
     ]
    }
   ],
   "source": [
    "l = [4, 2, 7, 8, 210, 1000]\n",
    "for element in l:\n",
    "    print(element)\n",
    "    if element > 10:\n",
    "        break"
   ]
  },
  {
   "cell_type": "markdown",
   "metadata": {},
   "source": [
    "The `continue` command can be used to skip the rest of the loop body and move on to the next element."
   ]
  },
  {
   "cell_type": "code",
   "execution_count": 19,
   "metadata": {
    "collapsed": false
   },
   "outputs": [
    {
     "name": "stdout",
     "output_type": "stream",
     "text": [
      "4\n",
      "2\n",
      "8\n",
      "210\n",
      "1000\n"
     ]
    }
   ],
   "source": [
    "for element in l:\n",
    "    if element == 7:\n",
    "        continue # don't run the print statement below\n",
    "    print(element)"
   ]
  },
  {
   "cell_type": "markdown",
   "metadata": {},
   "source": [
    "#### Useful tip\n",
    "\n",
    "You pretty much never need to create indexing variables and increment them yourself.\n",
    "\n",
    "You can keep track of an index variable in a loop using `enumerate`"
   ]
  },
  {
   "cell_type": "code",
   "execution_count": 20,
   "metadata": {
    "collapsed": false
   },
   "outputs": [
    {
     "name": "stdout",
     "output_type": "stream",
     "text": [
      "index is 0, element is 1\n",
      "index is 1, element is 2\n",
      "index is 2, element is 3\n",
      "index is 3, element is 4\n"
     ]
    }
   ],
   "source": [
    "l = [1, 2, 3, 4]\n",
    "for index, element in enumerate(l):\n",
    "    print(\"index is {}, element is {}\".format(index, element))"
   ]
  },
  {
   "cell_type": "markdown",
   "metadata": {},
   "source": [
    "## functions"
   ]
  },
  {
   "cell_type": "markdown",
   "metadata": {},
   "source": [
    "### Defining Functions\n",
    "\n",
    "Use `def` keyword to define a function.\n",
    "\n",
    "Function blocks must be indented like in `if`/`elif`/`else` and `for` blocks."
   ]
  },
  {
   "cell_type": "code",
   "execution_count": 21,
   "metadata": {
    "collapsed": false
   },
   "outputs": [
    {
     "name": "stdout",
     "output_type": "stream",
     "text": [
      "running function\n",
      "running function\n"
     ]
    }
   ],
   "source": [
    "def function():\n",
    "    # this is the \"function block\"\n",
    "    print(\"running function\")\n",
    "\n",
    "# call the function as much as you want\n",
    "function()\n",
    "function()"
   ]
  },
  {
   "cell_type": "markdown",
   "metadata": {},
   "source": [
    "Functions can take inputs (arguments) and return things."
   ]
  },
  {
   "cell_type": "code",
   "execution_count": 22,
   "metadata": {
    "collapsed": false
   },
   "outputs": [
    {
     "name": "stdout",
     "output_type": "stream",
     "text": [
      "7.065\n",
      "16.610599999999998\n"
     ]
    }
   ],
   "source": [
    "def disk_area(radius):\n",
    "    area = 3.14 * radius**2\n",
    "    return area\n",
    "\n",
    "print(disk_area(1.5))\n",
    "print(disk_area(2.3))"
   ]
  },
  {
   "cell_type": "markdown",
   "metadata": {},
   "source": [
    "Functions can also take *optional* arguments that you specify a default value for."
   ]
  },
  {
   "cell_type": "code",
   "execution_count": 23,
   "metadata": {
    "collapsed": false
   },
   "outputs": [
    {
     "name": "stdout",
     "output_type": "stream",
     "text": [
      "4\n",
      "12\n"
     ]
    }
   ],
   "source": [
    "def multiply(num, multiplier=1):\n",
    "    return multiplier * num\n",
    "\n",
    "a = multiply(4) # by default, it just multiplies by 1\n",
    "print(a)\n",
    "b = multiply(4, multiplier=3) # specify a non-default value\n",
    "print(b)"
   ]
  },
  {
   "cell_type": "markdown",
   "metadata": {
    "collapsed": true
   },
   "source": [
    "**Note**: functions that take in a list and modify it affect the original list you pass in"
   ]
  },
  {
   "cell_type": "code",
   "execution_count": 24,
   "metadata": {
    "collapsed": false
   },
   "outputs": [
    {
     "name": "stdout",
     "output_type": "stream",
     "text": [
      "[1, 2, 3]\n",
      "[0, 2, 3]\n"
     ]
    }
   ],
   "source": [
    "def modify_list(list_to_modify):\n",
    "    list_to_modify[0] = 0\n",
    "            \n",
    "a = [1, 2, 3]\n",
    "print(a)\n",
    "\n",
    "modify_list(a)\n",
    "print(a)"
   ]
  },
  {
   "cell_type": "markdown",
   "metadata": {},
   "source": [
    "### Docstrings\n",
    "\n",
    "Docstrings are special comments in function blocks which allow you to describe what the function does."
   ]
  },
  {
   "cell_type": "code",
   "execution_count": 25,
   "metadata": {
    "collapsed": true
   },
   "outputs": [],
   "source": [
    "def function(arg):\n",
    "    \"\"\"One-line sentence describing the function.\n",
    "    \n",
    "    More detailed description of what it does. Docstrings are\n",
    "    a very important part of writing code that someone else can\n",
    "    use...sometimes \"someone else\" means you in the future.\n",
    "    \n",
    "    You'll usually also want to describe the arguments and the\n",
    "    return value of the function.\n",
    "    \"\"\"\n",
    "    return 1"
   ]
  },
  {
   "cell_type": "markdown",
   "metadata": {},
   "source": [
    "Docstrings allow you to read about what a function does without reading the source code."
   ]
  },
  {
   "cell_type": "code",
   "execution_count": 26,
   "metadata": {
    "collapsed": false
   },
   "outputs": [
    {
     "name": "stdout",
     "output_type": "stream",
     "text": [
      "Help on function function in module __main__:\n",
      "\n",
      "function(arg)\n",
      "    One-line sentence describing the function.\n",
      "    \n",
      "    More detailed description of what it does. Docstrings are\n",
      "    a very important part of writing code that someone else can\n",
      "    use...sometimes \"someone else\" means you in the future.\n",
      "    \n",
      "    You'll usually also want to describe the arguments and the\n",
      "    return value of the function.\n",
      "\n"
     ]
    }
   ],
   "source": [
    "help(function)"
   ]
  },
  {
   "cell_type": "markdown",
   "metadata": {},
   "source": [
    "Jupyter notebooks also allow you to use a question mark to read the help in a separate window."
   ]
  },
  {
   "cell_type": "code",
   "execution_count": 27,
   "metadata": {
    "collapsed": true
   },
   "outputs": [],
   "source": [
    "function?"
   ]
  },
  {
   "cell_type": "markdown",
   "metadata": {},
   "source": [
    "## Re-Using Code"
   ]
  },
  {
   "cell_type": "markdown",
   "metadata": {},
   "source": [
    "### Scripts\n",
    "\n",
    "You don't have to write Python code in a jupyter notebook. You can write files with the extension `.py` and run them as scripts."
   ]
  },
  {
   "cell_type": "markdown",
   "metadata": {},
   "source": [
    "Create a file called `script.py`\n",
    "\n",
    "```python\n",
    "print(\"hello\")\n",
    "\n",
    "a = 1.3\n",
    "b = 4 * a\n",
    "\n",
    "print(b)\n",
    "```"
   ]
  },
  {
   "cell_type": "code",
   "execution_count": 28,
   "metadata": {
    "collapsed": false
   },
   "outputs": [],
   "source": [
    "%run script.py"
   ]
  },
  {
   "cell_type": "markdown",
   "metadata": {},
   "source": [
    "### Modules\n",
    "\n",
    "Modules are a great way to re-use code between separate notebooks and/or scripts.\n",
    "\n",
    "Python has many modules built -- its \"standard library\" is extensive\n",
    "\n",
    "https://docs.python.org/3/library/"
   ]
  },
  {
   "cell_type": "code",
   "execution_count": 29,
   "metadata": {
    "collapsed": false
   },
   "outputs": [
    {
     "name": "stdout",
     "output_type": "stream",
     "text": [
      "Thu Sep 22 09:03:41 2016\n"
     ]
    }
   ],
   "source": [
    "import time\n",
    "\n",
    "current_time = time.asctime()\n",
    "print(current_time)"
   ]
  },
  {
   "cell_type": "markdown",
   "metadata": {},
   "source": [
    "You can (and should!) write your own modules. They are imported the same way."
   ]
  },
  {
   "cell_type": "markdown",
   "metadata": {},
   "source": [
    "Create a file called `module.py`\n",
    "\n",
    "```python\n",
    "some_variable = 6\n",
    "\n",
    "def square(x):\n",
    "    return x**2\n",
    "```"
   ]
  },
  {
   "cell_type": "code",
   "execution_count": null,
   "metadata": {
    "collapsed": false
   },
   "outputs": [],
   "source": [
    "import module\n",
    "\n",
    "# you can access variables defined in the module\n",
    "print(module.some_variable)\n",
    "\n",
    "# you can use functions defined in the module\n",
    "two_squared = module.square(2)\n",
    "print(two_squared)"
   ]
  },
  {
   "cell_type": "markdown",
   "metadata": {},
   "source": [
    "## Input and Output"
   ]
  },
  {
   "cell_type": "markdown",
   "metadata": {},
   "source": [
    "### Reading a File\n",
    "\n",
    "You can read a file into a string"
   ]
  },
  {
   "cell_type": "markdown",
   "metadata": {},
   "source": [
    "Create a file `file.txt`\n",
    "\n",
    "```\n",
    "first line\n",
    "second line\n",
    "third line\n",
    "```"
   ]
  },
  {
   "cell_type": "code",
   "execution_count": null,
   "metadata": {
    "collapsed": false
   },
   "outputs": [],
   "source": [
    "f = open('file.txt', 'r') # 'r' stands for \"read\"\n",
    "file_contents = f.read()\n",
    "print(file_contents)\n",
    "f.close() # remember to close the file when you're done with it"
   ]
  },
  {
   "cell_type": "markdown",
   "metadata": {},
   "source": [
    "You can also iterate over a file line by line"
   ]
  },
  {
   "cell_type": "code",
   "execution_count": null,
   "metadata": {
    "collapsed": false
   },
   "outputs": [],
   "source": [
    "f = open('file.txt', 'r')\n",
    "for line in f:\n",
    "    print(line)\n",
    "f.close()"
   ]
  }
 ],
 "metadata": {
  "kernelspec": {
   "display_name": "Python 3",
   "language": "python",
   "name": "python3"
  },
  "language_info": {
   "codemirror_mode": {
    "name": "ipython",
    "version": 3
   },
   "file_extension": ".py",
   "mimetype": "text/x-python",
   "name": "python",
   "nbconvert_exporter": "python",
   "pygments_lexer": "ipython3",
   "version": "3.5.2"
  }
 },
 "nbformat": 4,
 "nbformat_minor": 0
}
