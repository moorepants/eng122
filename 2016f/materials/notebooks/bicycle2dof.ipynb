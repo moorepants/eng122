{
 "cells": [
  {
   "cell_type": "markdown",
   "metadata": {},
   "source": [
    "One of the simplest models that can predict the fundamental free motion of a bicycle or motorcycle takes the following form:\n",
    "\n",
    "$$\n",
    "\\mathbf{M\\ddot{q}}\n",
    "+v\\mathbf{C}_1\\mathbf{\\dot{q}}\n",
    "+\\left[g\\mathbf{K}_0\n",
    "+v^2\\mathbf{K}_2\\right]\\mathbf{q}\n",
    "=0\n",
    "$$\n",
    "\n",
    "where\n",
    "\n",
    "$$\n",
    "\\mathbf{q} =\n",
    "[\\phi \\quad \\delta]^T\n",
    "$$\n",
    "\n",
    "$\\delta$ is a generalized coordinate that tracks the angle between the front frame (handlebar/fork) and the rear frame (frame, seat, etc) and $\\phi$ is a generalized coordinate that tracks the roll angle of the rear frame relative to the ground. If each of these are zero the bicycle is standing upright and the steering is pointed straight ahead. Positive steer angle is to the right and negative steer angle is to the left. Positive roll is to the right and negative to the left."
   ]
  },
  {
   "cell_type": "markdown",
   "metadata": {},
   "source": [
    "The system has a mass matrix, $\\mathbf{M}$, and effective damping and stiffness matrices that are parameterized by the speed of the bicycle $v$ and the acceleration due to gravity $g$. Typical values for the four matrices in SI units are:\n",
    "\n",
    "$$\n",
    "\\mathbf{M} =\n",
    "\\begin{bmatrix}\n",
    "80.81722 & 2.31941332208709 \\\\\n",
    "2.31941332208709 & 0.29784188199686\n",
    "\\end{bmatrix}\n",
    "$$\n",
    "\n",
    "$$\n",
    "\\mathbf{K}_0 =\n",
    "\\begin{bmatrix}\n",
    "-80.95 & -2.599516 852 498 72 \\\\\n",
    "-2.599516 852 498 72 & -0.803 294 884 586 18\n",
    "\\end{bmatrix}\n",
    "$$\n",
    "\n",
    "$$\n",
    "\\mathbf{K}_2 =\n",
    "\\begin{bmatrix}\n",
    "0 & 76.597 345 895 732 22 \\\\\n",
    "0 & 2.654 315 237 946 04\n",
    "\\end{bmatrix}\n",
    "$$\n",
    "\n",
    "$$\n",
    "\\mathbf{C}_1 =\n",
    "\\begin{bmatrix}\n",
    "0 & 33.866 414 914 924 94 \\\\\n",
    "-0.850 356 414 569 78 & 1.685 403 973 975 60\n",
    "\\end{bmatrix}\n",
    "$$\n",
    "\n",
    "The speed $v$ is in meters per second and $g$ is in meters per second squared."
   ]
  },
  {
   "cell_type": "code",
   "execution_count": null,
   "metadata": {
    "collapsed": true
   },
   "outputs": [],
   "source": [
    "import numpy as np"
   ]
  },
  {
   "cell_type": "markdown",
   "metadata": {},
   "source": [
    "# Eigenvalues and Eigenvectors\n",
    "\n",
    "In the previous class we learned that the free response of the system can be formulated by solving an eigenvalue problem. This applies to systems with or without damping. All scientific computing software provides efficient numerical routines to compute the eigenvalues and eigenvectors of a square matrix. In Python you can use `numpy.linalg.eig`. This computation requires that the system be in state space form:\n",
    "\n",
    "$$\\dot{\\mathbf{x}} = \\mathbf{A} \\mathbf{x}$$\n",
    "\n",
    "where $\\mathbf{x}$ is the state vector.\n",
    "\n",
    "# Exercise\n",
    "\n",
    "Write a function that takes the matrices $\\mathbf{M,K_0, K_2, C_1}$, the speed, and gravity as an input and returns the A matrix."
   ]
  },
  {
   "cell_type": "code",
   "execution_count": null,
   "metadata": {
    "collapsed": true
   },
   "outputs": [],
   "source": [
    "def compute_state_matrix(v, g, M, C1, K0, K2):\n",
    "    \"\"\"Returns the state matrix.\n",
    "    \n",
    "    Parameters\n",
    "    ----------\n",
    "    v : float\n",
    "        Bicycle speed in meters per second.\n",
    "    g : float\n",
    "        Acceleration due to gravity in meters per second squared.\n",
    "    M : array_like, shape(2,2)\n",
    "        The mass matrix.\n",
    "    C1 : array_like, shape(2,2)\n",
    "        The speed proportional damping matrix.\n",
    "    K0 : array_like, shape(2,2)\n",
    "        The gravity proportional stiffness matrix.\n",
    "    K2 : array_like, shape(2,2)\n",
    "        The speed squared proportional stiffness matrix.\n",
    "    \n",
    "    Returns\n",
    "    -------\n",
    "\n",
    "    As : ndarray, shape(n,4,4)\n",
    "        The state matrices evaluated at each speed in `speeds`.\n",
    "\n",
    "    Notes\n",
    "    -----\n",
    "    The second order equations of motion take this form:\n",
    "    \n",
    "    M * q'' + v * C1 * q' + [g * K0 + v**2 * K2] * q = 0\n",
    "    \n",
    "    where q = [roll angle,\n",
    "               steer angle]\n",
    "    \n",
    "    The first order equations of motion take this form:\n",
    "    \n",
    "    x' = A * x + B * u\n",
    "    \n",
    "    where x = [roll angle,\n",
    "               steer angle,\n",
    "               roll rate,\n",
    "               steer rate]\n",
    "\n",
    "    \"\"\"\n",
    "    \n",
    "    # write your code here\n",
    "    \n",
    "    return A"
   ]
  },
  {
   "cell_type": "markdown",
   "metadata": {},
   "source": [
    "Create a state matrix, $\\mathbf{A}$, for $v=5.4 \\textrm{m/s}$ and $g=9.81$. This is about normal riding speed around town (12 mph)."
   ]
  },
  {
   "cell_type": "code",
   "execution_count": null,
   "metadata": {
    "collapsed": false
   },
   "outputs": [],
   "source": [
    "M = np.array([[ 80.81722   ,   2.31941332],\n",
    "              [  2.31941332,   0.29784188]])\n",
    "C1 = np.array([[  0.        ,  33.86641391],\n",
    "               [ -0.85035641,   1.68540397]])\n",
    "K0 = np.array([[-80.95      ,  -2.59951685],\n",
    "               [ -2.59951685,  -0.80329488]])\n",
    "K2 = np.array([[  0.        ,  76.5973459 ],\n",
    "               [  0.        ,   2.65431524]])\n",
    "\n",
    "A = compute_state_matrix(5.4, 9.81, M, C1, K0, K2)\n",
    "A"
   ]
  },
  {
   "cell_type": "markdown",
   "metadata": {},
   "source": [
    "Now compute the eigenvalues and eigenvectors of the the system using `numpy.linalg.eig`, see https://docs.scipy.org/doc/numpy/reference/generated/numpy.linalg.eig.html."
   ]
  },
  {
   "cell_type": "code",
   "execution_count": null,
   "metadata": {
    "collapsed": true
   },
   "outputs": [],
   "source": [
    "# type code here"
   ]
  },
  {
   "cell_type": "code",
   "execution_count": null,
   "metadata": {
    "collapsed": false
   },
   "outputs": [],
   "source": [
    "eigenvalues"
   ]
  },
  {
   "cell_type": "code",
   "execution_count": null,
   "metadata": {
    "collapsed": false
   },
   "outputs": [],
   "source": [
    "eigenvectors"
   ]
  },
  {
   "cell_type": "markdown",
   "metadata": {
    "collapsed": true
   },
   "source": [
    "# Plot eigenvectors on polar plot"
   ]
  },
  {
   "cell_type": "markdown",
   "metadata": {},
   "source": [
    "One way to visualize the modes of motion is by plotting phasor plots of each of the eigenvector components. Eigenvectors are made up of $n$ components, each which may be real or imaginary, that correspond to the states variables. In our case each each component is tied to the roll angle, steer angle, roll angular rate, and steer angular rate. It is also important to note that the phasor plot for osciallation (underdamped) of the derivative of one of the variables simply increases the magnitue by a factor $\\omega_i$ and phase shifts the variable by $90^\\circ$, i.e.:\n",
    "\n",
    "$$\n",
    "r_i(t) =  A_i e^{-\\zeta_i \\omega_i t} \\sin(\\omega_{di} t + \\phi_i) \\\\\n",
    "\\dot{r}_i(t) =  \\omega_{di} A_i e^{-\\zeta_i \\omega_i t} \\cos(\\omega_{di} t + \\phi_i)\n",
    "$$\n",
    "\n",
    "This means that we only need to look at the components associated with the angles to see how the vehicle is moving.\n",
    "\n",
    "A nice way to plot phasors that are using a polar plot. For example if I have an eigenvalue of $-1.2 + 6j$ that has an associated eigenvector of $[-0.011-0.123j, -0.032-0.149j, 0.581+ 0.067j, 0.789]$ then we can select the first two components and plot a line that is equivlanent to the magnitude of the component and at an angle based on the tangent of the imaginary over the real part."
   ]
  },
  {
   "cell_type": "code",
   "execution_count": null,
   "metadata": {
    "collapsed": true
   },
   "outputs": [],
   "source": [
    "import matplotlib.pyplot as plt\n",
    "%matplotlib notebook"
   ]
  },
  {
   "cell_type": "code",
   "execution_count": null,
   "metadata": {
    "collapsed": false
   },
   "outputs": [],
   "source": [
    "fig, ax = plt.subplots(1, 1, subplot_kw={'projection': 'polar'})\n",
    "\n",
    "v = eigenvectors[0,1]                                         \n",
    "\n",
    "radius = np.abs(v)\n",
    "theta = np.angle(v)\n",
    "\n",
    "ax.plot([0, theta], [0, radius]);                                      "
   ]
  },
  {
   "cell_type": "markdown",
   "metadata": {},
   "source": [
    "# Exercise\n",
    "\n",
    "Make polar phasor plots for each of the eigenvalues."
   ]
  },
  {
   "cell_type": "code",
   "execution_count": null,
   "metadata": {
    "collapsed": false
   },
   "outputs": [],
   "source": [
    "fig, axes = plt.subplots(2, 2, subplot_kw={'projection': 'polar'})\n",
    "\n",
    "for i, ax in enumerate(axes.flatten()):\n",
    "    # type your plotting code here so that there is one polar plot for each subplot. Include the eigenvalue in the title."
   ]
  },
  {
   "cell_type": "markdown",
   "metadata": {},
   "source": [
    "# Examine the Mode Shape Trajectories"
   ]
  },
  {
   "cell_type": "markdown",
   "metadata": {},
   "source": [
    "For 5.4 m/s knowing that the two purely real eigenvalues represent overdamped behavior and the pair of imgarinary eigenvlues are underdamped create a function that computes the trajectory of that mode of motion."
   ]
  },
  {
   "cell_type": "code",
   "execution_count": null,
   "metadata": {
    "collapsed": true
   },
   "outputs": [],
   "source": [
    "def underdamped(e_val, initial, times):\n",
    "    # type code here\n",
    "    return roll_traj, steer_traj"
   ]
  },
  {
   "cell_type": "code",
   "execution_count": null,
   "metadata": {
    "collapsed": true
   },
   "outputs": [],
   "source": [
    "def overdamped(e_val, initial, times):\n",
    "    # type code here"
   ]
  },
  {
   "cell_type": "code",
   "execution_count": null,
   "metadata": {
    "collapsed": false
   },
   "outputs": [],
   "source": [
    "times = np.linspace(0, 5, num=1000)\n",
    "\n",
    "roll_angle, steer_angle = underdamped(eigenvalues[1], initial, times)\n",
    "\n",
    "plt.figure()\n",
    "plt.plot(times, roll_angle, times, steer_angle)"
   ]
  },
  {
   "cell_type": "markdown",
   "metadata": {},
   "source": [
    "Alternatively, `odeint` to see if you get the same trajectories."
   ]
  },
  {
   "cell_type": "code",
   "execution_count": null,
   "metadata": {
    "collapsed": false
   },
   "outputs": [],
   "source": [
    "from scipy.integrate import odeint\n",
    "\n",
    "def rhs(x, t, A):\n",
    "\n",
    "\n",
    "initial = np.real(eigenvectors[:, 1])\n",
    "\n",
    "x = odeint(rhs, initial, times, args=(A, ))"
   ]
  },
  {
   "cell_type": "markdown",
   "metadata": {},
   "source": [
    "# Exercise\n",
    "\n",
    "Plot the real part of the eigenvalues as a function of speed and the imaginary part of the eigenvalues as a function of speed. Explain what you learn about the stability of each mode as it changes with speed of the bicycle."
   ]
  },
  {
   "cell_type": "code",
   "execution_count": null,
   "metadata": {
    "collapsed": false
   },
   "outputs": [],
   "source": [
    "speeds = np.linspace(0, 10, num=100)\n",
    "\n",
    "eigenvalues = np.zeros((len(speeds), 4), dtype=complex)\n",
    "eigenvectors = np.zeros((len(speeds), 4, 4), dtype=complex)\n",
    "\n",
    "for i, v in enumerate(speeds):\n",
    "    # fill up the eigenvalues and eigenvector arrays with values for each\n"
   ]
  },
  {
   "cell_type": "code",
   "execution_count": null,
   "metadata": {
    "collapsed": false
   },
   "outputs": [],
   "source": [
    "fig, axes = plt.subplots(2, 1)\n",
    "\n",
    "axes[0].plot(speeds, np.real(eigenvalues), 'k.')\n",
    "axes[0].axhline(0)\n",
    "axes[0].set_ylim([-10, 10])\n",
    "axes[1].plot(speeds, np.imag(eigenvalues), 'k.');\n"
   ]
  },
  {
   "cell_type": "markdown",
   "metadata": {},
   "source": [
    "# Physical Parameters\n",
    "\n",
    "Below is a function that computes the canonical matrices for the bicycle given various geometric and inerital parameters."
   ]
  },
  {
   "cell_type": "code",
   "execution_count": null,
   "metadata": {
    "collapsed": false
   },
   "outputs": [],
   "source": [
    "from IPython.display import Image\n",
    "Image('bicycle.jpg')"
   ]
  },
  {
   "cell_type": "code",
   "execution_count": null,
   "metadata": {
    "collapsed": false
   },
   "outputs": [],
   "source": [
    "Image('parameters.jpg')"
   ]
  },
  {
   "cell_type": "code",
   "execution_count": null,
   "metadata": {
    "collapsed": true
   },
   "outputs": [],
   "source": [
    "def benchmark_parameters():\n",
    "    \"\"\"Returns the benchmark bicycle parameters from [Meijaard2007]_.\n",
    "    References\n",
    "    ----------\n",
    "    .. [Meijaard2007]_ J. P. Meijaard, Jim M. Papadopoulos, Andy Ruina, and A.\n",
    "       L. Schwab. Linearized dynamics equations for the balance and steer of a\n",
    "       bicycle: A benchmark and review. Proceedings of the Royal Society A:\n",
    "       Mathematical, Physical and Engineering Sciences, 463(2084):1955–1982,\n",
    "       August 2007.\n",
    "    \"\"\"\n",
    "\n",
    "    p = {}\n",
    "\n",
    "    p['w'] = 1.02\n",
    "    p['c'] = 0.08\n",
    "    p['lam'], p['lambda'] = pi / 10., pi / 10.\n",
    "    p['g'] = 9.81\n",
    "    p['rR'] = 0.3\n",
    "    p['mR'] = 2.0\n",
    "    p['IRxx'] = 0.0603\n",
    "    p['IRyy'] = 0.12\n",
    "    p['xB'] = 0.3\n",
    "    p['zB'] = -0.9\n",
    "    p['mB'] = 85.0\n",
    "    p['IBxx'] = 9.2\n",
    "    p['IByy'] = 11.0\n",
    "    p['IBzz'] = 2.8\n",
    "    p['IBxz'] = 2.4\n",
    "    p['xH'] = 0.9\n",
    "    p['zH'] = -0.7\n",
    "    p['mH'] = 4.0\n",
    "    p['IHxx'] = 0.05892\n",
    "    p['IHyy'] = 0.06\n",
    "    p['IHzz'] = 0.00708\n",
    "    p['IHxz'] = -0.00756\n",
    "    p['rF'] = 0.35\n",
    "    p['mF'] = 3.0\n",
    "    p['IFxx'] = 0.1405\n",
    "    p['IFyy'] = 0.28\n",
    "\n",
    "return p"
   ]
  },
  {
   "cell_type": "code",
   "execution_count": null,
   "metadata": {
    "collapsed": true
   },
   "outputs": [],
   "source": [
    "def benchmark_par_to_canonical(p):\n",
    "    \"\"\"\n",
    "    Returns the canonical matrices of the Whipple bicycle model linearized\n",
    "    about the upright constant velocity configuration. It uses the parameter\n",
    "    definitions from [Meijaard2007]_.\n",
    "    Parameters\n",
    "    ----------\n",
    "    p : dictionary\n",
    "        A dictionary of the benchmark bicycle parameters. Make sure your units\n",
    "        are correct, best to ue the benchmark paper's units!\n",
    "    Returns\n",
    "    -------\n",
    "    M : ndarray, shape(2,2)\n",
    "        The mass matrix.\n",
    "    C1 : ndarray, shape(2,2)\n",
    "        The damping like matrix that is proportional to the speed, v.\n",
    "    K0 : ndarray, shape(2,2)\n",
    "        The stiffness matrix proportional to gravity, g.\n",
    "    K2 : ndarray, shape(2,2)\n",
    "        The stiffness matrix proportional to the speed squared, v**2.\n",
    "    \"\"\"\n",
    "    mT = p['mR'] + p['mB'] + p['mH'] + p['mF']\n",
    "    xT = (p['xB'] * p['mB'] + p['xH'] * p['mH'] + p['w'] * p['mF']) / mT\n",
    "    zT = (-p['rR'] * p['mR'] + p['zB'] * p['mB'] +\n",
    "          p['zH'] * p['mH'] - p['rF'] * p['mF']) / mT\n",
    "\n",
    "    ITxx = (p['IRxx'] + p['IBxx'] + p['IHxx'] + p['IFxx'] + p['mR'] *\n",
    "            p['rR']**2 + p['mB'] * p['zB']**2 + p['mH'] * p['zH']**2 + p['mF']\n",
    "            * p['rF']**2)\n",
    "    ITxz = (p['IBxz'] + p['IHxz'] - p['mB'] * p['xB'] * p['zB'] -\n",
    "            p['mH'] * p['xH'] * p['zH'] + p['mF'] * p['w'] * p['rF'])\n",
    "    p['IRzz'] = p['IRxx']\n",
    "    p['IFzz'] = p['IFxx']\n",
    "    ITzz = (p['IRzz'] + p['IBzz'] + p['IHzz'] + p['IFzz'] +\n",
    "            p['mB'] * p['xB']**2 + p['mH'] * p['xH']**2 + p['mF'] * p['w']**2)\n",
    "\n",
    "    mA = p['mH'] + p['mF']\n",
    "    xA = (p['xH'] * p['mH'] + p['w'] * p['mF']) / mA\n",
    "    zA = (p['zH'] * p['mH'] - p['rF'] * p['mF']) / mA\n",
    "\n",
    "    IAxx = (p['IHxx'] + p['IFxx'] + p['mH'] * (p['zH'] - zA)**2 +\n",
    "            p['mF'] * (p['rF'] + zA)**2)\n",
    "    IAxz = (p['IHxz'] - p['mH'] * (p['xH'] - xA) * (p['zH'] - zA) + p['mF'] *\n",
    "            (p['w'] - xA) * (p['rF'] + zA))\n",
    "    IAzz = (p['IHzz'] + p['IFzz'] + p['mH'] * (p['xH'] - xA)**2 + p['mF'] *\n",
    "            (p['w'] - xA)**2)\n",
    "    uA = (xA - p['w'] - p['c']) * np.cos(p['lam']) - zA * np.sin(p['lam'])\n",
    "    IAll = (mA * uA**2 + IAxx * np.sin(p['lam'])**2 +\n",
    "            2 * IAxz * np.sin(p['lam']) * np.cos(p['lam']) +\n",
    "            IAzz * np.cos(p['lam'])**2)\n",
    "    IAlx = (-mA * uA * zA + IAxx * np.sin(p['lam']) + IAxz *\n",
    "            np.cos(p['lam']))\n",
    "    IAlz = (mA * uA * xA + IAxz * np.sin(p['lam']) + IAzz *\n",
    "            np.cos(p['lam']))\n",
    "\n",
    "    mu = p['c'] / p['w'] * np.cos(p['lam'])\n",
    "\n",
    "    SR = p['IRyy'] / p['rR']\n",
    "    SF = p['IFyy'] / p['rF']\n",
    "    ST = SR + SF\n",
    "    SA = mA * uA + mu * mT * xT\n",
    "\n",
    "    Mpp = ITxx\n",
    "    Mpd = IAlx + mu * ITxz\n",
    "    Mdp = Mpd\n",
    "    Mdd = IAll + 2 * mu * IAlz + mu**2 * ITzz\n",
    "    M = np.array([[Mpp, Mpd], [Mdp, Mdd]])\n",
    "\n",
    "    K0pp = mT * zT  # this value only reports to 13 digit precision it seems?\n",
    "    K0pd = -SA\n",
    "    K0dp = K0pd\n",
    "    K0dd = -SA * np.sin(p['lam'])\n",
    "    K0 = np.array([[K0pp, K0pd], [K0dp, K0dd]])\n",
    "\n",
    "    K2pp = 0.\n",
    "    K2pd = (ST - mT * zT) / p['w'] * np.cos(p['lam'])\n",
    "    K2dp = 0.\n",
    "    K2dd = (SA + SF * np.sin(p['lam'])) / p['w'] * np.cos(p['lam'])\n",
    "    K2 = np.array([[K2pp, K2pd], [K2dp, K2dd]])\n",
    "\n",
    "    C1pp = 0.\n",
    "    C1pd = (mu * ST + SF * np.cos(p['lam']) + ITxz / p['w'] *\n",
    "            cos(p['lam']) - mu*mT*zT)\n",
    "    C1dp = -(mu * ST + SF * np.cos(p['lam']))\n",
    "    C1dd = (IAlz / p['w'] * np.cos(p['lam']) + mu * (SA +\n",
    "            ITzz / p['w'] * np.cos(p['lam'])))\n",
    "    C1 = np.array([[C1pp, C1pd], [C1dp, C1dd]])\n",
    "\n",
    "return M, C1, K0, K2"
   ]
  },
  {
   "cell_type": "markdown",
   "metadata": {},
   "source": [
    "# Exercises\n",
    "\n",
    "1. Remove the gyro effect of the wheels from your model by setting $I_{zz}$ to zero for both wheels. Is your bicycle still stable in some speed range?\n",
    "\n",
    "2. Reverse the trail (make negative). Is your bicycle still stable in some speed range?\n",
    "\n",
    "3. Keep the gyro e ect and the positive trail but change the mass distribution of the front fork such that the bicycle is always unstable.\n",
    "\n",
    "4. Make a design with negative trail which still shows some stable speed range."
   ]
  }
 ],
 "metadata": {
  "anaconda-cloud": {},
  "kernelspec": {
   "display_name": "Python [default]",
   "language": "python",
   "name": "python3"
  },
  "language_info": {
   "codemirror_mode": {
    "name": "ipython",
    "version": 3
   },
   "file_extension": ".py",
   "mimetype": "text/x-python",
   "name": "python",
   "nbconvert_exporter": "python",
   "pygments_lexer": "ipython3",
   "version": "3.5.2"
  }
 },
 "nbformat": 4,
 "nbformat_minor": 1
}
