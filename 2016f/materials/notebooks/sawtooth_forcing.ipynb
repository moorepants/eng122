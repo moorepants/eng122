{
 "cells": [
  {
   "cell_type": "markdown",
   "metadata": {},
   "source": [
    "#  Arbitrary Periodic Forcing (Fourier Series)\n",
    "\n",
    "## Sympy\n",
    "\n",
    "SymPy is a Python package for symbolic computing. It can do many symbolic operations, for instance, integration, differentiation, linear algebra, etc. See http://sympy.org for more details of the features and the documentation. Today we will cover how to do integrals using SymPy and use it to find the Fourier series that represents a sawtooth function."
   ]
  },
  {
   "cell_type": "code",
   "execution_count": 1,
   "metadata": {
    "collapsed": true
   },
   "outputs": [],
   "source": [
    "import sympy as sm"
   ]
  },
  {
   "cell_type": "markdown",
   "metadata": {},
   "source": [
    "The function `init_printing()` enables LaTeX based rendering in the Jupyter notebook of all SymPy objects."
   ]
  },
  {
   "cell_type": "code",
   "execution_count": 2,
   "metadata": {
    "collapsed": true
   },
   "outputs": [],
   "source": [
    "sm.init_printing()"
   ]
  },
  {
   "cell_type": "markdown",
   "metadata": {},
   "source": [
    "Symbols can be created by using the `symbols()` function."
   ]
  },
  {
   "cell_type": "code",
   "execution_count": 3,
   "metadata": {
    "collapsed": true
   },
   "outputs": [],
   "source": [
    "x, y, z = sm.symbols('x, y, z')"
   ]
  },
  {
   "cell_type": "code",
   "execution_count": 4,
   "metadata": {
    "collapsed": false
   },
   "outputs": [
    {
     "data": {
      "image/png": "[encoded data removed]",
      "text/latex": [
       "$$\\left ( x, \\quad y, \\quad z\\right )$$"
      ],
      "text/plain": [
       "(x, y, z)"
      ]
     },
     "execution_count": 4,
     "metadata": {},
     "output_type": "execute_result"
    }
   ],
   "source": [
    "x, y, z"
   ]
  },
  {
   "cell_type": "markdown",
   "metadata": {},
   "source": [
    "The `integrate()` function allows you to do symbolic indefinite or definite integrals. Note that the constants of integration are not included in indefinite integrals."
   ]
  },
  {
   "cell_type": "code",
   "execution_count": 5,
   "metadata": {
    "collapsed": false
   },
   "outputs": [
    {
     "data": {
      "image/png": "[encoded data removed]",
      "text/latex": [
       "$$\\frac{x^{2} y}{2}$$"
      ],
      "text/plain": [
       " 2  \n",
       "x ⋅y\n",
       "────\n",
       " 2  "
      ]
     },
     "execution_count": 5,
     "metadata": {},
     "output_type": "execute_result"
    }
   ],
   "source": [
    "sm.integrate(x * y, x)"
   ]
  },
  {
   "cell_type": "markdown",
   "metadata": {},
   "source": [
    "The `Integral` class creates and unevaluated integral, where as the `integrate()` function automatically evaluates the integral."
   ]
  },
  {
   "cell_type": "code",
   "execution_count": 6,
   "metadata": {
    "collapsed": false
   },
   "outputs": [
    {
     "data": {
      "image/png": "[encoded data removed]",
      "text/latex": [
       "$$\\int x y\\, dx$$"
      ],
      "text/plain": [
       "⌠       \n",
       "⎮ x⋅y dx\n",
       "⌡       "
      ]
     },
     "execution_count": 6,
     "metadata": {},
     "output_type": "execute_result"
    }
   ],
   "source": [
    "expr = sm.Integral(x * y, x)\n",
    "expr"
   ]
  },
  {
   "cell_type": "markdown",
   "metadata": {},
   "source": [
    "To evaluate the unevaluated form you call the `.doit()` method. Note that all unevaluated SymPy objects have this method."
   ]
  },
  {
   "cell_type": "code",
   "execution_count": 7,
   "metadata": {
    "collapsed": false
   },
   "outputs": [
    {
     "data": {
      "image/png": "[encoded data removed]",
      "text/latex": [
       "$$\\frac{x^{2} y}{2}$$"
      ],
      "text/plain": [
       " 2  \n",
       "x ⋅y\n",
       "────\n",
       " 2  "
      ]
     },
     "execution_count": 7,
     "metadata": {},
     "output_type": "execute_result"
    }
   ],
   "source": [
    "expr.doit()"
   ]
  },
  {
   "cell_type": "markdown",
   "metadata": {},
   "source": [
    "This shows how to create an unevaluated definite integral, store it in a variable, and then evaluate it."
   ]
  },
  {
   "cell_type": "code",
   "execution_count": 8,
   "metadata": {
    "collapsed": false
   },
   "outputs": [
    {
     "data": {
      "image/png": "[encoded data removed]",
      "text/latex": [
       "$$\\int_{0}^{5} x y\\, dx$$"
      ],
      "text/plain": [
       "5       \n",
       "⌠       \n",
       "⎮ x⋅y dx\n",
       "⌡       \n",
       "0       "
      ]
     },
     "execution_count": 8,
     "metadata": {},
     "output_type": "execute_result"
    }
   ],
   "source": [
    "expr = sm.Integral(x * y, (x, 0, 5))\n",
    "expr"
   ]
  },
  {
   "cell_type": "code",
   "execution_count": 9,
   "metadata": {
    "collapsed": false
   },
   "outputs": [
    {
     "data": {
      "image/png": "[encoded data removed]",
      "text/latex": [
       "$$\\frac{25 y}{2}$$"
      ],
      "text/plain": [
       "25⋅y\n",
       "────\n",
       " 2  "
      ]
     },
     "execution_count": 9,
     "metadata": {},
     "output_type": "execute_result"
    }
   ],
   "source": [
    "expr.doit()"
   ]
  },
  {
   "cell_type": "markdown",
   "metadata": {},
   "source": [
    "# Fourier Coefficients for the Sawtooth function\n",
    "\n",
    "Now let's compute the Fourier coefficients for a saw tooth function. The function that describes the saw tooth is:\n",
    "\n",
    "$$\n",
    "F(t) = \n",
    "\\begin{cases} \n",
    "      A \\left( \\frac{4t}{T} - 1 \\right) & 0 \\leq t \\leq T/2 \\\\\n",
    "      A \\left( 3 - \\frac{4t}{t} \\right) & T/2 \\leq t \\leq T \n",
    "\\end{cases}\n",
    "$$\n",
    "\n",
    "where:\n",
    "\n",
    "- $A$ is the amplitude of the saw tooth\n",
    "- $T$ is the period of the saw tooth\n",
    "- $\\omega_T$ is the frequency of the saw tooth, i.e. $\\omega_T = \\frac{2\\pi}{T}$\n",
    "- $t$ is time\n",
    "\n",
    "This is a piecewise function with two parts from $t=0$ to $t=T$."
   ]
  },
  {
   "cell_type": "code",
   "execution_count": 10,
   "metadata": {
    "collapsed": false
   },
   "outputs": [
    {
     "data": {
      "image/png": "[encoded data removed]",
      "text/latex": [
       "$$\\left ( A, \\quad T, \\quad \\omega_{T}, \\quad t\\right )$$"
      ],
      "text/plain": [
       "(A, T, ω_T, t)"
      ]
     },
     "execution_count": 10,
     "metadata": {},
     "output_type": "execute_result"
    }
   ],
   "source": [
    "A, T, wT, t = sm.symbols('A, T, omega_T, t', real=True, positive=True)\n",
    "A, T, wT, t"
   ]
  },
  {
   "cell_type": "markdown",
   "metadata": {},
   "source": [
    "The first Fourier coefficient $a_0$ describes the average value of the periodic function. and is:\n",
    "\n",
    "$$a_0 = \\frac{2}{T} \\int_0^T F(t) dt$$\n",
    "\n",
    "This integral will have to be done in two parts:\n",
    "\n",
    "$$a_0 = a_{01} + a_{02} = \\frac{2}{T} \\int_0^{T/2} F(t) dt + \\frac{2}{T} \\int_{T/2}^T F(t) dt$$\n",
    "\n",
    "These two integrals are evaluated below. Note that $a_0$ evaluates to zero. This is because the average of our function is 0."
   ]
  },
  {
   "cell_type": "code",
   "execution_count": 11,
   "metadata": {
    "collapsed": false
   },
   "outputs": [
    {
     "data": {
      "image/png": "[encoded data removed]",
      "text/latex": [
       "$$\\frac{2}{T} \\int_{0}^{\\frac{T}{2}} A \\left(-1 + \\frac{4 t}{T}\\right)\\, dt$$"
      ],
      "text/plain": [
       "  T                \n",
       "  ─                \n",
       "  2                \n",
       "  ⌠                \n",
       "  ⎮   ⎛     4⋅t⎞   \n",
       "2⋅⎮ A⋅⎜-1 + ───⎟ dt\n",
       "  ⎮   ⎝      T ⎠   \n",
       "  ⌡                \n",
       "  0                \n",
       "───────────────────\n",
       "         T         "
      ]
     },
     "execution_count": 11,
     "metadata": {},
     "output_type": "execute_result"
    }
   ],
   "source": [
    "ao_1 = 2 / T * sm.Integral(A * (4 * t / T - 1), (t, 0, T / 2))\n",
    "ao_1"
   ]
  },
  {
   "cell_type": "code",
   "execution_count": 12,
   "metadata": {
    "collapsed": false
   },
   "outputs": [
    {
     "data": {
      "image/png": "[encoded data removed]",
      "text/latex": [
       "$$0$$"
      ],
      "text/plain": [
       "0"
      ]
     },
     "execution_count": 12,
     "metadata": {},
     "output_type": "execute_result"
    }
   ],
   "source": [
    "ao_1.doit()"
   ]
  },
  {
   "cell_type": "code",
   "execution_count": 13,
   "metadata": {
    "collapsed": false
   },
   "outputs": [
    {
     "data": {
      "image/png": "[encoded data removed]",
      "text/latex": [
       "$$\\frac{2}{T} \\int_{\\frac{T}{2}}^{T} A \\left(3 - \\frac{4 t}{T}\\right)\\, dt$$"
      ],
      "text/plain": [
       "  T               \n",
       "  ⌠               \n",
       "  ⎮   ⎛    4⋅t⎞   \n",
       "2⋅⎮ A⋅⎜3 - ───⎟ dt\n",
       "  ⎮   ⎝     T ⎠   \n",
       "  ⌡               \n",
       "  T               \n",
       "  ─               \n",
       "  2               \n",
       "──────────────────\n",
       "        T         "
      ]
     },
     "execution_count": 13,
     "metadata": {},
     "output_type": "execute_result"
    }
   ],
   "source": [
    "ao_2 = 2 / T * sm.Integral(A * (3 - 4 * t / T), (t, T / 2, T))\n",
    "ao_2"
   ]
  },
  {
   "cell_type": "code",
   "execution_count": 14,
   "metadata": {
    "collapsed": false
   },
   "outputs": [
    {
     "data": {
      "image/png": "[encoded data removed]",
      "text/latex": [
       "$$0$$"
      ],
      "text/plain": [
       "0"
      ]
     },
     "execution_count": 14,
     "metadata": {},
     "output_type": "execute_result"
    }
   ],
   "source": [
    "ao_2.doit()"
   ]
  },
  {
   "cell_type": "markdown",
   "metadata": {},
   "source": [
    "But SymPy can also handle piecewise directly. The following shows how to define a piecewise function."
   ]
  },
  {
   "cell_type": "code",
   "execution_count": 15,
   "metadata": {
    "collapsed": false
   },
   "outputs": [],
   "source": [
    "F_1 = A * (4 * t / T - 1)\n",
    "F_2 = A * (3 - 4 * t / T)"
   ]
  },
  {
   "cell_type": "code",
   "execution_count": 16,
   "metadata": {
    "collapsed": false
   },
   "outputs": [
    {
     "data": {
      "image/png": "[encoded data removed]",
      "text/latex": [
       "$$\\begin{cases} A \\left(-1 + \\frac{4 t}{T}\\right) & \\text{for}\\: t \\leq \\frac{T}{2} \\\\A \\left(3 - \\frac{4 t}{T}\\right) & \\text{for}\\: \\frac{T}{2} \\leq t \\end{cases}$$"
      ],
      "text/plain": [
       "⎧  ⎛     4⋅t⎞          T\n",
       "⎪A⋅⎜-1 + ───⎟  for t ≤ ─\n",
       "⎪  ⎝      T ⎠          2\n",
       "⎨                       \n",
       "⎪  ⎛    4⋅t⎞       T    \n",
       "⎪A⋅⎜3 - ───⎟   for ─ ≤ t\n",
       "⎩  ⎝     T ⎠       2    "
      ]
     },
     "execution_count": 16,
     "metadata": {},
     "output_type": "execute_result"
    }
   ],
   "source": [
    "F = sm.Piecewise((F_1, t<=T/2),\n",
    "                 (F_2, T/2<=t))\n",
    "F"
   ]
  },
  {
   "cell_type": "markdown",
   "metadata": {},
   "source": [
    "The integral can be taken of the entire piecewise function in one call."
   ]
  },
  {
   "cell_type": "code",
   "execution_count": 17,
   "metadata": {
    "collapsed": false
   },
   "outputs": [
    {
     "data": {
      "image/png": "[encoded data removed]",
      "text/latex": [
       "$$0$$"
      ],
      "text/plain": [
       "0"
      ]
     },
     "execution_count": 17,
     "metadata": {},
     "output_type": "execute_result"
    }
   ],
   "source": [
    "sm.integrate(F, (t, 0, T))"
   ]
  },
  {
   "cell_type": "markdown",
   "metadata": {},
   "source": [
    "Now the Fourier coefficients $a_n$ and $b_n$ can be computed.\n",
    "\n",
    "$$\n",
    "a_n = \\frac{2}{T}\\int_0^T F(t) \\cos n\\omega_Tt dt \\\\\n",
    "b_n = \\frac{2}{T}\\int_0^T F(t) \\sin n\\omega_Tt dt\n",
    "$$"
   ]
  },
  {
   "cell_type": "code",
   "execution_count": 18,
   "metadata": {
    "collapsed": false
   },
   "outputs": [],
   "source": [
    "n = sm.symbols('n', real=True, positive=True)"
   ]
  },
  {
   "cell_type": "markdown",
   "metadata": {},
   "source": [
    "For $a_n$:"
   ]
  },
  {
   "cell_type": "code",
   "execution_count": 19,
   "metadata": {
    "collapsed": false
   },
   "outputs": [
    {
     "data": {
      "image/png": "[encoded data removed]",
      "text/latex": [
       "$$\\frac{2}{T} \\int_{0}^{T} \\begin{cases} A \\left(-1 + \\frac{4 t}{T}\\right) \\cos{\\left (n \\omega_{T} t \\right )} & \\text{for}\\: t \\leq \\frac{T}{2} \\\\A \\left(3 - \\frac{4 t}{T}\\right) \\cos{\\left (n \\omega_{T} t \\right )} & \\text{for}\\: \\frac{T}{2} \\leq t \\end{cases}\\, dt$$"
      ],
      "text/plain": [
       "  T                                         \n",
       "  ⌠                                         \n",
       "  ⎮ ⎧  ⎛     4⋅t⎞                       T   \n",
       "  ⎮ ⎪A⋅⎜-1 + ───⎟⋅cos(n⋅ω_T⋅t)  for t ≤ ─   \n",
       "  ⎮ ⎪  ⎝      T ⎠                       2   \n",
       "2⋅⎮ ⎨                                     dt\n",
       "  ⎮ ⎪  ⎛    4⋅t⎞                    T       \n",
       "  ⎮ ⎪A⋅⎜3 - ───⎟⋅cos(n⋅ω_T⋅t)   for ─ ≤ t   \n",
       "  ⎮ ⎩  ⎝     T ⎠                    2       \n",
       "  ⌡                                         \n",
       "  0                                         \n",
       "────────────────────────────────────────────\n",
       "                     T                      "
      ]
     },
     "execution_count": 19,
     "metadata": {},
     "output_type": "execute_result"
    }
   ],
   "source": [
    "an = 2 / T * sm.Integral(F * sm.cos(n * wT * t), (t, 0, T))\n",
    "an"
   ]
  },
  {
   "cell_type": "code",
   "execution_count": 20,
   "metadata": {
    "collapsed": false
   },
   "outputs": [
    {
     "data": {
      "image/png": "[encoded data removed]",
      "text/latex": [
       "$$\\frac{1}{T} \\left(- 2 A \\left(\\frac{1}{n \\omega_{T}} \\sin{\\left (\\frac{T n}{2} \\omega_{T} \\right )} - \\frac{4}{T n^{2} \\omega_{T}^{2}} \\cos{\\left (\\frac{T n}{2} \\omega_{T} \\right )}\\right) + 2 A \\left(\\frac{1}{n \\omega_{T}} \\sin{\\left (\\frac{T n}{2} \\omega_{T} \\right )} + \\frac{4}{T n^{2} \\omega_{T}^{2}} \\cos{\\left (\\frac{T n}{2} \\omega_{T} \\right )}\\right) + 2 A \\left(- \\frac{1}{n \\omega_{T}} \\sin{\\left (T n \\omega_{T} \\right )} - \\frac{4}{T n^{2} \\omega_{T}^{2}} \\cos{\\left (T n \\omega_{T} \\right )}\\right) - \\frac{8 A}{T n^{2} \\omega_{T}^{2}}\\right)$$"
      ],
      "text/plain": [
       "  ⎛    ⎛   ⎛T⋅n⋅ω_T⎞        ⎛T⋅n⋅ω_T⎞⎞     ⎛   ⎛T⋅n⋅ω_T⎞        ⎛T⋅n⋅ω_T⎞⎞    \n",
       "  ⎜    ⎜sin⎜───────⎟   4⋅cos⎜───────⎟⎟     ⎜sin⎜───────⎟   4⋅cos⎜───────⎟⎟    \n",
       "  ⎜    ⎜   ⎝   2   ⎠        ⎝   2   ⎠⎟     ⎜   ⎝   2   ⎠        ⎝   2   ⎠⎟    \n",
       "2⋅⎜- A⋅⎜──────────── - ──────────────⎟ + A⋅⎜──────────── + ──────────────⎟ + A\n",
       "  ⎜    ⎜   n⋅ω_T            2    2   ⎟     ⎜   n⋅ω_T            2    2   ⎟    \n",
       "  ⎝    ⎝                 T⋅n ⋅ω_T    ⎠     ⎝                 T⋅n ⋅ω_T    ⎠    \n",
       "──────────────────────────────────────────────────────────────────────────────\n",
       "                                                              T               \n",
       "\n",
       "                                              ⎞\n",
       "                                              ⎟\n",
       " ⎛  sin(T⋅n⋅ω_T)   4⋅cos(T⋅n⋅ω_T)⎞      4⋅A   ⎟\n",
       "⋅⎜- ──────────── - ──────────────⎟ - ─────────⎟\n",
       " ⎜     n⋅ω_T            2    2   ⎟      2    2⎟\n",
       " ⎝                   T⋅n ⋅ω_T    ⎠   T⋅n ⋅ω_T ⎠\n",
       "───────────────────────────────────────────────\n",
       "                                               "
      ]
     },
     "execution_count": 20,
     "metadata": {},
     "output_type": "execute_result"
    }
   ],
   "source": [
    "an.doit()"
   ]
  },
  {
   "cell_type": "markdown",
   "metadata": {},
   "source": [
    "This can be simplified:"
   ]
  },
  {
   "cell_type": "code",
   "execution_count": 21,
   "metadata": {
    "collapsed": false
   },
   "outputs": [
    {
     "data": {
      "image/png": "[encoded data removed]",
      "text/latex": [
       "$$\\frac{2 A}{T^{2} n^{2} \\omega_{T}^{2}} \\left(- T n \\omega_{T} \\sin{\\left (T n \\omega_{T} \\right )} + 8 \\cos{\\left (\\frac{T n}{2} \\omega_{T} \\right )} - 4 \\cos{\\left (T n \\omega_{T} \\right )} - 4\\right)$$"
      ],
      "text/plain": [
       "    ⎛                             ⎛T⋅n⋅ω_T⎞                     ⎞\n",
       "2⋅A⋅⎜-T⋅n⋅ω_T⋅sin(T⋅n⋅ω_T) + 8⋅cos⎜───────⎟ - 4⋅cos(T⋅n⋅ω_T) - 4⎟\n",
       "    ⎝                             ⎝   2   ⎠                     ⎠\n",
       "─────────────────────────────────────────────────────────────────\n",
       "                             2  2    2                           \n",
       "                            T ⋅n ⋅ω_T                            "
      ]
     },
     "execution_count": 21,
     "metadata": {},
     "output_type": "execute_result"
    }
   ],
   "source": [
    "an = an.doit().simplify()\n",
    "an"
   ]
  },
  {
   "cell_type": "markdown",
   "metadata": {},
   "source": [
    "Now substitute the $2\\pi/T$ for $\\omega_T$."
   ]
  },
  {
   "cell_type": "code",
   "execution_count": 22,
   "metadata": {
    "collapsed": false
   },
   "outputs": [
    {
     "data": {
      "image/png": "[encoded data removed]",
      "text/latex": [
       "$$\\frac{A}{2 \\pi^{2} n^{2}} \\left(- 2 \\pi n \\sin{\\left (2 \\pi n \\right )} + 8 \\cos{\\left (\\pi n \\right )} - 4 \\cos{\\left (2 \\pi n \\right )} - 4\\right)$$"
      ],
      "text/plain": [
       "A⋅(-2⋅π⋅n⋅sin(2⋅π⋅n) + 8⋅cos(π⋅n) - 4⋅cos(2⋅π⋅n) - 4)\n",
       "─────────────────────────────────────────────────────\n",
       "                          2  2                       \n",
       "                       2⋅π ⋅n                        "
      ]
     },
     "execution_count": 22,
     "metadata": {},
     "output_type": "execute_result"
    }
   ],
   "source": [
    "an = an.subs({wT: 2 * sm.pi / T})\n",
    "an"
   ]
  },
  {
   "cell_type": "markdown",
   "metadata": {},
   "source": [
    "Let's see how this function varies with increasing $n$. We will use a loop but the SymPy expressions will not automatically display because they are inside a loop. So we need to use SymPy's `latex()` function and the IPython display tools. SymPy's `latex()` function  transforms the SymPy expression into a string of matching LaTeX commands."
   ]
  },
  {
   "cell_type": "code",
   "execution_count": 23,
   "metadata": {
    "collapsed": false
   },
   "outputs": [
    {
     "data": {
      "text/plain": [
       "'$\\\\frac{A}{2 \\\\pi^{2} n^{2}} \\\\left(- 2 \\\\pi n \\\\sin{\\\\left (2 \\\\pi n \\\\right )} + 8 \\\\cos{\\\\left (\\\\pi n \\\\right )} - 4 \\\\cos{\\\\left (2 \\\\pi n \\\\right )} - 4\\\\right)$'"
      ]
     },
     "execution_count": 23,
     "metadata": {},
     "output_type": "execute_result"
    }
   ],
   "source": [
    "sm.latex(an, mode='inline')"
   ]
  },
  {
   "cell_type": "markdown",
   "metadata": {},
   "source": [
    "The `display()` and `LaTeX()` functions then turn the LaTeX string in to a displayed version."
   ]
  },
  {
   "cell_type": "code",
   "execution_count": 24,
   "metadata": {
    "collapsed": true
   },
   "outputs": [],
   "source": [
    "from IPython.display import display, Latex "
   ]
  },
  {
   "cell_type": "markdown",
   "metadata": {},
   "source": [
    "Now we can see how $a_n$ varies with $n=1,2,\\ldots$."
   ]
  },
  {
   "cell_type": "code",
   "execution_count": 25,
   "metadata": {
    "collapsed": false
   },
   "outputs": [
    {
     "data": {
      "text/latex": [
       "$a_1 = $$- \\frac{8 A}{\\pi^{2}}$"
      ],
      "text/plain": [
       "<IPython.core.display.Latex object>"
      ]
     },
     "metadata": {},
     "output_type": "display_data"
    },
    {
     "data": {
      "text/latex": [
       "$a_2 = $$0$"
      ],
      "text/plain": [
       "<IPython.core.display.Latex object>"
      ]
     },
     "metadata": {},
     "output_type": "display_data"
    },
    {
     "data": {
      "text/latex": [
       "$a_3 = $$- \\frac{8 A}{9 \\pi^{2}}$"
      ],
      "text/plain": [
       "<IPython.core.display.Latex object>"
      ]
     },
     "metadata": {},
     "output_type": "display_data"
    },
    {
     "data": {
      "text/latex": [
       "$a_4 = $$0$"
      ],
      "text/plain": [
       "<IPython.core.display.Latex object>"
      ]
     },
     "metadata": {},
     "output_type": "display_data"
    },
    {
     "data": {
      "text/latex": [
       "$a_5 = $$- \\frac{8 A}{25 \\pi^{2}}$"
      ],
      "text/plain": [
       "<IPython.core.display.Latex object>"
      ]
     },
     "metadata": {},
     "output_type": "display_data"
    }
   ],
   "source": [
    "for n_i in range(1, 6):\n",
    "    ans = an.subs({n: n_i})\n",
    "    display(Latex('$a_{} = $'.format(n_i) + sm.latex(ans, mode='inline')))"
   ]
  },
  {
   "cell_type": "markdown",
   "metadata": {},
   "source": [
    "For even $n$ values the coefficient is zero and for even values it variers with the inverse of $n^2$. More precisely:\n",
    "\n",
    "$$\n",
    "a_n =\n",
    "\\begin{cases}\n",
    "0 & \\textrm{if }n\\textrm{ is even} \\\\\n",
    "-\\frac{8A}{n^2\\pi^2} & \\textrm{if }n\\textrm{ is odd}\n",
    "\\end{cases}\n",
    "$$\n",
    "\n",
    "SymPy can actually reduce this further if your set the assumption that $n$ is an integer."
   ]
  },
  {
   "cell_type": "code",
   "execution_count": 26,
   "metadata": {
    "collapsed": false
   },
   "outputs": [
    {
     "data": {
      "image/png": "[encoded data removed]",
      "text/latex": [
       "$$\\frac{A \\left(8 \\left(-1\\right)^{n} - 8\\right)}{2 \\pi^{2} n^{2}}$$"
      ],
      "text/plain": [
       "  ⎛      n    ⎞\n",
       "A⋅⎝8⋅(-1)  - 8⎠\n",
       "───────────────\n",
       "       2  2    \n",
       "    2⋅π ⋅n     "
      ]
     },
     "execution_count": 26,
     "metadata": {},
     "output_type": "execute_result"
    }
   ],
   "source": [
    "n = sm.symbols('n', real=True, positive=True, integer=True)\n",
    "an = 2 / T * sm.Integral(F * sm.cos(n * wT * t), (t, 0, T))\n",
    "an = an.doit().simplify()\n",
    "an.subs({wT: 2 * sm.pi / T})"
   ]
  },
  {
   "cell_type": "markdown",
   "metadata": {},
   "source": [
    "The odd and even versions can be computed by setting the respective assumptions."
   ]
  },
  {
   "cell_type": "code",
   "execution_count": 27,
   "metadata": {
    "collapsed": false
   },
   "outputs": [
    {
     "data": {
      "image/png": "[encoded data removed]",
      "text/latex": [
       "$$- \\frac{8 A}{\\pi^{2} n^{2}}$$"
      ],
      "text/plain": [
       "-8⋅A \n",
       "─────\n",
       " 2  2\n",
       "π ⋅n "
      ]
     },
     "execution_count": 27,
     "metadata": {},
     "output_type": "execute_result"
    }
   ],
   "source": [
    "n = sm.symbols('n', real=True, positive=True, integer=True, odd=True)\n",
    "an = 2 / T * sm.Integral(F * sm.cos(n * wT * t), (t, 0, T))\n",
    "an = an.doit().simplify()\n",
    "an.subs({wT: 2 * sm.pi / T})"
   ]
  },
  {
   "cell_type": "markdown",
   "metadata": {},
   "source": [
    "Note that $b_n$ is always zero:"
   ]
  },
  {
   "cell_type": "code",
   "execution_count": 28,
   "metadata": {
    "collapsed": false
   },
   "outputs": [
    {
     "data": {
      "image/png": "[encoded data removed]",
      "text/latex": [
       "$$\\frac{2}{T} \\int_{0}^{T} \\begin{cases} A \\left(-1 + \\frac{4 t}{T}\\right) \\sin{\\left (n \\omega_{T} t \\right )} & \\text{for}\\: t \\leq \\frac{T}{2} \\\\A \\left(3 - \\frac{4 t}{T}\\right) \\sin{\\left (n \\omega_{T} t \\right )} & \\text{for}\\: \\frac{T}{2} \\leq t \\end{cases}\\, dt$$"
      ],
      "text/plain": [
       "  T                                         \n",
       "  ⌠                                         \n",
       "  ⎮ ⎧  ⎛     4⋅t⎞                       T   \n",
       "  ⎮ ⎪A⋅⎜-1 + ───⎟⋅sin(n⋅ω_T⋅t)  for t ≤ ─   \n",
       "  ⎮ ⎪  ⎝      T ⎠                       2   \n",
       "2⋅⎮ ⎨                                     dt\n",
       "  ⎮ ⎪  ⎛    4⋅t⎞                    T       \n",
       "  ⎮ ⎪A⋅⎜3 - ───⎟⋅sin(n⋅ω_T⋅t)   for ─ ≤ t   \n",
       "  ⎮ ⎩  ⎝     T ⎠                    2       \n",
       "  ⌡                                         \n",
       "  0                                         \n",
       "────────────────────────────────────────────\n",
       "                     T                      "
      ]
     },
     "execution_count": 28,
     "metadata": {},
     "output_type": "execute_result"
    }
   ],
   "source": [
    "bn = 2 / T * sm.Integral(F * sm.sin(n * wT * t), (t, 0, T))\n",
    "bn"
   ]
  },
  {
   "cell_type": "code",
   "execution_count": 29,
   "metadata": {
    "collapsed": false
   },
   "outputs": [
    {
     "data": {
      "image/png": "[encoded data removed]",
      "text/latex": [
       "$$0$$"
      ],
      "text/plain": [
       "0"
      ]
     },
     "execution_count": 29,
     "metadata": {},
     "output_type": "execute_result"
    }
   ],
   "source": [
    "bn.doit().simplify().subs({wT: 2 * sm.pi / T})"
   ]
  },
  {
   "cell_type": "markdown",
   "metadata": {},
   "source": [
    "# Random questions questions from class\n",
    "\n",
    "The source code for any function is shown with the double question mark."
   ]
  },
  {
   "cell_type": "code",
   "execution_count": 30,
   "metadata": {
    "collapsed": true
   },
   "outputs": [],
   "source": [
    "sm.Integral??"
   ]
  },
  {
   "cell_type": "markdown",
   "metadata": {},
   "source": [
    "The location of the file the function comes from can be found by accessing the `__file__` attribute."
   ]
  },
  {
   "cell_type": "code",
   "execution_count": 31,
   "metadata": {
    "collapsed": false
   },
   "outputs": [
    {
     "data": {
      "text/plain": [
       "'/home/moorepants/miniconda3/lib/python3.5/site-packages/sympy/__init__.py'"
      ]
     },
     "execution_count": 31,
     "metadata": {},
     "output_type": "execute_result"
    }
   ],
   "source": [
    "sm.__file__"
   ]
  },
  {
   "cell_type": "markdown",
   "metadata": {},
   "source": [
    "SymPy can handle unit for you too."
   ]
  },
  {
   "cell_type": "code",
   "execution_count": 32,
   "metadata": {
    "collapsed": true
   },
   "outputs": [],
   "source": [
    "from sympy.physics.units import meter, kilogram, second"
   ]
  },
  {
   "cell_type": "code",
   "execution_count": 33,
   "metadata": {
    "collapsed": false
   },
   "outputs": [
    {
     "data": {
      "image/png": "[encoded data removed]",
      "text/latex": [
       "$$10 s$$"
      ],
      "text/plain": [
       "10⋅s"
      ]
     },
     "execution_count": 33,
     "metadata": {},
     "output_type": "execute_result"
    }
   ],
   "source": [
    "a = 10 * second\n",
    "a"
   ]
  },
  {
   "cell_type": "code",
   "execution_count": 34,
   "metadata": {
    "collapsed": true
   },
   "outputs": [],
   "source": [
    "b = 5 * meter"
   ]
  },
  {
   "cell_type": "code",
   "execution_count": 35,
   "metadata": {
    "collapsed": true
   },
   "outputs": [],
   "source": [
    "c = 6 * kilogram"
   ]
  },
  {
   "cell_type": "code",
   "execution_count": 36,
   "metadata": {
    "collapsed": false
   },
   "outputs": [
    {
     "data": {
      "image/png": "[encoded data removed]",
      "text/latex": [
       "$$\\left ( 10 s, \\quad 5 m, \\quad 6 kg\\right )$$"
      ],
      "text/plain": [
       "(10⋅s, 5⋅m, 6⋅kg)"
      ]
     },
     "execution_count": 36,
     "metadata": {},
     "output_type": "execute_result"
    }
   ],
   "source": [
    "a, b, c"
   ]
  },
  {
   "cell_type": "code",
   "execution_count": 37,
   "metadata": {
    "collapsed": false
   },
   "outputs": [
    {
     "data": {
      "image/png": "[encoded data removed]",
      "text/latex": [
       "$$\\frac{3 kg m}{10 s^{2}}$$"
      ],
      "text/plain": [
       "3⋅kg⋅m\n",
       "──────\n",
       "    2 \n",
       "10⋅s  "
      ]
     },
     "execution_count": 37,
     "metadata": {},
     "output_type": "execute_result"
    }
   ],
   "source": [
    "expr = c * b / a**2\n",
    "expr"
   ]
  },
  {
   "cell_type": "code",
   "execution_count": 38,
   "metadata": {
    "collapsed": true
   },
   "outputs": [],
   "source": [
    "from sympy.physics.units import newton"
   ]
  },
  {
   "cell_type": "code",
   "execution_count": 39,
   "metadata": {
    "collapsed": false
   },
   "outputs": [
    {
     "data": {
      "image/png": "[encoded data removed]",
      "text/latex": [
       "$$\\frac{5 kg}{s^{2}} m$$"
      ],
      "text/plain": [
       "5⋅kg⋅m\n",
       "──────\n",
       "   2  \n",
       "  s   "
      ]
     },
     "execution_count": 39,
     "metadata": {},
     "output_type": "execute_result"
    }
   ],
   "source": [
    "5 * newton"
   ]
  },
  {
   "cell_type": "markdown",
   "metadata": {},
   "source": [
    "# Numerical evalution of the Fourier Series\n",
    "\n",
    "Now the Fourier coefficients can be used to plot the approximation of the saw tooth forcing function."
   ]
  },
  {
   "cell_type": "code",
   "execution_count": 40,
   "metadata": {
    "collapsed": true
   },
   "outputs": [],
   "source": [
    "import numpy as np\n",
    "import matplotlib.pyplot as plt\n",
    "%matplotlib notebook"
   ]
  },
  {
   "cell_type": "markdown",
   "metadata": {},
   "source": [
    "The following function plots the actual sawtooth function. It does it all in one line by cleverly using the absolute value and the modulo functions."
   ]
  },
  {
   "cell_type": "code",
   "execution_count": 41,
   "metadata": {
    "collapsed": true
   },
   "outputs": [],
   "source": [
    "def sawtooth(A, T, t):\n",
    "    return (4 * A / T) * (T / 2 - np.abs(t % T - T / 2) ) - A"
   ]
  },
  {
   "cell_type": "code",
   "execution_count": 42,
   "metadata": {
    "collapsed": false
   },
   "outputs": [],
   "source": [
    "A = 1\n",
    "T = 2\n",
    "t = np.linspace(0, 5, num=500)"
   ]
  },
  {
   "cell_type": "code",
   "execution_count": 43,
   "metadata": {
    "collapsed": false
   },
   "outputs": [
    {
     "data": {
      "application/javascript": [
       "/* Put everything inside the global mpl namespace */\n",
       "window.mpl = {};\n",
       "\n",
       "mpl.get_websocket_type = function() {\n",
       "    if (typeof(WebSocket) !== 'undefined') {\n",
       "        return WebSocket;\n",
       "    } else if (typeof(MozWebSocket) !== 'undefined') {\n",
       "        return MozWebSocket;\n",
       "    } else {\n",
       "        alert('Your browser does not have WebSocket support.' +\n",
       "              'Please try Chrome, Safari or Firefox ≥ 6. ' +\n",
       "              'Firefox 4 and 5 are also supported but you ' +\n",
       "              'have to enable WebSockets in about:config.');\n",
       "    };\n",
       "}\n",
       "\n",
       "mpl.figure = function(figure_id, websocket, ondownload, parent_element) {\n",
       "    this.id = figure_id;\n",
       "\n",
       "    this.ws = websocket;\n",
       "\n",
       "    this.supports_binary = (this.ws.binaryType != undefined);\n",
       "\n",
       "    if (!this.supports_binary) {\n",
       "        var warnings = document.getElementById(\"mpl-warnings\");\n",
       "        if (warnings) {\n",
       "            warnings.style.display = 'block';\n",
       "            warnings.textContent = (\n",
       "                \"This browser does not support binary websocket messages. \" +\n",
       "                    \"Performance may be slow.\");\n",
       "        }\n",
       "    }\n",
       "\n",
       "    this.imageObj = new Image();\n",
       "\n",
       "    this.context = undefined;\n",
       "    this.message = undefined;\n",
       "    this.canvas = undefined;\n",
       "    this.rubberband_canvas = undefined;\n",
       "    this.rubberband_context = undefined;\n",
       "    this.format_dropdown = undefined;\n",
       "\n",
       "    this.image_mode = 'full';\n",
       "\n",
       "    this.root = $('<div/>');\n",
       "    this._root_extra_style(this.root)\n",
       "    this.root.attr('style', 'display: inline-block');\n",
       "\n",
       "    $(parent_element).append(this.root);\n",
       "\n",
       "    this._init_header(this);\n",
       "    this._init_canvas(this);\n",
       "    this._init_toolbar(this);\n",
       "\n",
       "    var fig = this;\n",
       "\n",
       "    this.waiting = false;\n",
       "\n",
       "    this.ws.onopen =  function () {\n",
       "            fig.send_message(\"supports_binary\", {value: fig.supports_binary});\n",
       "            fig.send_message(\"send_image_mode\", {});\n",
       "            fig.send_message(\"refresh\", {});\n",
       "        }\n",
       "\n",
       "    this.imageObj.onload = function() {\n",
       "            if (fig.image_mode == 'full') {\n",
       "                // Full images could contain transparency (where diff images\n",
       "                // almost always do), so we need to clear the canvas so that\n",
       "                // there is no ghosting.\n",
       "                fig.context.clearRect(0, 0, fig.canvas.width, fig.canvas.height);\n",
       "            }\n",
       "            fig.context.drawImage(fig.imageObj, 0, 0);\n",
       "        };\n",
       "\n",
       "    this.imageObj.onunload = function() {\n",
       "        this.ws.close();\n",
       "    }\n",
       "\n",
       "    this.ws.onmessage = this._make_on_message_function(this);\n",
       "\n",
       "    this.ondownload = ondownload;\n",
       "}\n",
       "\n",
       "mpl.figure.prototype._init_header = function() {\n",
       "    var titlebar = $(\n",
       "        '<div class=\"ui-dialog-titlebar ui-widget-header ui-corner-all ' +\n",
       "        'ui-helper-clearfix\"/>');\n",
       "    var titletext = $(\n",
       "        '<div class=\"ui-dialog-title\" style=\"width: 100%; ' +\n",
       "        'text-align: center; padding: 3px;\"/>');\n",
       "    titlebar.append(titletext)\n",
       "    this.root.append(titlebar);\n",
       "    this.header = titletext[0];\n",
       "}\n",
       "\n",
       "\n",
       "\n",
       "mpl.figure.prototype._canvas_extra_style = function(canvas_div) {\n",
       "\n",
       "}\n",
       "\n",
       "\n",
       "mpl.figure.prototype._root_extra_style = function(canvas_div) {\n",
       "\n",
       "}\n",
       "\n",
       "mpl.figure.prototype._init_canvas = function() {\n",
       "    var fig = this;\n",
       "\n",
       "    var canvas_div = $('<div/>');\n",
       "\n",
       "    canvas_div.attr('style', 'position: relative; clear: both; outline: 0');\n",
       "\n",
       "    function canvas_keyboard_event(event) {\n",
       "        return fig.key_event(event, event['data']);\n",
       "    }\n",
       "\n",
       "    canvas_div.keydown('key_press', canvas_keyboard_event);\n",
       "    canvas_div.keyup('key_release', canvas_keyboard_event);\n",
       "    this.canvas_div = canvas_div\n",
       "    this._canvas_extra_style(canvas_div)\n",
       "    this.root.append(canvas_div);\n",
       "\n",
       "    var canvas = $('<canvas/>');\n",
       "    canvas.addClass('mpl-canvas');\n",
       "    canvas.attr('style', \"left: 0; top: 0; z-index: 0; outline: 0\")\n",
       "\n",
       "    this.canvas = canvas[0];\n",
       "    this.context = canvas[0].getContext(\"2d\");\n",
       "\n",
       "    var rubberband = $('<canvas/>');\n",
       "    rubberband.attr('style', \"position: absolute; left: 0; top: 0; z-index: 1;\")\n",
       "\n",
       "    var pass_mouse_events = true;\n",
       "\n",
       "    canvas_div.resizable({\n",
       "        start: function(event, ui) {\n",
       "            pass_mouse_events = false;\n",
       "        },\n",
       "        resize: function(event, ui) {\n",
       "            fig.request_resize(ui.size.width, ui.size.height);\n",
       "        },\n",
       "        stop: function(event, ui) {\n",
       "            pass_mouse_events = true;\n",
       "            fig.request_resize(ui.size.width, ui.size.height);\n",
       "        },\n",
       "    });\n",
       "\n",
       "    function mouse_event_fn(event) {\n",
       "        if (pass_mouse_events)\n",
       "            return fig.mouse_event(event, event['data']);\n",
       "    }\n",
       "\n",
       "    rubberband.mousedown('button_press', mouse_event_fn);\n",
       "    rubberband.mouseup('button_release', mouse_event_fn);\n",
       "    // Throttle sequential mouse events to 1 every 20ms.\n",
       "    rubberband.mousemove('motion_notify', mouse_event_fn);\n",
       "\n",
       "    rubberband.mouseenter('figure_enter', mouse_event_fn);\n",
       "    rubberband.mouseleave('figure_leave', mouse_event_fn);\n",
       "\n",
       "    canvas_div.on(\"wheel\", function (event) {\n",
       "        event = event.originalEvent;\n",
       "        event['data'] = 'scroll'\n",
       "        if (event.deltaY < 0) {\n",
       "            event.step = 1;\n",
       "        } else {\n",
       "            event.step = -1;\n",
       "        }\n",
       "        mouse_event_fn(event);\n",
       "    });\n",
       "\n",
       "    canvas_div.append(canvas);\n",
       "    canvas_div.append(rubberband);\n",
       "\n",
       "    this.rubberband = rubberband;\n",
       "    this.rubberband_canvas = rubberband[0];\n",
       "    this.rubberband_context = rubberband[0].getContext(\"2d\");\n",
       "    this.rubberband_context.strokeStyle = \"#000000\";\n",
       "\n",
       "    this._resize_canvas = function(width, height) {\n",
       "        // Keep the size of the canvas, canvas container, and rubber band\n",
       "        // canvas in synch.\n",
       "        canvas_div.css('width', width)\n",
       "        canvas_div.css('height', height)\n",
       "\n",
       "        canvas.attr('width', width);\n",
       "        canvas.attr('height', height);\n",
       "\n",
       "        rubberband.attr('width', width);\n",
       "        rubberband.attr('height', height);\n",
       "    }\n",
       "\n",
       "    // Set the figure to an initial 600x600px, this will subsequently be updated\n",
       "    // upon first draw.\n",
       "    this._resize_canvas(600, 600);\n",
       "\n",
       "    // Disable right mouse context menu.\n",
       "    $(this.rubberband_canvas).bind(\"contextmenu\",function(e){\n",
       "        return false;\n",
       "    });\n",
       "\n",
       "    function set_focus () {\n",
       "        canvas.focus();\n",
       "        canvas_div.focus();\n",
       "    }\n",
       "\n",
       "    window.setTimeout(set_focus, 100);\n",
       "}\n",
       "\n",
       "mpl.figure.prototype._init_toolbar = function() {\n",
       "    var fig = this;\n",
       "\n",
       "    var nav_element = $('<div/>')\n",
       "    nav_element.attr('style', 'width: 100%');\n",
       "    this.root.append(nav_element);\n",
       "\n",
       "    // Define a callback function for later on.\n",
       "    function toolbar_event(event) {\n",
       "        return fig.toolbar_button_onclick(event['data']);\n",
       "    }\n",
       "    function toolbar_mouse_event(event) {\n",
       "        return fig.toolbar_button_onmouseover(event['data']);\n",
       "    }\n",
       "\n",
       "    for(var toolbar_ind in mpl.toolbar_items) {\n",
       "        var name = mpl.toolbar_items[toolbar_ind][0];\n",
       "        var tooltip = mpl.toolbar_items[toolbar_ind][1];\n",
       "        var image = mpl.toolbar_items[toolbar_ind][2];\n",
       "        var method_name = mpl.toolbar_items[toolbar_ind][3];\n",
       "\n",
       "        if (!name) {\n",
       "            // put a spacer in here.\n",
       "            continue;\n",
       "        }\n",
       "        var button = $('<button/>');\n",
       "        button.addClass('ui-button ui-widget ui-state-default ui-corner-all ' +\n",
       "                        'ui-button-icon-only');\n",
       "        button.attr('role', 'button');\n",
       "        button.attr('aria-disabled', 'false');\n",
       "        button.click(method_name, toolbar_event);\n",
       "        button.mouseover(tooltip, toolbar_mouse_event);\n",
       "\n",
       "        var icon_img = $('<span/>');\n",
       "        icon_img.addClass('ui-button-icon-primary ui-icon');\n",
       "        icon_img.addClass(image);\n",
       "        icon_img.addClass('ui-corner-all');\n",
       "\n",
       "        var tooltip_span = $('<span/>');\n",
       "        tooltip_span.addClass('ui-button-text');\n",
       "        tooltip_span.html(tooltip);\n",
       "\n",
       "        button.append(icon_img);\n",
       "        button.append(tooltip_span);\n",
       "\n",
       "        nav_element.append(button);\n",
       "    }\n",
       "\n",
       "    var fmt_picker_span = $('<span/>');\n",
       "\n",
       "    var fmt_picker = $('<select/>');\n",
       "    fmt_picker.addClass('mpl-toolbar-option ui-widget ui-widget-content');\n",
       "    fmt_picker_span.append(fmt_picker);\n",
       "    nav_element.append(fmt_picker_span);\n",
       "    this.format_dropdown = fmt_picker[0];\n",
       "\n",
       "    for (var ind in mpl.extensions) {\n",
       "        var fmt = mpl.extensions[ind];\n",
       "        var option = $(\n",
       "            '<option/>', {selected: fmt === mpl.default_extension}).html(fmt);\n",
       "        fmt_picker.append(option)\n",
       "    }\n",
       "\n",
       "    // Add hover states to the ui-buttons\n",
       "    $( \".ui-button\" ).hover(\n",
       "        function() { $(this).addClass(\"ui-state-hover\");},\n",
       "        function() { $(this).removeClass(\"ui-state-hover\");}\n",
       "    );\n",
       "\n",
       "    var status_bar = $('<span class=\"mpl-message\"/>');\n",
       "    nav_element.append(status_bar);\n",
       "    this.message = status_bar[0];\n",
       "}\n",
       "\n",
       "mpl.figure.prototype.request_resize = function(x_pixels, y_pixels) {\n",
       "    // Request matplotlib to resize the figure. Matplotlib will then trigger a resize in the client,\n",
       "    // which will in turn request a refresh of the image.\n",
       "    this.send_message('resize', {'width': x_pixels, 'height': y_pixels});\n",
       "}\n",
       "\n",
       "mpl.figure.prototype.send_message = function(type, properties) {\n",
       "    properties['type'] = type;\n",
       "    properties['figure_id'] = this.id;\n",
       "    this.ws.send(JSON.stringify(properties));\n",
       "}\n",
       "\n",
       "mpl.figure.prototype.send_draw_message = function() {\n",
       "    if (!this.waiting) {\n",
       "        this.waiting = true;\n",
       "        this.ws.send(JSON.stringify({type: \"draw\", figure_id: this.id}));\n",
       "    }\n",
       "}\n",
       "\n",
       "\n",
       "mpl.figure.prototype.handle_save = function(fig, msg) {\n",
       "    var format_dropdown = fig.format_dropdown;\n",
       "    var format = format_dropdown.options[format_dropdown.selectedIndex].value;\n",
       "    fig.ondownload(fig, format);\n",
       "}\n",
       "\n",
       "\n",
       "mpl.figure.prototype.handle_resize = function(fig, msg) {\n",
       "    var size = msg['size'];\n",
       "    if (size[0] != fig.canvas.width || size[1] != fig.canvas.height) {\n",
       "        fig._resize_canvas(size[0], size[1]);\n",
       "        fig.send_message(\"refresh\", {});\n",
       "    };\n",
       "}\n",
       "\n",
       "mpl.figure.prototype.handle_rubberband = function(fig, msg) {\n",
       "    var x0 = msg['x0'];\n",
       "    var y0 = fig.canvas.height - msg['y0'];\n",
       "    var x1 = msg['x1'];\n",
       "    var y1 = fig.canvas.height - msg['y1'];\n",
       "    x0 = Math.floor(x0) + 0.5;\n",
       "    y0 = Math.floor(y0) + 0.5;\n",
       "    x1 = Math.floor(x1) + 0.5;\n",
       "    y1 = Math.floor(y1) + 0.5;\n",
       "    var min_x = Math.min(x0, x1);\n",
       "    var min_y = Math.min(y0, y1);\n",
       "    var width = Math.abs(x1 - x0);\n",
       "    var height = Math.abs(y1 - y0);\n",
       "\n",
       "    fig.rubberband_context.clearRect(\n",
       "        0, 0, fig.canvas.width, fig.canvas.height);\n",
       "\n",
       "    fig.rubberband_context.strokeRect(min_x, min_y, width, height);\n",
       "}\n",
       "\n",
       "mpl.figure.prototype.handle_figure_label = function(fig, msg) {\n",
       "    // Updates the figure title.\n",
       "    fig.header.textContent = msg['label'];\n",
       "}\n",
       "\n",
       "mpl.figure.prototype.handle_cursor = function(fig, msg) {\n",
       "    var cursor = msg['cursor'];\n",
       "    switch(cursor)\n",
       "    {\n",
       "    case 0:\n",
       "        cursor = 'pointer';\n",
       "        break;\n",
       "    case 1:\n",
       "        cursor = 'default';\n",
       "        break;\n",
       "    case 2:\n",
       "        cursor = 'crosshair';\n",
       "        break;\n",
       "    case 3:\n",
       "        cursor = 'move';\n",
       "        break;\n",
       "    }\n",
       "    fig.rubberband_canvas.style.cursor = cursor;\n",
       "}\n",
       "\n",
       "mpl.figure.prototype.handle_message = function(fig, msg) {\n",
       "    fig.message.textContent = msg['message'];\n",
       "}\n",
       "\n",
       "mpl.figure.prototype.handle_draw = function(fig, msg) {\n",
       "    // Request the server to send over a new figure.\n",
       "    fig.send_draw_message();\n",
       "}\n",
       "\n",
       "mpl.figure.prototype.handle_image_mode = function(fig, msg) {\n",
       "    fig.image_mode = msg['mode'];\n",
       "}\n",
       "\n",
       "mpl.figure.prototype.updated_canvas_event = function() {\n",
       "    // Called whenever the canvas gets updated.\n",
       "    this.send_message(\"ack\", {});\n",
       "}\n",
       "\n",
       "// A function to construct a web socket function for onmessage handling.\n",
       "// Called in the figure constructor.\n",
       "mpl.figure.prototype._make_on_message_function = function(fig) {\n",
       "    return function socket_on_message(evt) {\n",
       "        if (evt.data instanceof Blob) {\n",
       "            /* FIXME: We get \"Resource interpreted as Image but\n",
       "             * transferred with MIME type text/plain:\" errors on\n",
       "             * Chrome.  But how to set the MIME type?  It doesn't seem\n",
       "             * to be part of the websocket stream */\n",
       "            evt.data.type = \"image/png\";\n",
       "\n",
       "            /* Free the memory for the previous frames */\n",
       "            if (fig.imageObj.src) {\n",
       "                (window.URL || window.webkitURL).revokeObjectURL(\n",
       "                    fig.imageObj.src);\n",
       "            }\n",
       "\n",
       "            fig.imageObj.src = (window.URL || window.webkitURL).createObjectURL(\n",
       "                evt.data);\n",
       "            fig.updated_canvas_event();\n",
       "            fig.waiting = false;\n",
       "            return;\n",
       "        }\n",
       "        else if (typeof evt.data === 'string' && evt.data.slice(0, 21) == \"data:image/png;base64\") {\n",
       "            fig.imageObj.src = evt.data;\n",
       "            fig.updated_canvas_event();\n",
       "            fig.waiting = false;\n",
       "            return;\n",
       "        }\n",
       "\n",
       "        var msg = JSON.parse(evt.data);\n",
       "        var msg_type = msg['type'];\n",
       "\n",
       "        // Call the  \"handle_{type}\" callback, which takes\n",
       "        // the figure and JSON message as its only arguments.\n",
       "        try {\n",
       "            var callback = fig[\"handle_\" + msg_type];\n",
       "        } catch (e) {\n",
       "            console.log(\"No handler for the '\" + msg_type + \"' message type: \", msg);\n",
       "            return;\n",
       "        }\n",
       "\n",
       "        if (callback) {\n",
       "            try {\n",
       "                // console.log(\"Handling '\" + msg_type + \"' message: \", msg);\n",
       "                callback(fig, msg);\n",
       "            } catch (e) {\n",
       "                console.log(\"Exception inside the 'handler_\" + msg_type + \"' callback:\", e, e.stack, msg);\n",
       "            }\n",
       "        }\n",
       "    };\n",
       "}\n",
       "\n",
       "// from http://stackoverflow.com/questions/1114465/getting-mouse-location-in-canvas\n",
       "mpl.findpos = function(e) {\n",
       "    //this section is from http://www.quirksmode.org/js/events_properties.html\n",
       "    var targ;\n",
       "    if (!e)\n",
       "        e = window.event;\n",
       "    if (e.target)\n",
       "        targ = e.target;\n",
       "    else if (e.srcElement)\n",
       "        targ = e.srcElement;\n",
       "    if (targ.nodeType == 3) // defeat Safari bug\n",
       "        targ = targ.parentNode;\n",
       "\n",
       "    // jQuery normalizes the pageX and pageY\n",
       "    // pageX,Y are the mouse positions relative to the document\n",
       "    // offset() returns the position of the element relative to the document\n",
       "    var x = e.pageX - $(targ).offset().left;\n",
       "    var y = e.pageY - $(targ).offset().top;\n",
       "\n",
       "    return {\"x\": x, \"y\": y};\n",
       "};\n",
       "\n",
       "/*\n",
       " * return a copy of an object with only non-object keys\n",
       " * we need this to avoid circular references\n",
       " * http://stackoverflow.com/a/24161582/3208463\n",
       " */\n",
       "function simpleKeys (original) {\n",
       "  return Object.keys(original).reduce(function (obj, key) {\n",
       "    if (typeof original[key] !== 'object')\n",
       "        obj[key] = original[key]\n",
       "    return obj;\n",
       "  }, {});\n",
       "}\n",
       "\n",
       "mpl.figure.prototype.mouse_event = function(event, name) {\n",
       "    var canvas_pos = mpl.findpos(event)\n",
       "\n",
       "    if (name === 'button_press')\n",
       "    {\n",
       "        this.canvas.focus();\n",
       "        this.canvas_div.focus();\n",
       "    }\n",
       "\n",
       "    var x = canvas_pos.x;\n",
       "    var y = canvas_pos.y;\n",
       "\n",
       "    this.send_message(name, {x: x, y: y, button: event.button,\n",
       "                             step: event.step,\n",
       "                             guiEvent: simpleKeys(event)});\n",
       "\n",
       "    /* This prevents the web browser from automatically changing to\n",
       "     * the text insertion cursor when the button is pressed.  We want\n",
       "     * to control all of the cursor setting manually through the\n",
       "     * 'cursor' event from matplotlib */\n",
       "    event.preventDefault();\n",
       "    return false;\n",
       "}\n",
       "\n",
       "mpl.figure.prototype._key_event_extra = function(event, name) {\n",
       "    // Handle any extra behaviour associated with a key event\n",
       "}\n",
       "\n",
       "mpl.figure.prototype.key_event = function(event, name) {\n",
       "\n",
       "    // Prevent repeat events\n",
       "    if (name == 'key_press')\n",
       "    {\n",
       "        if (event.which === this._key)\n",
       "            return;\n",
       "        else\n",
       "            this._key = event.which;\n",
       "    }\n",
       "    if (name == 'key_release')\n",
       "        this._key = null;\n",
       "\n",
       "    var value = '';\n",
       "    if (event.ctrlKey && event.which != 17)\n",
       "        value += \"ctrl+\";\n",
       "    if (event.altKey && event.which != 18)\n",
       "        value += \"alt+\";\n",
       "    if (event.shiftKey && event.which != 16)\n",
       "        value += \"shift+\";\n",
       "\n",
       "    value += 'k';\n",
       "    value += event.which.toString();\n",
       "\n",
       "    this._key_event_extra(event, name);\n",
       "\n",
       "    this.send_message(name, {key: value,\n",
       "                             guiEvent: simpleKeys(event)});\n",
       "    return false;\n",
       "}\n",
       "\n",
       "mpl.figure.prototype.toolbar_button_onclick = function(name) {\n",
       "    if (name == 'download') {\n",
       "        this.handle_save(this, null);\n",
       "    } else {\n",
       "        this.send_message(\"toolbar_button\", {name: name});\n",
       "    }\n",
       "};\n",
       "\n",
       "mpl.figure.prototype.toolbar_button_onmouseover = function(tooltip) {\n",
       "    this.message.textContent = tooltip;\n",
       "};\n",
       "mpl.toolbar_items = [[\"Home\", \"Reset original view\", \"fa fa-home icon-home\", \"home\"], [\"Back\", \"Back to  previous view\", \"fa fa-arrow-left icon-arrow-left\", \"back\"], [\"Forward\", \"Forward to next view\", \"fa fa-arrow-right icon-arrow-right\", \"forward\"], [\"\", \"\", \"\", \"\"], [\"Pan\", \"Pan axes with left mouse, zoom with right\", \"fa fa-arrows icon-move\", \"pan\"], [\"Zoom\", \"Zoom to rectangle\", \"fa fa-square-o icon-check-empty\", \"zoom\"], [\"\", \"\", \"\", \"\"], [\"Download\", \"Download plot\", \"fa fa-floppy-o icon-save\", \"download\"]];\n",
       "\n",
       "mpl.extensions = [\"eps\", \"jpeg\", \"pdf\", \"png\", \"ps\", \"raw\", \"svg\", \"tif\"];\n",
       "\n",
       "mpl.default_extension = \"png\";var comm_websocket_adapter = function(comm) {\n",
       "    // Create a \"websocket\"-like object which calls the given IPython comm\n",
       "    // object with the appropriate methods. Currently this is a non binary\n",
       "    // socket, so there is still some room for performance tuning.\n",
       "    var ws = {};\n",
       "\n",
       "    ws.close = function() {\n",
       "        comm.close()\n",
       "    };\n",
       "    ws.send = function(m) {\n",
       "        //console.log('sending', m);\n",
       "        comm.send(m);\n",
       "    };\n",
       "    // Register the callback with on_msg.\n",
       "    comm.on_msg(function(msg) {\n",
       "        //console.log('receiving', msg['content']['data'], msg);\n",
       "        // Pass the mpl event to the overriden (by mpl) onmessage function.\n",
       "        ws.onmessage(msg['content']['data'])\n",
       "    });\n",
       "    return ws;\n",
       "}\n",
       "\n",
       "mpl.mpl_figure_comm = function(comm, msg) {\n",
       "    // This is the function which gets called when the mpl process\n",
       "    // starts-up an IPython Comm through the \"matplotlib\" channel.\n",
       "\n",
       "    var id = msg.content.data.id;\n",
       "    // Get hold of the div created by the display call when the Comm\n",
       "    // socket was opened in Python.\n",
       "    var element = $(\"#\" + id);\n",
       "    var ws_proxy = comm_websocket_adapter(comm)\n",
       "\n",
       "    function ondownload(figure, format) {\n",
       "        window.open(figure.imageObj.src);\n",
       "    }\n",
       "\n",
       "    var fig = new mpl.figure(id, ws_proxy,\n",
       "                           ondownload,\n",
       "                           element.get(0));\n",
       "\n",
       "    // Call onopen now - mpl needs it, as it is assuming we've passed it a real\n",
       "    // web socket which is closed, not our websocket->open comm proxy.\n",
       "    ws_proxy.onopen();\n",
       "\n",
       "    fig.parent_element = element.get(0);\n",
       "    fig.cell_info = mpl.find_output_cell(\"<div id='\" + id + \"'></div>\");\n",
       "    if (!fig.cell_info) {\n",
       "        console.error(\"Failed to find cell for figure\", id, fig);\n",
       "        return;\n",
       "    }\n",
       "\n",
       "    var output_index = fig.cell_info[2]\n",
       "    var cell = fig.cell_info[0];\n",
       "\n",
       "};\n",
       "\n",
       "mpl.figure.prototype.handle_close = function(fig, msg) {\n",
       "    fig.root.unbind('remove')\n",
       "\n",
       "    // Update the output cell to use the data from the current canvas.\n",
       "    fig.push_to_output();\n",
       "    var dataURL = fig.canvas.toDataURL();\n",
       "    // Re-enable the keyboard manager in IPython - without this line, in FF,\n",
       "    // the notebook keyboard shortcuts fail.\n",
       "    IPython.keyboard_manager.enable()\n",
       "    $(fig.parent_element).html('<img src=\"' + dataURL + '\">');\n",
       "    fig.close_ws(fig, msg);\n",
       "}\n",
       "\n",
       "mpl.figure.prototype.close_ws = function(fig, msg){\n",
       "    fig.send_message('closing', msg);\n",
       "    // fig.ws.close()\n",
       "}\n",
       "\n",
       "mpl.figure.prototype.push_to_output = function(remove_interactive) {\n",
       "    // Turn the data on the canvas into data in the output cell.\n",
       "    var dataURL = this.canvas.toDataURL();\n",
       "    this.cell_info[1]['text/html'] = '<img src=\"' + dataURL + '\">';\n",
       "}\n",
       "\n",
       "mpl.figure.prototype.updated_canvas_event = function() {\n",
       "    // Tell IPython that the notebook contents must change.\n",
       "    IPython.notebook.set_dirty(true);\n",
       "    this.send_message(\"ack\", {});\n",
       "    var fig = this;\n",
       "    // Wait a second, then push the new image to the DOM so\n",
       "    // that it is saved nicely (might be nice to debounce this).\n",
       "    setTimeout(function () { fig.push_to_output() }, 1000);\n",
       "}\n",
       "\n",
       "mpl.figure.prototype._init_toolbar = function() {\n",
       "    var fig = this;\n",
       "\n",
       "    var nav_element = $('<div/>')\n",
       "    nav_element.attr('style', 'width: 100%');\n",
       "    this.root.append(nav_element);\n",
       "\n",
       "    // Define a callback function for later on.\n",
       "    function toolbar_event(event) {\n",
       "        return fig.toolbar_button_onclick(event['data']);\n",
       "    }\n",
       "    function toolbar_mouse_event(event) {\n",
       "        return fig.toolbar_button_onmouseover(event['data']);\n",
       "    }\n",
       "\n",
       "    for(var toolbar_ind in mpl.toolbar_items){\n",
       "        var name = mpl.toolbar_items[toolbar_ind][0];\n",
       "        var tooltip = mpl.toolbar_items[toolbar_ind][1];\n",
       "        var image = mpl.toolbar_items[toolbar_ind][2];\n",
       "        var method_name = mpl.toolbar_items[toolbar_ind][3];\n",
       "\n",
       "        if (!name) { continue; };\n",
       "\n",
       "        var button = $('<button class=\"btn btn-default\" href=\"#\" title=\"' + name + '\"><i class=\"fa ' + image + ' fa-lg\"></i></button>');\n",
       "        button.click(method_name, toolbar_event);\n",
       "        button.mouseover(tooltip, toolbar_mouse_event);\n",
       "        nav_element.append(button);\n",
       "    }\n",
       "\n",
       "    // Add the status bar.\n",
       "    var status_bar = $('<span class=\"mpl-message\" style=\"text-align:right; float: right;\"/>');\n",
       "    nav_element.append(status_bar);\n",
       "    this.message = status_bar[0];\n",
       "\n",
       "    // Add the close button to the window.\n",
       "    var buttongrp = $('<div class=\"btn-group inline pull-right\"></div>');\n",
       "    var button = $('<button class=\"btn btn-mini btn-primary\" href=\"#\" title=\"Stop Interaction\"><i class=\"fa fa-power-off icon-remove icon-large\"></i></button>');\n",
       "    button.click(function (evt) { fig.handle_close(fig, {}); } );\n",
       "    button.mouseover('Stop Interaction', toolbar_mouse_event);\n",
       "    buttongrp.append(button);\n",
       "    var titlebar = this.root.find($('.ui-dialog-titlebar'));\n",
       "    titlebar.prepend(buttongrp);\n",
       "}\n",
       "\n",
       "mpl.figure.prototype._root_extra_style = function(el){\n",
       "    var fig = this\n",
       "    el.on(\"remove\", function(){\n",
       "\tfig.close_ws(fig, {});\n",
       "    });\n",
       "}\n",
       "\n",
       "mpl.figure.prototype._canvas_extra_style = function(el){\n",
       "    // this is important to make the div 'focusable\n",
       "    el.attr('tabindex', 0)\n",
       "    // reach out to IPython and tell the keyboard manager to turn it's self\n",
       "    // off when our div gets focus\n",
       "\n",
       "    // location in version 3\n",
       "    if (IPython.notebook.keyboard_manager) {\n",
       "        IPython.notebook.keyboard_manager.register_events(el);\n",
       "    }\n",
       "    else {\n",
       "        // location in version 2\n",
       "        IPython.keyboard_manager.register_events(el);\n",
       "    }\n",
       "\n",
       "}\n",
       "\n",
       "mpl.figure.prototype._key_event_extra = function(event, name) {\n",
       "    var manager = IPython.notebook.keyboard_manager;\n",
       "    if (!manager)\n",
       "        manager = IPython.keyboard_manager;\n",
       "\n",
       "    // Check for shift+enter\n",
       "    if (event.shiftKey && event.which == 13) {\n",
       "        this.canvas_div.blur();\n",
       "        // select the cell after this one\n",
       "        var index = IPython.notebook.find_cell_index(this.cell_info[0]);\n",
       "        IPython.notebook.select(index + 1);\n",
       "    }\n",
       "}\n",
       "\n",
       "mpl.figure.prototype.handle_save = function(fig, msg) {\n",
       "    fig.ondownload(fig, null);\n",
       "}\n",
       "\n",
       "\n",
       "mpl.find_output_cell = function(html_output) {\n",
       "    // Return the cell and output element which can be found *uniquely* in the notebook.\n",
       "    // Note - this is a bit hacky, but it is done because the \"notebook_saving.Notebook\"\n",
       "    // IPython event is triggered only after the cells have been serialised, which for\n",
       "    // our purposes (turning an active figure into a static one), is too late.\n",
       "    var cells = IPython.notebook.get_cells();\n",
       "    var ncells = cells.length;\n",
       "    for (var i=0; i<ncells; i++) {\n",
       "        var cell = cells[i];\n",
       "        if (cell.cell_type === 'code'){\n",
       "            for (var j=0; j<cell.output_area.outputs.length; j++) {\n",
       "                var data = cell.output_area.outputs[j];\n",
       "                if (data.data) {\n",
       "                    // IPython >= 3 moved mimebundle to data attribute of output\n",
       "                    data = data.data;\n",
       "                }\n",
       "                if (data['text/html'] == html_output) {\n",
       "                    return [cell, data, j];\n",
       "                }\n",
       "            }\n",
       "        }\n",
       "    }\n",
       "}\n",
       "\n",
       "// Register the function which deals with the matplotlib target/channel.\n",
       "// The kernel may be null if the page has been refreshed.\n",
       "if (IPython.notebook.kernel != null) {\n",
       "    IPython.notebook.kernel.comm_manager.register_target('matplotlib', mpl.mpl_figure_comm);\n",
       "}\n"
      ],
      "text/plain": [
       "<IPython.core.display.Javascript object>"
      ]
     },
     "metadata": {},
     "output_type": "display_data"
    },
    {
     "data": {
      "text/html": [
       "<img src=\"data:image/png;base64,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\">"
      ],
      "text/plain": [
       "<IPython.core.display.HTML object>"
      ]
     },
     "metadata": {},
     "output_type": "display_data"
    }
   ],
   "source": [
    "plt.figure()\n",
    "\n",
    "plt.plot(t, sawtooth(A, T, t));"
   ]
  },
  {
   "cell_type": "markdown",
   "metadata": {},
   "source": [
    "# Exercise\n",
    "\n",
    "Write a function that computes the Fourier approximation of the sawtooth function for a given value of $n$, i.e. using a finite number of terms. Then plot it for $n=2, 4, 6, 8, 10$ on top of the actual sawtooth function. How many terms of the infinite series are needed to get a good sawtooth?"
   ]
  },
  {
   "cell_type": "code",
   "execution_count": 44,
   "metadata": {
    "collapsed": true
   },
   "outputs": [],
   "source": [
    "def sawtooth_approximation(n, A, T, t):\n",
    "    # type code here\n",
    "    return    "
   ]
  },
  {
   "cell_type": "markdown",
   "metadata": {},
   "source": [
    "# Exercise\n",
    "\n",
    "Now, using the Fourier series you've developed compute the response of a linear system to the sawtooth function and plot the steady state trajectory of $x$ give:\n",
    "\n",
    "$$m\\ddot{x} + c\\dot{x} + kx = F(t)$$\n",
    "\n",
    "Use:\n",
    "\n",
    "- $m$: 100 kg\n",
    "- $\\omega_n$: 10 rad/s\n",
    "- $\\zeta$: 0.01\n",
    "- $T=\\frac{2\\pi}{5 rad/s}$\n",
    "- $A=1000N$\n",
    "\n",
    "Investigate the difference in steady state response for different approximations of $F(t)$, i.e. various $n$, and report your findings in a markdown cell."
   ]
  },
  {
   "cell_type": "code",
   "execution_count": null,
   "metadata": {
    "collapsed": true
   },
   "outputs": [],
   "source": []
  }
 ],
 "metadata": {
  "anaconda-cloud": {},
  "kernelspec": {
   "display_name": "Python [default]",
   "language": "python",
   "name": "python3"
  },
  "language_info": {
   "codemirror_mode": {
    "name": "ipython",
    "version": 3
   },
   "file_extension": ".py",
   "mimetype": "text/x-python",
   "name": "python",
   "nbconvert_exporter": "python",
   "pygments_lexer": "ipython3",
   "version": "3.5.2"
  }
 },
 "nbformat": 4,
 "nbformat_minor": 1
}
