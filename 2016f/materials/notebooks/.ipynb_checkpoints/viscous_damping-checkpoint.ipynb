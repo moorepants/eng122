{
 "cells": [
  {
   "cell_type": "markdown",
   "metadata": {},
   "source": [
    "# Free Vibrations with Viscous Damping\n",
    "\n",
    "# Introduction\n",
    "\n",
    "So far we have learned about free vibrations of conservative single degree of freedom linear systems. In this lesson, we will explore how these systems behave when dissaptive forces are added to the system. Dissipation is present in all real systems. For example, the shock absorbers in a car dissipative energy as heat to control the characteristics of the vibration of the vehicle. Drag due to air resistance is also a dissaptive force.\n",
    "\n",
    "## Goals\n",
    "\n",
    "- Write the equations of motion of the system.\n",
    "- Derive the homogenous solution.\n",
    "- Investigate the time series solution for different system properties.\n",
    "- Be able to explain the differences in the three solutions this system.\n",
    "\n",
    "## Prerequisites\n",
    "\n",
    "- Free undamped vibrations"
   ]
  },
  {
   "cell_type": "markdown",
   "metadata": {},
   "source": [
    "# The System\n",
    "\n",
    "![Alt text](mass_spring_damper.svg)\n",
    "\n",
    "We are going to extend the homogenous mass spring damper system by adding an applied sinusoidal force. The quantities of interest are:\n",
    "\n",
    "- $x,\\dot{x},\\ddot{x}$: position, velocity, and acceleration\n",
    "- $m$: mass\n",
    "- $c$: viscous damping coefficient\n",
    "- $k$: spring constant"
   ]
  },
  {
   "cell_type": "markdown",
   "metadata": {},
   "source": [
    "# Equations of Motion\n",
    "\n",
    "We first write down Newton's Second Law for this system by examining the free body diagram:\n",
    "\n",
    "$$\\sum F_x = m \\ddot{x} = -c \\dot{x} -kx$$\n",
    "\n",
    "which provides the second order differential equation in canonical form:\n",
    "\n",
    "$$m\\ddot{x} + c\\dot{x} + kx = 0$$"
   ]
  },
  {
   "cell_type": "markdown",
   "metadata": {},
   "source": [
    "# Homogenous Solution\n",
    "\n",
    "To solve this second order homogenous system we can assume a solution of:\n",
    "\n",
    "$$x(t) = a e^{\\lambda t}$$\n",
    "\n",
    "If we differentiate twice and plug the resulting three equations into the differential equation we will get:\n",
    "\n",
    "$$(m \\lambda^2 + c \\lambda + k) a e^{\\lambda t} = 0$$\n",
    "\n",
    "$a e^{\\lambda t}$ is never zero so the unique solution follows when:\n",
    "\n",
    "$$m \\lambda^2 + c \\lambda + k = 0$$\n",
    "\n",
    "This is a quadratic equation in $\\lambda$ and using the quadratic equation we can find the roots of this so called *characteristic equation*.\n",
    "\n",
    "$$\\lambda_{1, 2} = -\\frac{c}{2m} \\pm \\frac{1}{2m} \\sqrt{c^2 - 4km}$$\n",
    "\n",
    "$\\lambda_{1, 2}$ can be real or complex depending on the discriminant: $c^2 - 4km$."
   ]
  },
  {
   "cell_type": "markdown",
   "metadata": {},
   "source": [
    "It is useful to define some new quantities:\n",
    "\n",
    "- $\\omega_n = \\sqrt{\\frac{k}{m}}$: undamped natural frequency\n",
    "- $c_c= 2m\\omega_n$: critical damping coefficient\n",
    "- $\\zeta = \\frac{c}{c_c}$: damping ratio\n",
    "- $\\omega_d = \\omega_n \\sqrt{1 - \\zeta^2}$: damped natural frequency\n",
    "\n",
    "The equation of motion can also be written in terms of these ratios by dividing through by the mass:\n",
    "\n",
    "$$\\ddot{x} + 2 \\zeta \\omega_n \\dot{x} + \\omega_n^2 x = 0$$"
   ]
  },
  {
   "cell_type": "markdown",
   "metadata": {},
   "source": [
    "Now the roots can be written as:\n",
    "\n",
    "$$\\lambda_{1, 2} = -\\zeta \\omega_n \\pm \\omega_n\\sqrt{\\zeta^2 - 1}$$\n",
    "\n",
    "Depending on the value of $\\zeta$ the roots will be a complex conjugate pair, two distinct real roots, or a repeated real root. The solution $x(t)$ depends on these three cases: $\\zeta < 1$, $\\zeta > 1$, and $\\zeta = 1$."
   ]
  },
  {
   "cell_type": "markdown",
   "metadata": {},
   "source": [
    "# Underdamped ($\\zeta < 1$)\n",
    "\n",
    "This value of $\\zeta$ will produce a complex conjugate pair of roots. We can pull out $i=\\sqrt{-1}$ and write the roots as:\n",
    "\n",
    "$$\\lambda_{1, 2} = -\\zeta \\omega_n \\pm i \\omega_d$$"
   ]
  },
  {
   "cell_type": "markdown",
   "metadata": {},
   "source": [
    "Since there are multiple roots the solution to this system and the this is linear, the solution can be written as a linear combination of the solutions:\n",
    "\n",
    "$$x(t) = e^{-\\zeta \\omega_n t}(a_1 e^{i\\omega_dt} + a_2 e^{-i\\omega_dt})$$\n",
    "\n",
    "Using Euler's formula we can reduce this to:\n",
    "\n",
    "$$ x(t) = Ae^{-\\zeta \\omega_n t} sin(\\omega_d t + \\phi)$$"
   ]
  },
  {
   "cell_type": "markdown",
   "metadata": {},
   "source": [
    "$A$ and $\\phi$ are determined by the initial conditions.\n",
    "\n",
    "$$A = \\sqrt{\\frac{(v_0 + \\zeta\\omega_n x_0)^2 + (x_0\\omega_d)^2}{\\omega_d^2}}$$\n",
    "\n",
    "$$\\phi=\\arctan\\left(\\frac{x_0\\omega_d}{v_0+\\zeta\\omega_nx_0}\\right)$$\n"
   ]
  },
  {
   "cell_type": "markdown",
   "metadata": {},
   "source": [
    "# Overdamped ($\\zeta > 1$)\n",
    "\n",
    "This value of $\\zeta$ produces two distinct real roots and the solution takes this form:\n",
    "\n",
    "$$ x(t) = e^{-\\zeta\\omega_nt}(a_1 e^{-\\omega_n\\sqrt{\\zeta^2-1}t} + a_2 e^{\\omega_n\\sqrt{\\zeta^2-1}t} $$\n",
    "\n",
    "where:\n",
    "\n",
    "$$ a_1 = \\frac{-v_0 + (-\\zeta + \\sqrt{\\zeta^2 - 1})\\omega_n x_0}{2 \\omega_n \\sqrt{\\zeta^2-1}} $$\n",
    "\n",
    "$$ a_2 = \\frac{v_0 + (\\zeta + \\sqrt{\\zeta^2 - 1})\\omega_n x_0}{2 \\omega_n \\sqrt{\\zeta^2-1}} $$"
   ]
  },
  {
   "cell_type": "markdown",
   "metadata": {},
   "source": [
    "# Critically Damped ($\\zeta = 1$)\n",
    "\n",
    "Finally, the special case gives two repeated roots and the solution takes the form:\n",
    "\n",
    "$$ x(t) = (a_1 + a_2t)e^{-\\omega_n t}$$\n",
    "\n",
    "where:\n",
    "\n",
    "$$ a_1 = x_0, a_2 = v_0 + \\omega_n x_0$$"
   ]
  },
  {
   "cell_type": "markdown",
   "metadata": {},
   "source": [
    "# Simulation of the Motion\n",
    "\n",
    "Let's explore the solution to the system starting with these parameters:\n",
    "\n",
    "- $m=0.049$ kg\n",
    "- $k = 857.8$ N/m\n",
    "- $c=0.11$ kg/s\n",
    "\n",
    "Depending on the value of $\\zeta$ the solution will described by three qualitively different motions: over-damped $(\\zeta > 1)$, critically damped $(\\zeta = 1)$, or under-damped $(\\zeta < 1)$ motion. Use your code to discover what these motions look like and how the parameters of the system affect the behavior."
   ]
  },
  {
   "cell_type": "markdown",
   "metadata": {
    "collapsed": true
   },
   "source": [
    "# Exercise\n",
    "\n",
    "Create a function that accepts $m$, $c$, and $k$ as parameters and returns $\\omega_n,\\zeta,c_c$, and $\\omega_d$."
   ]
  },
  {
   "cell_type": "code",
   "execution_count": 1,
   "metadata": {
    "collapsed": true
   },
   "outputs": [],
   "source": [
    "def vibration_properties(m, c, k):\n",
    "    \n",
    "    # you write code here\n",
    "    \n",
    "    return omega_n, zeta, cc, omega_d"
   ]
  },
  {
   "cell_type": "markdown",
   "metadata": {},
   "source": [
    "# Exercise\n",
    "\n",
    "Create a function that accepts $m$, $c$, $k$, $x_0$, $v_0$ and a simulation duration $d$ and returns an array of 1000 time values and an array of corresponding $x(t)$ values. Make use of the `vibration_properties` function inside this one."
   ]
  },
  {
   "cell_type": "code",
   "execution_count": 2,
   "metadata": {
    "collapsed": true
   },
   "outputs": [],
   "source": [
    "def simulate(m, c, k, d, x_0=0.0, v_0=0.0):\n",
    "    \n",
    "    # write your code here\n",
    "    \n",
    "    return time_array, x_array"
   ]
  },
  {
   "cell_type": "markdown",
   "metadata": {},
   "source": [
    "# Exercise\n",
    "\n",
    "Using your functions choose various values of $c$ such that you get three different values for $\\zeta$ where $(\\zeta > 1)$, $(\\zeta = 1)$, and $(\\zeta < 1)$ and plot the resulting motions for these values. In a text box describe what you observe."
   ]
  },
  {
   "cell_type": "code",
   "execution_count": null,
   "metadata": {
    "collapsed": true
   },
   "outputs": [],
   "source": []
  },
  {
   "cell_type": "markdown",
   "metadata": {},
   "source": [
    "# Exercise\n",
    "\n",
    "A spring-mass-damper system has a mass of 150 kg, stiffness of 1500 N/m, and damping coefficient of 200 kg/s. Calculate the undamped natural frequency, the damping ratio, and the damped natural frequency. Is the system overdamped, underdamped, or critically damped? Does the solution oscillate? Show the motion in a plot."
   ]
  },
  {
   "cell_type": "code",
   "execution_count": null,
   "metadata": {
    "collapsed": true
   },
   "outputs": [],
   "source": []
  }
 ],
 "metadata": {
  "anaconda-cloud": {},
  "kernelspec": {
   "display_name": "Python [conda root]",
   "language": "python",
   "name": "conda-root-py"
  },
  "language_info": {
   "codemirror_mode": {
    "name": "ipython",
    "version": 3
   },
   "file_extension": ".py",
   "mimetype": "text/x-python",
   "name": "python",
   "nbconvert_exporter": "python",
   "pygments_lexer": "ipython3",
   "version": "3.5.2"
  }
 },
 "nbformat": 4,
 "nbformat_minor": 0
}
