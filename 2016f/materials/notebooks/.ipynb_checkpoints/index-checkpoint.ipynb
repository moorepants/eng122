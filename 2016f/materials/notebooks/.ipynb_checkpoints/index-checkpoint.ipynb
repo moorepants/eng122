{
 "cells": [
  {
   "cell_type": "markdown",
   "metadata": {},
   "source": [
    "This is a collection of notebooks designed for approximately one hour in-class sessions intended to learn mechanical vibration topics through computing. These were developed for a ten week course with two two-hour sessions each week. The notebooks are designed to have a flow in which the instructor explains a concept briefly and then students do activities in pairs or small groups to answer the exercises in the notebooks. This repeats for each exercise and any exercises not finished are turned in for homework.\n",
    "\n",
    "- [Introduction to Python](intro_to_python.ipynb) \n",
    "- [Introduction to NumPy](intro_to_numpy.ipynb)\n",
    "- [Introduction to Matplotlib](intro_to_matplotlib.ipynb)\n",
    "- [Introduction to Objects in Python](oo_basics.ipynb)\n",
    "- [Free Vibrations with Viscous Damping](viscous_damping.ipynb)\n",
    "- [Forced Vibrations with Viscous Damping](forced_vibrations_with_vsicous_damping.ipynb)\n",
    "- [Simulating Linear and Non-Linear Systems with SciPy](nonlinear_vibrations.ipynb)\n",
    "- [Balancing a book on a cup: linear and non-linear stability of an undamped system](book_balancing.ipynb)\n",
    "- [Car on a bumpy road: Base excitation](bumpy_road.ipynb)\n",
    "- [Arbitrary periodic forcing of one degree of freedom systems](sawtooth_forcing.ipynb)\n",
    "- [Balancing a Bicycle: Modeshapes of a viscously damped two degree of freedom system](bicycle2dof.ipynb)\n",
    "\n",
    "License: CC-BY 4.0"
   ]
  }
 ],
 "metadata": {
  "anaconda-cloud": {},
  "kernelspec": {
   "display_name": "Python [default]",
   "language": "python",
   "name": "python3"
  },
  "language_info": {
   "codemirror_mode": {
    "name": "ipython",
    "version": 3
   },
   "file_extension": ".py",
   "mimetype": "text/x-python",
   "name": "python",
   "nbconvert_exporter": "python",
   "pygments_lexer": "ipython3",
   "version": "3.5.2"
  }
 },
 "nbformat": 4,
 "nbformat_minor": 1
}
