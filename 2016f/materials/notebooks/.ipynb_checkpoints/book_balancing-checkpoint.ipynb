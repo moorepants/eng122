{
 "cells": [
  {
   "cell_type": "markdown",
   "metadata": {},
   "source": [
    "# Download\n",
    "\n",
    "## Notebook link: http://tinyurl.com/eng122-oct19\n",
    "\n",
    "# Submission\n",
    "\n",
    "## Step 1: Rename your notebook\n",
    "\n",
    "LAST1_NAME1_LAST2_NAME2\n",
    "\n",
    "for example:\n",
    "\n",
    "MOORE_JASON_HOWLETT_JAMES\n",
    "\n",
    "## Step 2: Turn in your notebook and a PDF version to **Canvas** by midnight Saturday."
   ]
  },
  {
   "cell_type": "markdown",
   "metadata": {},
   "source": [
    "# Introduction\n",
    "\n",
    "The center of mass of a book (modeled as a homogeneous cuboid of mass $m$, length $l$, and height $h$) lies directly above the top of a cylinder of radius $r$. There is sufficient friction to prevent slipping of the two surfaces when the book is perturbed from this equilibrium position. Let $\\theta$ be the angle between the vertical and the radial line that passes through the contact point when the book oscillates in a vertical plane perpendicular to the axis of the cylinder."
   ]
  },
  {
   "cell_type": "code",
   "execution_count": 1,
   "metadata": {
    "collapsed": false
   },
   "outputs": [
    {
     "data": {
      "image/svg+xml": [
       "<svg height=\"115.7796mm\" id=\"svg2\" inkscape:version=\"0.91 r13725\" sodipodi:docname=\"book-balance.svg\" version=\"1.1\" viewBox=\"0 0 621.74799 410.24268\" width=\"175.4711mm\" xmlns=\"http://www.w3.org/2000/svg\" xmlns:cc=\"http://creativecommons.org/ns#\" xmlns:dc=\"http://purl.org/dc/elements/1.1/\" xmlns:inkscape=\"http://www.inkscape.org/namespaces/inkscape\" xmlns:ns0=\"http://www.iki.fi/pav/software/textext/\" xmlns:rdf=\"http://www.w3.org/1999/02/22-rdf-syntax-ns#\" xmlns:sodipodi=\"http://sodipodi.sourceforge.net/DTD/sodipodi-0.dtd\" xmlns:svg=\"http://www.w3.org/2000/svg\" xmlns:xlink=\"http://www.w3.org/1999/xlink\">\n",
       "  <sodipodi:namedview bordercolor=\"#666666\" borderopacity=\"1.0\" fit-margin-bottom=\"0\" fit-margin-left=\"0\" fit-margin-right=\"0\" fit-margin-top=\"0\" id=\"base\" inkscape:current-layer=\"layer1\" inkscape:cx=\"288.90371\" inkscape:cy=\"223.66543\" inkscape:document-units=\"px\" inkscape:pageopacity=\"0.0\" inkscape:pageshadow=\"2\" inkscape:window-height=\"1056\" inkscape:window-maximized=\"1\" inkscape:window-width=\"1920\" inkscape:window-x=\"0\" inkscape:window-y=\"24\" inkscape:zoom=\"0.98994949\" pagecolor=\"#ffffff\" showgrid=\"false\"/>\n",
       "  <defs id=\"defs4\">\n",
       "    <marker id=\"marker6954\" inkscape:isstock=\"true\" inkscape:stockid=\"Arrow1Lstart\" orient=\"auto\" refX=\"0\" refY=\"0\" style=\"overflow:visible\">\n",
       "      <path d=\"M 0,0 5,-5 -12.5,0 5,5 0,0 Z\" id=\"path6956\" inkscape:connector-curvature=\"0\" style=\"fill:#000000;fill-opacity:1;fill-rule:evenodd;stroke:#000000;stroke-width:1pt;stroke-opacity:1\" transform=\"matrix(0.8,0,0,0.8,10,0)\"/>\n",
       "    </marker>\n",
       "    <marker id=\"marker6910\" inkscape:collect=\"always\" inkscape:isstock=\"true\" inkscape:stockid=\"Arrow1Lstart\" orient=\"auto\" refX=\"0\" refY=\"0\" style=\"overflow:visible\">\n",
       "      <path d=\"M 0,0 5,-5 -12.5,0 5,5 0,0 Z\" id=\"path6912\" inkscape:connector-curvature=\"0\" style=\"fill:#000000;fill-opacity:1;fill-rule:evenodd;stroke:#000000;stroke-width:1pt;stroke-opacity:1\" transform=\"matrix(0.8,0,0,0.8,10,0)\"/>\n",
       "    </marker>\n",
       "    <marker id=\"marker4894\" inkscape:collect=\"always\" inkscape:isstock=\"true\" inkscape:stockid=\"Arrow1Lstart\" orient=\"auto\" refX=\"0\" refY=\"0\" style=\"overflow:visible\">\n",
       "      <path d=\"M 0,0 5,-5 -12.5,0 5,5 0,0 Z\" id=\"path4896\" inkscape:connector-curvature=\"0\" style=\"fill:#000000;fill-opacity:1;fill-rule:evenodd;stroke:#000000;stroke-width:1pt;stroke-opacity:1\" transform=\"matrix(0.8,0,0,0.8,10,0)\"/>\n",
       "    </marker>\n",
       "    <marker id=\"marker4836\" inkscape:isstock=\"true\" inkscape:stockid=\"Arrow2Lend\" orient=\"auto\" refX=\"0\" refY=\"0\" style=\"overflow:visible\">\n",
       "      <path d=\"M 8.7185878,4.0337352 -2.2072895,0.01601326 8.7185884,-4.0017078 c -1.7454984,2.3720609 -1.7354408,5.6174519 -6e-7,8.035443 z\" id=\"path4838\" inkscape:connector-curvature=\"0\" style=\"fill:#000000;fill-opacity:1;fill-rule:evenodd;stroke:#000000;stroke-width:0.625;stroke-linejoin:round;stroke-opacity:1\" transform=\"matrix(-1.1,0,0,-1.1,-1.1,0)\"/>\n",
       "    </marker>\n",
       "    <marker id=\"marker4512\" inkscape:collect=\"always\" inkscape:isstock=\"true\" inkscape:stockid=\"Arrow2Lend\" orient=\"auto\" refX=\"0\" refY=\"0\" style=\"overflow:visible\">\n",
       "      <path d=\"M 8.7185878,4.0337352 -2.2072895,0.01601326 8.7185884,-4.0017078 c -1.7454984,2.3720609 -1.7354408,5.6174519 -6e-7,8.035443 z\" id=\"path4514\" inkscape:connector-curvature=\"0\" style=\"fill:#000000;fill-opacity:1;fill-rule:evenodd;stroke:#000000;stroke-width:0.625;stroke-linejoin:round;stroke-opacity:1\" transform=\"matrix(-1.1,0,0,-1.1,-1.1,0)\"/>\n",
       "    </marker>\n",
       "    <marker id=\"Arrow1Mend\" inkscape:isstock=\"true\" inkscape:stockid=\"Arrow1Mend\" orient=\"auto\" refX=\"0\" refY=\"0\" style=\"overflow:visible\">\n",
       "      <path d=\"M 0,0 5,-5 -12.5,0 5,5 0,0 Z\" id=\"path4221\" inkscape:connector-curvature=\"0\" style=\"fill:#000000;fill-opacity:1;fill-rule:evenodd;stroke:#000000;stroke-width:1pt;stroke-opacity:1\" transform=\"matrix(-0.4,0,0,-0.4,-4,0)\"/>\n",
       "    </marker>\n",
       "    <marker id=\"Arrow1Lstart\" inkscape:collect=\"always\" inkscape:isstock=\"true\" inkscape:stockid=\"Arrow1Lstart\" orient=\"auto\" refX=\"0\" refY=\"0\" style=\"overflow:visible\">\n",
       "      <path d=\"M 0,0 5,-5 -12.5,0 5,5 0,0 Z\" id=\"path4597\" inkscape:connector-curvature=\"0\" style=\"fill:#000000;fill-opacity:1;fill-rule:evenodd;stroke:#000000;stroke-width:1pt;stroke-opacity:1\" transform=\"matrix(0.8,0,0,0.8,10,0)\"/>\n",
       "    </marker>\n",
       "    <marker id=\"Arrow1Mstart\" inkscape:isstock=\"true\" inkscape:stockid=\"Arrow1Mstart\" orient=\"auto\" refX=\"0\" refY=\"0\" style=\"overflow:visible\">\n",
       "      <path d=\"M 0,0 5,-5 -12.5,0 5,5 0,0 Z\" id=\"path4603\" inkscape:connector-curvature=\"0\" style=\"fill:#000000;fill-opacity:1;fill-rule:evenodd;stroke:#000000;stroke-width:1pt;stroke-opacity:1\" transform=\"matrix(0.4,0,0,0.4,4,0)\"/>\n",
       "    </marker>\n",
       "    <marker id=\"Arrow2Lend\" inkscape:collect=\"always\" inkscape:isstock=\"true\" inkscape:stockid=\"Arrow2Lend\" orient=\"auto\" refX=\"0\" refY=\"0\" style=\"overflow:visible\">\n",
       "      <path d=\"M 8.7185878,4.0337352 -2.2072895,0.01601326 8.7185884,-4.0017078 c -1.7454984,2.3720609 -1.7354408,5.6174519 -6e-7,8.035443 z\" id=\"path4618\" inkscape:connector-curvature=\"0\" style=\"fill:#000000;fill-opacity:1;fill-rule:evenodd;stroke:#000000;stroke-width:0.625;stroke-linejoin:round;stroke-opacity:1\" transform=\"matrix(-1.1,0,0,-1.1,-1.1,0)\"/>\n",
       "    </marker>\n",
       "    <marker id=\"marker4894-7\" inkscape:isstock=\"true\" inkscape:stockid=\"Arrow1Lstart\" orient=\"auto\" refX=\"0\" refY=\"0\" style=\"overflow:visible\">\n",
       "      <path d=\"M 0,0 5,-5 -12.5,0 5,5 0,0 Z\" id=\"path4896-5\" inkscape:connector-curvature=\"0\" style=\"fill:#000000;fill-opacity:1;fill-rule:evenodd;stroke:#000000;stroke-width:1pt;stroke-opacity:1\" transform=\"matrix(0.8,0,0,0.8,10,0)\"/>\n",
       "    </marker>\n",
       "    <marker id=\"Arrow2Lend-5\" inkscape:collect=\"always\" inkscape:isstock=\"true\" inkscape:stockid=\"Arrow2Lend\" orient=\"auto\" refX=\"0\" refY=\"0\" style=\"overflow:visible\">\n",
       "      <path d=\"M 8.7185878,4.0337352 -2.2072895,0.01601326 8.7185884,-4.0017078 c -1.7454984,2.3720609 -1.7354408,5.6174519 -6e-7,8.035443 z\" id=\"path4618-6\" inkscape:connector-curvature=\"0\" style=\"fill:#000000;fill-opacity:1;fill-rule:evenodd;stroke:#000000;stroke-width:0.625;stroke-linejoin:round;stroke-opacity:1\" transform=\"matrix(-1.1,0,0,-1.1,-1.1,0)\"/>\n",
       "    </marker>\n",
       "  </defs>\n",
       "  <metadata id=\"metadata7\">\n",
       "    <rdf:RDF>\n",
       "      <cc:Work rdf:about=\"\">\n",
       "        <dc:format>image/svg+xml</dc:format>\n",
       "        <dc:type rdf:resource=\"http://purl.org/dc/dcmitype/StillImage\"/>\n",
       "        <dc:title/>\n",
       "      </cc:Work>\n",
       "    </rdf:RDF>\n",
       "  </metadata>\n",
       "  <g id=\"layer1\" inkscape:groupmode=\"layer\" inkscape:label=\"Layer 1\" transform=\"translate(-50.302079,-281.28898)\">\n",
       "    <path d=\"m 276.33579,668.76691 a 111.42857,111.42857 0 0 1 55.71814,-96.57119 111.42857,111.42857 0 0 1 111.49217,0.0412 111.42857,111.42857 0 0 1 55.64671,96.61236\" id=\"path4138\" sodipodi:cx=\"387.76434\" sodipodi:cy=\"668.69794\" sodipodi:end=\"0.001358385\" sodipodi:open=\"true\" sodipodi:rx=\"111.42857\" sodipodi:ry=\"111.42857\" sodipodi:start=\"3.1409737\" sodipodi:type=\"arc\" style=\"opacity:1;fill:#999999;fill-opacity:1;stroke:none;stroke-width:2;stroke-miterlimit:4;stroke-dasharray:none;stroke-dashoffset:0;stroke-opacity:1\"/>\n",
       "    <rect height=\"65.714287\" id=\"rect4140\" style=\"opacity:0.5;fill:#004aa8;fill-opacity:1;stroke:none;stroke-width:2;stroke-miterlimit:4;stroke-dasharray:none;stroke-dashoffset:0;stroke-opacity:1\" width=\"568.57141\" x=\"103.47864\" y=\"492.18515\"/>\n",
       "    <circle cx=\"387.76434\" cy=\"525.0423\" id=\"path4138-5\" r=\"14.453929\" style=\"opacity:1;fill:#000000;fill-opacity:1;stroke:none;stroke-width:2;stroke-miterlimit:4;stroke-dasharray:none;stroke-dashoffset:0;stroke-opacity:1\"/>\n",
       "    <rect height=\"65.714287\" id=\"rect4140-3\" style=\"opacity:1;fill:#004aa8;fill-opacity:1;stroke:none;stroke-width:2;stroke-miterlimit:4;stroke-dasharray:none;stroke-dashoffset:0;stroke-opacity:1\" transform=\"matrix(0.8660254,-0.5,0.5,0.8660254,0,0)\" width=\"568.57141\" x=\"-237.31352\" y=\"595.78467\"/>\n",
       "    <circle cx=\"355\" cy=\"520.93365\" id=\"path4138-5-6\" r=\"14.453929\" style=\"opacity:1;fill:#000000;fill-opacity:1;stroke:none;stroke-width:2;stroke-miterlimit:4;stroke-dasharray:none;stroke-dashoffset:0;stroke-opacity:1\"/>\n",
       "    <path d=\"M 387.85714,667.3622 333.35029,572.95356\" id=\"path4164\" inkscape:connector-curvature=\"0\" style=\"fill:none;fill-rule:evenodd;stroke:#000000;stroke-width:1px;stroke-linecap:butt;stroke-linejoin:miter;stroke-opacity:1;marker-end:url(#marker4512)\"/>\n",
       "    <path d=\"M 580.11057,347.42367 542.07203,281.53898\" id=\"path4164-5\" inkscape:connector-curvature=\"0\" sodipodi:nodetypes=\"cc\" style=\"fill:none;fill-rule:evenodd;stroke:#000000;stroke-width:1px;stroke-linecap:butt;stroke-linejoin:miter;stroke-opacity:1\"/>\n",
       "    <path d=\"M 89.589859,629.30382 50.735092,562.00541\" id=\"path4164-5-3\" inkscape:connector-curvature=\"0\" sodipodi:nodetypes=\"cc\" style=\"fill:none;fill-rule:evenodd;stroke:#000000;stroke-width:1px;stroke-linecap:butt;stroke-linejoin:miter;stroke-opacity:1\"/>\n",
       "    <path d=\"m 389.28571,669.50506 0,-326.42857\" id=\"path4202\" inkscape:connector-curvature=\"0\" style=\"fill:none;fill-rule:evenodd;stroke:#000000;stroke-width:1px;stroke-linecap:butt;stroke-linejoin:miter;stroke-opacity:1\"/>\n",
       "    <path d=\"M 611.55412,335.04547 589.51727,296.87652\" id=\"path4164-5-6\" inkscape:connector-curvature=\"0\" sodipodi:nodetypes=\"cc\" style=\"fill:none;fill-rule:evenodd;stroke:#000000;stroke-width:1px;stroke-linecap:butt;stroke-linejoin:miter;stroke-opacity:1;marker-start:url(#marker4894)\"/>\n",
       "    <path d=\"M 666.87401,429.33672 644.83716,391.16777\" id=\"path4164-5-6-3\" inkscape:connector-curvature=\"0\" sodipodi:nodetypes=\"cc\" style=\"fill:none;fill-rule:evenodd;stroke:#000000;stroke-width:1px;stroke-linecap:butt;stroke-linejoin:miter;stroke-opacity:1;marker-end:url(#marker4836)\"/>\n",
       "    <path d=\"m 343.16128,502.87525 -29.44803,-51.0055\" id=\"path4164-5-8\" inkscape:connector-curvature=\"0\" sodipodi:nodetypes=\"cc\" style=\"fill:none;fill-rule:evenodd;stroke:#000000;stroke-width:1px;stroke-linecap:butt;stroke-linejoin:miter;stroke-opacity:1\"/>\n",
       "    <path d=\"m 353.61505,604.33965 a 72.857147,72.857147 0 0 1 34.43964,-8.49828\" id=\"path6946\" sodipodi:cx=\"387.76434\" sodipodi:cy=\"668.69794\" sodipodi:end=\"4.7163741\" sodipodi:open=\"true\" sodipodi:rx=\"72.857147\" sodipodi:ry=\"72.857147\" sodipodi:start=\"4.2245526\" sodipodi:type=\"arc\" style=\"opacity:1;fill:none;fill-opacity:1;stroke:#000000;stroke-width:1;stroke-miterlimit:4;stroke-dasharray:none;stroke-dashoffset:0;stroke-opacity:1;marker-start:url(#marker6954)\"/>\n",
       "    <g id=\"g7134\" ns0:page_width=\"10cm\" ns0:preamble=\"\" ns0:text=\"$m$\" style=\"stroke-width:0.0000001\" transform=\"matrix(3.75,0,0,3.75,344.28572,423.57143)\">\n",
       "      <defs id=\"defs7136\">\n",
       "        <g id=\"g7138\">\n",
       "          <symbol id=\"textext-a6dce8e3-0\" overflow=\"visible\" style=\"overflow:visible\">\n",
       "            <path d=\"\" id=\"path7141\" inkscape:connector-curvature=\"0\" style=\"stroke:none\"/>\n",
       "          </symbol>\n",
       "          <symbol id=\"textext-a6dce8e3-1\" overflow=\"visible\" style=\"overflow:visible\">\n",
       "            <path d=\"m 0.875,-0.59375 c -0.03125,0.15625 -0.09375,0.390625 -0.09375,0.4375 0,0.171875 0.140625,0.265625 0.296875,0.265625 0.125,0 0.296875,-0.078125 0.375,-0.28125 0,-0.015625 0.125,-0.484375 0.1875,-0.734375 l 0.21875,-0.890625 C 1.90625,-2.03125 1.96875,-2.25 2.03125,-2.46875 c 0.03125,-0.171875 0.109375,-0.46875 0.125,-0.5 0.140625,-0.3125 0.671875,-1.21875 1.625,-1.21875 0.453125,0 0.53125,0.375 0.53125,0.703125 0,0.25 -0.0625,0.53125 -0.140625,0.828125 L 3.890625,-1.5 3.6875,-0.75 c -0.03125,0.203125 -0.125,0.546875 -0.125,0.59375 0,0.171875 0.140625,0.265625 0.28125,0.265625 0.3125,0 0.375,-0.25 0.453125,-0.5625 0.140625,-0.5625 0.515625,-2.015625 0.59375,-2.40625 0.03125,-0.125 0.5625,-1.328125 1.65625,-1.328125 0.421875,0 0.53125,0.34375 0.53125,0.703125 0,0.5625 -0.421875,1.703125 -0.625,2.234375 -0.078125,0.234375 -0.125,0.34375 -0.125,0.546875 0,0.46875 0.34375,0.8125 0.8125,0.8125 0.9375,0 1.3125,-1.453125 1.3125,-1.53125 0,-0.109375 -0.09375,-0.109375 -0.125,-0.109375 -0.09375,0 -0.09375,0.03125 -0.140625,0.1875 -0.15625,0.53125 -0.46875,1.234375 -1.015625,1.234375 -0.171875,0 -0.25,-0.09375 -0.25,-0.328125 0,-0.25 0.09375,-0.484375 0.1875,-0.703125 0.1875,-0.53125 0.609375,-1.625 0.609375,-2.203125 0,-0.640625 -0.40625,-1.0625 -1.15625,-1.0625 -0.734375,0 -1.25,0.4375 -1.625,0.96875 0,-0.125 -0.03125,-0.46875 -0.3125,-0.703125 -0.25,-0.21875 -0.5625,-0.265625 -0.8125,-0.265625 -0.90625,0 -1.390625,0.640625 -1.5625,0.875 -0.046875,-0.578125 -0.46875,-0.875 -0.921875,-0.875 -0.453125,0 -0.640625,0.390625 -0.734375,0.5625 -0.171875,0.359375 -0.296875,0.9375 -0.296875,0.96875 0,0.109375 0.09375,0.109375 0.109375,0.109375 0.109375,0 0.109375,-0.015625 0.171875,-0.234375 0.171875,-0.703125 0.375,-1.1875 0.734375,-1.1875 0.15625,0 0.296875,0.078125 0.296875,0.453125 0,0.21875 -0.03125,0.328125 -0.15625,0.84375 z m 0,0\" id=\"path7144\" inkscape:connector-curvature=\"0\" style=\"stroke:none\"/>\n",
       "          </symbol>\n",
       "        </g>\n",
       "      </defs>\n",
       "      <g id=\"textext-a6dce8e3-2\">\n",
       "        <g id=\"g7147\" style=\"fill:#000000;fill-opacity:1\">\n",
       "          <use height=\"100%\" id=\"use7149\" width=\"100%\" x=\"0\" xlink:href=\"#textext-a6dce8e3-1\" y=\"9.9630003\"/>\n",
       "        </g>\n",
       "      </g>\n",
       "    </g>\n",
       "    <path d=\"m 356.86688,501.43638 1.26625,-32.43407\" id=\"path4164-5-8-7\" inkscape:connector-curvature=\"0\" sodipodi:nodetypes=\"cc\" style=\"fill:none;fill-rule:evenodd;stroke:#000000;stroke-width:1px;stroke-linecap:butt;stroke-linejoin:miter;stroke-opacity:1\"/>\n",
       "  </g>\n",
       "  <g id=\"g4271\" ns0:page_width=\"10cm\" ns0:preamble=\"\" ns0:text=\"$l$\" style=\"stroke-width:0.0000001\" transform=\"matrix(3.75,0,0,3.75,372.56315,54.6821)\">\n",
       "    <defs id=\"defs4273\">\n",
       "      <g id=\"g4275\">\n",
       "        <symbol id=\"textext-70685d5a-0\" overflow=\"visible\" style=\"overflow:visible\">\n",
       "          <path d=\"\" id=\"path4278\" inkscape:connector-curvature=\"0\" style=\"stroke:none\"/>\n",
       "        </symbol>\n",
       "        <symbol id=\"textext-70685d5a-1\" overflow=\"visible\" style=\"overflow:visible\">\n",
       "          <path d=\"m 2.578125,-6.8125 c 0,0 0,-0.109375 -0.140625,-0.109375 -0.21875,0 -0.953125,0.078125 -1.21875,0.109375 -0.078125,0 -0.1875,0.015625 -0.1875,0.203125 0,0.109375 0.109375,0.109375 0.25,0.109375 0.484375,0 0.5,0.09375 0.5,0.171875 L 1.75,-6.125 0.484375,-1.140625 C 0.453125,-1.03125 0.4375,-0.96875 0.4375,-0.8125 c 0,0.578125 0.4375,0.921875 0.90625,0.921875 0.328125,0 0.578125,-0.203125 0.75,-0.5625 0.171875,-0.375 0.296875,-0.953125 0.296875,-0.96875 0,-0.109375 -0.09375,-0.109375 -0.125,-0.109375 -0.09375,0 -0.109375,0.046875 -0.125,0.1875 C 1.96875,-0.703125 1.78125,-0.109375 1.375,-0.109375 c -0.296875,0 -0.296875,-0.3125 -0.296875,-0.453125 0,-0.25 0.015625,-0.296875 0.0625,-0.484375 z m 0,0\" id=\"path4281\" inkscape:connector-curvature=\"0\" style=\"stroke:none\"/>\n",
       "        </symbol>\n",
       "      </g>\n",
       "    </defs>\n",
       "    <g id=\"textext-70685d5a-2\">\n",
       "      <g id=\"g4284\" style=\"fill:#000000;fill-opacity:1\">\n",
       "        <use height=\"100%\" id=\"use4286\" width=\"100%\" x=\"0\" xlink:href=\"#textext-70685d5a-1\" y=\"9.9630003\"/>\n",
       "      </g>\n",
       "    </g>\n",
       "  </g>\n",
       "  <g id=\"g4334\" ns0:page_width=\"10cm\" ns0:preamble=\"\" ns0:text=\"$h$\" style=\"stroke-width:0.0000001\" transform=\"matrix(3.75,0,0,3.75,568.92144,55.09182)\">\n",
       "    <defs id=\"defs4336\">\n",
       "      <g id=\"g4338\">\n",
       "        <symbol id=\"textext-06fb23e3-0\" overflow=\"visible\" style=\"overflow:visible\">\n",
       "          <path d=\"\" id=\"path4341\" inkscape:connector-curvature=\"0\" style=\"stroke:none\"/>\n",
       "        </symbol>\n",
       "        <symbol id=\"textext-06fb23e3-1\" overflow=\"visible\" style=\"overflow:visible\">\n",
       "          <path d=\"m 2.859375,-6.8125 c 0,0 0,-0.109375 -0.125,-0.109375 -0.234375,0 -0.953125,0.078125 -1.21875,0.109375 -0.078125,0 -0.1875,0.015625 -0.1875,0.1875 0,0.125 0.09375,0.125 0.234375,0.125 0.484375,0 0.5,0.0625 0.5,0.171875 L 2.03125,-6.125 0.59375,-0.390625 c -0.046875,0.140625 -0.046875,0.15625 -0.046875,0.21875 0,0.234375 0.203125,0.28125 0.296875,0.28125 0.15625,0 0.3125,-0.125 0.359375,-0.265625 l 0.1875,-0.75 0.21875,-0.890625 C 1.671875,-2.03125 1.734375,-2.25 1.78125,-2.46875 1.796875,-2.53125 1.890625,-2.859375 1.890625,-2.921875 1.921875,-3.015625 2.234375,-3.5625 2.578125,-3.84375 2.796875,-4 3.09375,-4.1875 3.53125,-4.1875 c 0.421875,0 0.53125,0.34375 0.53125,0.703125 0,0.53125 -0.375,1.625 -0.609375,2.234375 C 3.375,-1.03125 3.3125,-0.90625 3.3125,-0.703125 c 0,0.46875 0.359375,0.8125 0.828125,0.8125 0.9375,0 1.296875,-1.453125 1.296875,-1.53125 0,-0.109375 -0.078125,-0.109375 -0.109375,-0.109375 -0.109375,0 -0.109375,0.03125 -0.15625,0.1875 -0.140625,0.53125 -0.46875,1.234375 -1.015625,1.234375 -0.171875,0 -0.234375,-0.09375 -0.234375,-0.328125 0,-0.25 0.078125,-0.484375 0.171875,-0.703125 0.15625,-0.4375 0.609375,-1.625 0.609375,-2.203125 0,-0.640625 -0.390625,-1.0625 -1.140625,-1.0625 -0.625,0 -1.109375,0.3125 -1.484375,0.765625 z m 0,0\" id=\"path4344\" inkscape:connector-curvature=\"0\" style=\"stroke:none\"/>\n",
       "        </symbol>\n",
       "      </g>\n",
       "    </defs>\n",
       "    <g id=\"textext-06fb23e3-2\">\n",
       "      <g id=\"g4347\" style=\"fill:#000000;fill-opacity:1\">\n",
       "        <use height=\"100%\" id=\"use4349\" width=\"100%\" x=\"0\" xlink:href=\"#textext-06fb23e3-1\" y=\"9.9630003\"/>\n",
       "      </g>\n",
       "    </g>\n",
       "  </g>\n",
       "  <g id=\"g4417\" ns0:page_width=\"10cm\" ns0:preamble=\"\" ns0:text=\"$\\\\theta$\" style=\"stroke-width:0.0000001\" transform=\"matrix(3.75,0,0,3.75,306.28177,268.28477)\">\n",
       "    <defs id=\"defs4419\">\n",
       "      <g id=\"g4421\">\n",
       "        <symbol id=\"textext-9cb86a6d-0\" overflow=\"visible\" style=\"overflow:visible\">\n",
       "          <path d=\"\" id=\"path4424\" inkscape:connector-curvature=\"0\" style=\"stroke:none\"/>\n",
       "        </symbol>\n",
       "        <symbol id=\"textext-9cb86a6d-1\" overflow=\"visible\" style=\"overflow:visible\">\n",
       "          <path d=\"m 4.53125,-4.984375 c 0,-0.65625 -0.171875,-2.046875 -1.1875,-2.046875 -1.390625,0 -2.921875,2.8125 -2.921875,5.09375 0,0.9375 0.28125,2.046875 1.1875,2.046875 1.40625,0 2.921875,-2.859375 2.921875,-5.09375 z M 1.46875,-3.625 C 1.640625,-4.25 1.84375,-5.046875 2.25,-5.765625 2.515625,-6.25 2.875,-6.8125 3.328125,-6.8125 c 0.484375,0 0.546875,0.640625 0.546875,1.203125 0,0.5 -0.078125,1 -0.3125,1.984375 z m 2,0.328125 C 3.359375,-2.84375 3.15625,-2 2.765625,-1.28125 c -0.34375,0.6875 -0.71875,1.171875 -1.15625,1.171875 -0.328125,0 -0.53125,-0.296875 -0.53125,-1.21875 0,-0.421875 0.0625,-1 0.3125,-1.96875 z m 0,0\" id=\"path4427\" inkscape:connector-curvature=\"0\" style=\"stroke:none\"/>\n",
       "        </symbol>\n",
       "      </g>\n",
       "    </defs>\n",
       "    <g id=\"textext-9cb86a6d-2\">\n",
       "      <g id=\"g4430\" style=\"fill:#000000;fill-opacity:1\">\n",
       "        <use height=\"100%\" id=\"use4432\" width=\"100%\" x=\"0\" xlink:href=\"#textext-9cb86a6d-1\" y=\"9.9630003\"/>\n",
       "      </g>\n",
       "    </g>\n",
       "  </g>\n",
       "  <g id=\"g4520\" ns0:page_width=\"10cm\" ns0:preamble=\"\" ns0:text=\"$r$\" style=\"stroke-width:0.0000001\" transform=\"matrix(3.75,0,0,3.75,282.03811,310.66041)\">\n",
       "    <defs id=\"defs4522\">\n",
       "      <g id=\"g4524\">\n",
       "        <symbol id=\"textext-3a20c329-0\" overflow=\"visible\" style=\"overflow:visible\">\n",
       "          <path d=\"\" id=\"path4527\" inkscape:connector-curvature=\"0\" style=\"stroke:none\"/>\n",
       "        </symbol>\n",
       "        <symbol id=\"textext-3a20c329-1\" overflow=\"visible\" style=\"overflow:visible\">\n",
       "          <path d=\"m 0.875,-0.59375 c -0.03125,0.15625 -0.09375,0.390625 -0.09375,0.4375 0,0.171875 0.140625,0.265625 0.296875,0.265625 0.125,0 0.296875,-0.078125 0.375,-0.28125 C 1.46875,-0.203125 1.796875,-1.5625 1.84375,-1.75 c 0.078125,-0.328125 0.265625,-1.015625 0.3125,-1.296875 0.046875,-0.125 0.328125,-0.59375 0.5625,-0.8125 0.078125,-0.0625 0.375,-0.328125 0.796875,-0.328125 0.265625,0 0.40625,0.125 0.421875,0.125 -0.296875,0.046875 -0.515625,0.28125 -0.515625,0.546875 0,0.15625 0.109375,0.34375 0.375,0.34375 0.265625,0 0.546875,-0.234375 0.546875,-0.59375 0,-0.34375 -0.3125,-0.640625 -0.828125,-0.640625 C 2.875,-4.40625 2.4375,-3.921875 2.25,-3.640625 2.15625,-4.09375 1.796875,-4.40625 1.328125,-4.40625 0.875,-4.40625 0.6875,-4.015625 0.59375,-3.84375 0.421875,-3.5 0.296875,-2.90625 0.296875,-2.875 c 0,0.109375 0.09375,0.109375 0.109375,0.109375 0.109375,0 0.109375,-0.015625 0.171875,-0.234375 0.171875,-0.703125 0.375,-1.1875 0.734375,-1.1875 0.15625,0 0.296875,0.078125 0.296875,0.453125 0,0.21875 -0.03125,0.328125 -0.15625,0.84375 z m 0,0\" id=\"path4530\" inkscape:connector-curvature=\"0\" style=\"stroke:none\"/>\n",
       "        </symbol>\n",
       "      </g>\n",
       "    </defs>\n",
       "    <g id=\"textext-3a20c329-2\">\n",
       "      <g id=\"g4533\" style=\"fill:#000000;fill-opacity:1\">\n",
       "        <use height=\"100%\" id=\"use4535\" width=\"100%\" x=\"0\" xlink:href=\"#textext-3a20c329-1\" y=\"9.9630003\"/>\n",
       "      </g>\n",
       "    </g>\n",
       "  </g>\n",
       "  <path d=\"M 11.467452,294.84117 357.21723,95.22245\" id=\"path4589\" inkscape:connector-curvature=\"0\" sodipodi:nodetypes=\"cc\" style=\"fill:none;fill-rule:evenodd;stroke:#000000;stroke-width:1px;stroke-linecap:butt;stroke-linejoin:miter;stroke-opacity:1;marker-start:url(#Arrow1Lstart)\"/>\n",
       "  <path d=\"M 399.28361,70.93541 497.14374,14.43584\" id=\"path4591\" inkscape:connector-curvature=\"0\" sodipodi:nodetypes=\"cc\" style=\"fill:none;fill-rule:evenodd;stroke:#000000;stroke-width:1px;stroke-linecap:butt;stroke-linejoin:miter;stroke-opacity:1;marker-end:url(#Arrow2Lend)\"/>\n",
       "  <path d=\"M 542.15239,66.49182 580.72484,44.22201\" id=\"path4798\" inkscape:connector-curvature=\"0\" style=\"fill:none;fill-rule:evenodd;stroke:#000000;stroke-width:1px;stroke-linecap:butt;stroke-linejoin:miter;stroke-opacity:1\"/>\n",
       "  <path d=\"M 574.88902,119.54806 613.46147,97.27825\" id=\"path4798-3\" inkscape:connector-curvature=\"0\" style=\"fill:none;fill-rule:evenodd;stroke:#000000;stroke-width:1px;stroke-linecap:butt;stroke-linejoin:miter;stroke-opacity:1\"/>\n",
       "  <path d=\"M 25.788389,324.27987 137.58631,259.73331\" id=\"path4589-6\" inkscape:connector-curvature=\"0\" sodipodi:nodetypes=\"cc\" style=\"fill:none;fill-rule:evenodd;stroke:#000000;stroke-width:1px;stroke-linecap:butt;stroke-linejoin:miter;stroke-opacity:1;marker-start:url(#marker6910)\"/>\n",
       "  <path d=\"M 198.43084,224.6047 269.2042,183.74368\" id=\"path4591-1\" inkscape:connector-curvature=\"0\" sodipodi:nodetypes=\"cc\" style=\"fill:none;fill-rule:evenodd;stroke:#000000;stroke-width:1px;stroke-linecap:butt;stroke-linejoin:miter;stroke-opacity:1;marker-end:url(#Arrow2Lend-5)\"/>\n",
       "  <g id=\"g6399\" ns0:page_width=\"10cm\" ns0:preamble=\"\" ns0:text=\"$l/2$\" style=\"stroke-width:0.0000001\" transform=\"matrix(3.75,0,0,3.75,146.13186,218.02461)\">\n",
       "    <defs id=\"defs6401\">\n",
       "      <g id=\"g6403\">\n",
       "        <symbol id=\"textext-4d1c2e48-0\" overflow=\"visible\" style=\"overflow:visible\">\n",
       "          <path d=\"\" id=\"path6406\" inkscape:connector-curvature=\"0\" style=\"stroke:none\"/>\n",
       "        </symbol>\n",
       "        <symbol id=\"textext-4d1c2e48-1\" overflow=\"visible\" style=\"overflow:visible\">\n",
       "          <path d=\"m 2.578125,-6.8125 c 0,0 0,-0.109375 -0.140625,-0.109375 -0.21875,0 -0.953125,0.078125 -1.21875,0.109375 -0.078125,0 -0.1875,0.015625 -0.1875,0.203125 0,0.109375 0.109375,0.109375 0.25,0.109375 0.484375,0 0.5,0.09375 0.5,0.171875 L 1.75,-6.125 0.484375,-1.140625 C 0.453125,-1.03125 0.4375,-0.96875 0.4375,-0.8125 c 0,0.578125 0.4375,0.921875 0.90625,0.921875 0.328125,0 0.578125,-0.203125 0.75,-0.5625 0.171875,-0.375 0.296875,-0.953125 0.296875,-0.96875 0,-0.109375 -0.09375,-0.109375 -0.125,-0.109375 -0.09375,0 -0.109375,0.046875 -0.125,0.1875 C 1.96875,-0.703125 1.78125,-0.109375 1.375,-0.109375 c -0.296875,0 -0.296875,-0.3125 -0.296875,-0.453125 0,-0.25 0.015625,-0.296875 0.0625,-0.484375 z m 0,0\" id=\"path6409\" inkscape:connector-curvature=\"0\" style=\"stroke:none\"/>\n",
       "        </symbol>\n",
       "        <symbol id=\"textext-4d1c2e48-2\" overflow=\"visible\" style=\"overflow:visible\">\n",
       "          <path d=\"m 4.375,-7.09375 c 0.046875,-0.140625 0.046875,-0.171875 0.046875,-0.1875 0,-0.109375 -0.078125,-0.203125 -0.1875,-0.203125 -0.078125,0 -0.140625,0.03125 -0.171875,0.09375 l -3.46875,9.5 C 0.546875,2.25 0.546875,2.28125 0.546875,2.296875 0.546875,2.40625 0.640625,2.5 0.75,2.5 0.875,2.5 0.90625,2.421875 0.96875,2.25 Z m 0,0\" id=\"path6412\" inkscape:connector-curvature=\"0\" style=\"stroke:none\"/>\n",
       "        </symbol>\n",
       "        <symbol id=\"textext-4d1c2e48-3\" overflow=\"visible\" style=\"overflow:visible\">\n",
       "          <path d=\"\" id=\"path6415\" inkscape:connector-curvature=\"0\" style=\"stroke:none\"/>\n",
       "        </symbol>\n",
       "        <symbol id=\"textext-4d1c2e48-4\" overflow=\"visible\" style=\"overflow:visible\">\n",
       "          <path d=\"m 1.265625,-0.765625 1.0625,-1.03125 c 1.546875,-1.375 2.140625,-1.90625 2.140625,-2.90625 0,-1.140625 -0.890625,-1.9375 -2.109375,-1.9375 -1.125,0 -1.859375,0.921875 -1.859375,1.8125 0,0.546875 0.5,0.546875 0.53125,0.546875 0.171875,0 0.515625,-0.109375 0.515625,-0.53125 0,-0.25 -0.1875,-0.515625 -0.53125,-0.515625 -0.078125,0 -0.09375,0 -0.125,0.015625 0.21875,-0.65625 0.765625,-1.015625 1.34375,-1.015625 0.90625,0 1.328125,0.8125 1.328125,1.625 C 3.5625,-3.90625 3.078125,-3.125 2.515625,-2.5 l -1.90625,2.125 C 0.5,-0.265625 0.5,-0.234375 0.5,0 l 3.703125,0 0.265625,-1.734375 -0.234375,0 C 4.171875,-1.4375 4.109375,-1 4,-0.84375 3.9375,-0.765625 3.28125,-0.765625 3.0625,-0.765625 Z m 0,0\" id=\"path6418\" inkscape:connector-curvature=\"0\" style=\"stroke:none\"/>\n",
       "        </symbol>\n",
       "      </g>\n",
       "    </defs>\n",
       "    <g id=\"textext-4d1c2e48-5\">\n",
       "      <g id=\"g6421\" style=\"fill:#000000;fill-opacity:1\">\n",
       "        <use height=\"100%\" id=\"use6423\" width=\"100%\" x=\"0\" xlink:href=\"#textext-4d1c2e48-1\" y=\"9.9630003\"/>\n",
       "      </g>\n",
       "      <g id=\"g6425\" style=\"fill:#000000;fill-opacity:1\">\n",
       "        <use height=\"100%\" id=\"use6427\" width=\"100%\" x=\"3.172092\" xlink:href=\"#textext-4d1c2e48-2\" y=\"9.9630003\"/>\n",
       "      </g>\n",
       "      <g id=\"g6429\" style=\"fill:#000000;fill-opacity:1\">\n",
       "        <use height=\"100%\" id=\"use6431\" width=\"100%\" x=\"8.1499996\" xlink:href=\"#textext-4d1c2e48-4\" y=\"9.9630003\"/>\n",
       "      </g>\n",
       "    </g>\n",
       "  </g>\n",
       "</svg>"
      ],
      "text/plain": [
       "<IPython.core.display.SVG object>"
      ]
     },
     "execution_count": 1,
     "metadata": {},
     "output_type": "execute_result"
    }
   ],
   "source": [
    "from IPython.display import SVG, Latex\n",
    "SVG('book-balance.svg')"
   ]
  },
  {
   "cell_type": "markdown",
   "metadata": {},
   "source": [
    "# Non-linear Equation of Motion\n",
    "\n",
    "The book oscillates at an angular rate, $\\dot{\\theta}$, and the magnitude of the velocity of the center of mass of the book can be shown to be $v = \\frac{1}{2} \\sqrt{\\left(h^{2} + 4 r^{2} \\theta^{2}\\right) \\dot{\\theta}^{2}}$. The moment of inertia of the book is approximately $\\frac{m}{12} \\left(h^{2} + l^{2}\\right)$.\n",
    "\n",
    "Thus, the total kinetic energy is:\n",
    "\n",
    "$$T = \\frac{m \\dot{\\theta}^{2}}{24} \\left(h^{2} + l^{2}\\right) + \\frac{m \\dot{\\theta}^{2}}{8} \\left(h^{2} + 4 r^{2} \\theta^{2}\\right)$$\n",
    "\n",
    "The potential energy is:\n",
    "\n",
    "$$U = - g m \\left(\\frac{h}{2} - r \\theta \\operatorname{sin}\\left(\\theta\\right) + r - \\left(\\frac{h}{2} + r\\right) \\operatorname{cos}\\left(\\theta\\right)\\right)$$\n",
    "\n",
    "The Langragian can be formed and then finally the equation of motion:\n",
    "\n",
    "$$ - \\frac{g h}{2} m \\operatorname{sin}\\left(\\theta\\right) + g m r \\theta \\operatorname{cos}\\left(\\theta\\right) + \\frac{h^{2} m}{3} \\ddot{\\theta} + \\frac{l^{2} m}{12} \\ddot{\\theta} + m r^{2} \\theta^{2} \\ddot{\\theta} + m r^{2} \\theta \\dot{\\theta}^{2} = 0$$\n"
   ]
  },
  {
   "cell_type": "code",
   "execution_count": null,
   "metadata": {
    "collapsed": true
   },
   "outputs": [],
   "source": [
    "import numpy as np\n",
    "import matplotlib.pyplot as plt\n",
    "from IPython.display import Latex"
   ]
  },
  {
   "cell_type": "code",
   "execution_count": null,
   "metadata": {
    "collapsed": true
   },
   "outputs": [],
   "source": [
    "%matplotlib notebook"
   ]
  },
  {
   "cell_type": "markdown",
   "metadata": {},
   "source": [
    "# Question\n",
    "\n",
    "Linearize the non-linear equation of motion about $\\theta=0$ and type the result below:"
   ]
  },
  {
   "cell_type": "markdown",
   "metadata": {},
   "source": [
    "*Type answer here*"
   ]
  },
  {
   "cell_type": "markdown",
   "metadata": {},
   "source": [
    "# Question\n",
    "\n",
    "Derive an approximate expression for the natural frequency of small oscillations by linearizing the above equation of motion about $\\theta=0$, the equilibrium point and compute the natural frequency in rad/s and Hz along with the period of osciallation. Use the parameters $m= 1.058\\textrm{ kg}$, $l = 0.238 \\textrm{ m}$, $g = 9.81 \\textrm{ ms}^{-1}$, $h = 0.029 \\textrm{ m}$, and $r=0.042 \\textrm{ m}$."
   ]
  },
  {
   "cell_type": "markdown",
   "metadata": {},
   "source": [
    "*Type answer here*"
   ]
  },
  {
   "cell_type": "code",
   "execution_count": null,
   "metadata": {
    "collapsed": true
   },
   "outputs": [],
   "source": [
    "m = 1.058  # kg\n",
    "l = 0.238  # m\n",
    "g = 9.81  # m/s^2\n",
    "h = 0.029  # m\n",
    "r = 0.042 # m"
   ]
  },
  {
   "cell_type": "code",
   "execution_count": null,
   "metadata": {
    "collapsed": false
   },
   "outputs": [],
   "source": [
    "omega_n = \n",
    "Latex('$\\omega_n = {:1.3f} \\\\textrm{{ rad/s}}$'.format(omega_n))"
   ]
  },
  {
   "cell_type": "code",
   "execution_count": null,
   "metadata": {
    "collapsed": false
   },
   "outputs": [],
   "source": [
    "fn = \n",
    "Latex('$f_n = {:1.3f} \\\\textrm{{ Hz}}$'.format(fn))"
   ]
  },
  {
   "cell_type": "code",
   "execution_count": null,
   "metadata": {
    "collapsed": false
   },
   "outputs": [],
   "source": [
    "Tn = \n",
    "Latex('$T_n = {:1.3f} \\\\textrm{{ s}}$'.format(Tn))"
   ]
  },
  {
   "cell_type": "markdown",
   "metadata": {},
   "source": [
    "# Question\n",
    "\n",
    "Describe how the mass affects the natural frequency of the system."
   ]
  },
  {
   "cell_type": "markdown",
   "metadata": {},
   "source": [
    "*Type answer here*"
   ]
  },
  {
   "cell_type": "markdown",
   "metadata": {},
   "source": [
    "# Question\n",
    "\n",
    "Are there any limits to the size of the book (the ratios $h/r$ or $l/r$) by a requirement of  stability of the oscillations? Said another way, how high a pile of books can you balance? Hint; it is probably difficult to balance a very high pile of book. Recall that if the effective stiffness is negative you will get unstable behavior in an $m$-$k$ model."
   ]
  },
  {
   "cell_type": "markdown",
   "metadata": {},
   "source": [
    "*Type answer here*"
   ]
  },
  {
   "cell_type": "markdown",
   "metadata": {},
   "source": [
    "# Question\n",
    "\n",
    "Simulate the linear and non-linear equations of motion that predict the free response of the book released from rest at an initial angle $\\theta_0=1\\textrm{ deg}$ for 10 seconds. Use `scipy.integrate.odeint` for the numerical integration. Plot the results of each simulation on the same graph."
   ]
  },
  {
   "cell_type": "code",
   "execution_count": null,
   "metadata": {
    "collapsed": false
   },
   "outputs": [],
   "source": [
    "from scipy.integrate import odeint"
   ]
  },
  {
   "cell_type": "code",
   "execution_count": null,
   "metadata": {
    "collapsed": true
   },
   "outputs": [],
   "source": [
    "def eval_nonlin_rhs(x, t):\n",
    "    \"\"\"Evaluates the right hand side of the non-linear differential equations.\n",
    "    \n",
    "    Parameters\n",
    "    ==========\n",
    "    x : array_like, shape(2, )\n",
    "        An array of the states: [theta, omega].\n",
    "    t : float\n",
    "        The value of time.\n",
    "        \n",
    "    Returns\n",
    "    =======\n",
    "    xdot : array_like, shape(2, )\n",
    "        An array of the derivatives of the states: [thetadot, omegadot].\n",
    "    \n",
    "    \"\"\"\n",
    "    \n",
    "    theta, omega = x\n",
    "    \n",
    "    # type your first order equations of motion here\n",
    "\n",
    "    return thetadot, omegadot"
   ]
  },
  {
   "cell_type": "code",
   "execution_count": null,
   "metadata": {
    "collapsed": true
   },
   "outputs": [],
   "source": [
    "def eval_lin_rhs(x, t):\n",
    "    \"\"\"Evaluates the right hand side of the non-linear differential equations.\n",
    "    \n",
    "    Parameters\n",
    "    ==========\n",
    "    x : array_like, shape(2, )\n",
    "        An array of the states: [theta, omega].\n",
    "    t : float\n",
    "        The value of time.\n",
    "        \n",
    "    Returns\n",
    "    =======\n",
    "    xdot : array_like, shape(2, )\n",
    "        An array of the derivatives of the states: [thetadot, omegadot].\n",
    "    \n",
    "    \"\"\"\n",
    "    \n",
    "    theta, omega = x\n",
    "    \n",
    "    # type your first order linear equations of motion here\n",
    "    \n",
    "    return thetadot, omegadot"
   ]
  },
  {
   "cell_type": "markdown",
   "metadata": {},
   "source": [
    "Simulate the system."
   ]
  },
  {
   "cell_type": "code",
   "execution_count": null,
   "metadata": {
    "collapsed": true
   },
   "outputs": [],
   "source": [
    "t = np.linspace(0, 10, num=1000)"
   ]
  },
  {
   "cell_type": "code",
   "execution_count": null,
   "metadata": {
    "collapsed": false
   },
   "outputs": [],
   "source": [
    "x_nonlin = odeint(eval_nonlin_rhs, [np.deg2rad(1), 0], t)\n",
    "x_lin = odeint(eval_lin_rhs, [np.deg2rad(1), 0], t)"
   ]
  },
  {
   "cell_type": "markdown",
   "metadata": {},
   "source": [
    "Plot the trajectory of $\\theta$."
   ]
  },
  {
   "cell_type": "code",
   "execution_count": null,
   "metadata": {
    "collapsed": false
   },
   "outputs": [],
   "source": [
    "fig, ax = plt.subplots(1, 1)\n",
    "\n",
    "# type both plot commands here as `ax.plot(...)`\n",
    "\n",
    "ax.set_xlabel('Time [s]')\n",
    "ax.set_ylabel('$\\\\theta$ [deg]')\n",
    "ax.legend(['Non-linear', 'Linear']);"
   ]
  },
  {
   "cell_type": "markdown",
   "metadata": {},
   "source": [
    "# Question\n",
    "\n",
    "Using your program, create a function that calculates the period of the non-linear model to three significant figures of the 11 oscillations when $\\theta_0= 1, 10 \\textrm{ and } 20 \\textrm{ deg}$. Compare these results to the period predicted by the linear model. By how much and why do they differ?\n",
    "\n",
    "*Hint: Look for sign changes with `np.sign()`, use boolean indexing to extract important times, and finally `np.diff()` and `np.mean()` can be useful for finding the delta times and averaging. Note that `np.diff()` returns one fewer item in the array it operates on.*"
   ]
  },
  {
   "cell_type": "code",
   "execution_count": null,
   "metadata": {
    "collapsed": false
   },
   "outputs": [],
   "source": [
    "def find_period(t, theta):\n",
    "    \"\"\"Computes the period of oscillation based on the trajectory of theta.\n",
    "    \n",
    "    Parameters\n",
    "    ==========\n",
    "    t : array_like, shape(n,)\n",
    "        An array of monotonically increasing time values.\n",
    "    theta : array_like, shape(n,)\n",
    "        An array of values for theta at each time in ``t``.\n",
    "        \n",
    "    Returns\n",
    "    =======\n",
    "    T : float\n",
    "        An estimate of the period of oscillation.\n",
    "        \n",
    "    \"\"\"\n",
    "    \n",
    "    # type your code here\n",
    "       \n",
    "    return T"
   ]
  },
  {
   "cell_type": "code",
   "execution_count": null,
   "metadata": {
    "collapsed": false
   },
   "outputs": [],
   "source": [
    "x_nonlin = odeint(eval_nonlin_rhs, [np.deg2rad(1), 0], t)\n",
    "T_d = find_period(t, x_nonlin[:, 0])\n",
    "T_d"
   ]
  },
  {
   "cell_type": "code",
   "execution_count": null,
   "metadata": {
    "collapsed": false
   },
   "outputs": [],
   "source": [
    "# repeat for 10 and 20 degrees"
   ]
  },
  {
   "cell_type": "markdown",
   "metadata": {},
   "source": [
    "# Question\n",
    "\n",
    "Using your plot above plot the linear and non-linear time repsonses for $\\theta_0=20 \\textrm{ deg}$. What do you observe?"
   ]
  },
  {
   "cell_type": "code",
   "execution_count": null,
   "metadata": {
    "collapsed": true
   },
   "outputs": [],
   "source": [
    "# Type your code here"
   ]
  },
  {
   "cell_type": "markdown",
   "metadata": {
    "collapsed": true
   },
   "source": [
    "# Question\n",
    "\n",
    "Make a plot of the period vs $\\theta_0=1,2,..,25$ for the non-linear system. Also plot a horizontal line for the linear period for comparison using `ax.axhline()`.\n",
    "\n",
    "*Hint: Use a `for` loop to iterate through `np.arange(1, 25)` and collect your results in an initially empty list with `periods.append()`."
   ]
  },
  {
   "cell_type": "code",
   "execution_count": null,
   "metadata": {
    "collapsed": false
   },
   "outputs": [],
   "source": [
    "initial_thetas = np.arange(1, 25)  # deg\n",
    "\n",
    "periods = []\n",
    "\n",
    "# type your for loop here"
   ]
  },
  {
   "cell_type": "code",
   "execution_count": null,
   "metadata": {
    "collapsed": false
   },
   "outputs": [],
   "source": [
    "fig, ax = plt.subplots(1, 1)\n",
    "\n",
    "# type your plot commands here using `ax.plot()` and `ax.axhline()`\n",
    "\n",
    "ax.set_xlabel(r'$\\theta_0$ [rad]')\n",
    "ax.set_ylabel(r'$T$ Period [s]')\n",
    "ax.legend(['Non-linear', 'Linear']);"
   ]
  },
  {
   "cell_type": "markdown",
   "metadata": {},
   "source": [
    "# Question\n",
    "\n",
    "Compare the period predicted by your model to the period measured in class. If it does not match, what are the possible explanations? Is the linear model a good model to use for predicting motion of the system?"
   ]
  },
  {
   "cell_type": "markdown",
   "metadata": {},
   "source": [
    "*Type your answer here.*"
   ]
  },
  {
   "cell_type": "markdown",
   "metadata": {},
   "source": [
    "# Question\n",
    "\n",
    "Derive the expression for the magnitude of the velocity of the center of mass of the book and the height value used in the potential energy expression."
   ]
  },
  {
   "cell_type": "markdown",
   "metadata": {},
   "source": [
    "*Type answer here*"
   ]
  }
 ],
 "metadata": {
  "anaconda-cloud": {},
  "kernelspec": {
   "display_name": "Python [conda root]",
   "language": "python",
   "name": "conda-root-py"
  },
  "language_info": {
   "codemirror_mode": {
    "name": "ipython",
    "version": 3
   },
   "file_extension": ".py",
   "mimetype": "text/x-python",
   "name": "python",
   "nbconvert_exporter": "python",
   "pygments_lexer": "ipython3",
   "version": "3.5.2"
  }
 },
 "nbformat": 4,
 "nbformat_minor": 1
}
