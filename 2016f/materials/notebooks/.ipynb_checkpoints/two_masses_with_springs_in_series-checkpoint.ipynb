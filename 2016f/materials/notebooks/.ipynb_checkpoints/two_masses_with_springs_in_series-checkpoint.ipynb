{
 "cells": [
  {
   "cell_type": "code",
   "execution_count": 1,
   "metadata": {
    "collapsed": true
   },
   "outputs": [],
   "source": [
    "from sympy import symbols, solve, cos\n",
    "from sympy.physics.mechanics import dynamicsymbols, ReferenceFrame, Point, Particle\n",
    "from sympy.physics.mechanics import RigidBody, inertia, KanesMethod, init_vprinting, Lagrangian, LagrangesMethod"
   ]
  },
  {
   "cell_type": "code",
   "execution_count": 2,
   "metadata": {
    "collapsed": true
   },
   "outputs": [],
   "source": [
    "init_vprinting()"
   ]
  },
  {
   "cell_type": "code",
   "execution_count": 3,
   "metadata": {
    "collapsed": true
   },
   "outputs": [],
   "source": [
    "x1, x2 = dynamicsymbols('x1, x2')\n",
    "v1, v2 = dynamicsymbols('v1, v2')\n",
    "m1, m2, k, g = symbols('m1, m2, k, g')"
   ]
  },
  {
   "cell_type": "code",
   "execution_count": 4,
   "metadata": {
    "collapsed": true
   },
   "outputs": [],
   "source": [
    "N = ReferenceFrame('N')"
   ]
  },
  {
   "cell_type": "code",
   "execution_count": 5,
   "metadata": {
    "collapsed": false
   },
   "outputs": [],
   "source": [
    "O = Point('O')\n",
    "P1 = O.locatenew('P1', x1 * N.x)\n",
    "P2 = O.locatenew('P2', x2 * N.x)"
   ]
  },
  {
   "cell_type": "code",
   "execution_count": 6,
   "metadata": {
    "collapsed": false,
    "scrolled": true
   },
   "outputs": [],
   "source": [
    "O.set_vel(N, 0)\n",
    "P1.set_vel(N, v1 * N.x)\n",
    "P2.set_vel(N, v2 * N.x)"
   ]
  },
  {
   "cell_type": "code",
   "execution_count": 7,
   "metadata": {
    "collapsed": false
   },
   "outputs": [],
   "source": [
    "block1 = Particle('block1', P1, m1)\n",
    "block2 = Particle('block2', P2, m2)"
   ]
  },
  {
   "cell_type": "markdown",
   "metadata": {},
   "source": [
    "# Kane's Method"
   ]
  },
  {
   "cell_type": "code",
   "execution_count": 8,
   "metadata": {
    "collapsed": false
   },
   "outputs": [],
   "source": [
    "force1 = (P1, m1 * g * N.x - k * x1 * N.x + k * (x2 - x1) * N.x)\n",
    "force2 = (P2, m2 * g * N.x - k * (x2 - x1) * N.x)"
   ]
  },
  {
   "cell_type": "code",
   "execution_count": 9,
   "metadata": {
    "collapsed": false
   },
   "outputs": [],
   "source": [
    "kane = KanesMethod(N, (x1, x2), (v1, v2), kd_eqs=(x1.diff() - v1, x2.diff() - v2))\n",
    "fr, frstar = kane.kanes_equations((force1, force2), (block1, block2))"
   ]
  },
  {
   "cell_type": "code",
   "execution_count": 10,
   "metadata": {
    "collapsed": false
   },
   "outputs": [
    {
     "data": {
      "image/png": "[encoded data removed]",
      "text/latex": [
       "$$\\left[\\begin{matrix}g m_{1} - 2 k x_{1} + k x_{2} - m_{1} \\dot{v}_{1}\\\\g m_{2} + k \\left(x_{1} - x_{2}\\right) - m_{2} \\dot{v}_{2}\\end{matrix}\\right]$$"
      ],
      "text/plain": [
       "⎡g⋅m₁ - 2⋅k⋅x₁ + k⋅x₂ - m₁⋅v₁̇⎤\n",
       "⎢                             ⎥\n",
       "⎣ g⋅m₂ + k⋅(x₁ - x₂) - m₂⋅v₂̇ ⎦"
      ]
     },
     "execution_count": 10,
     "metadata": {},
     "output_type": "execute_result"
    }
   ],
   "source": [
    "fr_plus_frstar = fr + frstar\n",
    "fr_plus_frstar.simplify()\n",
    "fr_plus_frstar"
   ]
  },
  {
   "cell_type": "markdown",
   "metadata": {},
   "source": [
    "This gives the two equilibrium points:"
   ]
  },
  {
   "cell_type": "code",
   "execution_count": 11,
   "metadata": {
    "collapsed": false
   },
   "outputs": [
    {
     "data": {
      "image/png": "[encoded data removed]",
      "text/latex": [
       "$$\\left \\{ x_{1} : \\frac{g}{k} \\left(m_{1} + m_{2}\\right), \\quad x_{2} : \\frac{g}{k} \\left(m_{1} + 2 m_{2}\\right)\\right \\}$$"
      ],
      "text/plain": [
       "⎧    g⋅(m₁ + m₂)      g⋅(m₁ + 2⋅m₂)⎫\n",
       "⎨x₁: ───────────, x₂: ─────────────⎬\n",
       "⎩         k                 k      ⎭"
      ]
     },
     "execution_count": 11,
     "metadata": {},
     "output_type": "execute_result"
    }
   ],
   "source": [
    "eq_points = solve(fr_plus_frstar.subs({v1.diff(): 0, v2.diff(): 0, v1: 0, v2: 0}), x1, x2)\n",
    "eq_points"
   ]
  },
  {
   "cell_type": "markdown",
   "metadata": {},
   "source": [
    "# Lagrange's Method"
   ]
  },
  {
   "cell_type": "code",
   "execution_count": 12,
   "metadata": {
    "collapsed": false
   },
   "outputs": [],
   "source": [
    "P1.set_vel(N, x1.diff() * N.x)\n",
    "P2.set_vel(N, x2.diff() * N.x)"
   ]
  },
  {
   "cell_type": "code",
   "execution_count": 13,
   "metadata": {
    "collapsed": false
   },
   "outputs": [
    {
     "data": {
      "image/png": "[encoded data removed]",
      "text/latex": [
       "$$\\frac{m_{1} \\dot{x}_{1}^{2}}{2} + \\frac{m_{2} \\dot{x}_{2}^{2}}{2}$$"
      ],
      "text/plain": [
       "      2         2\n",
       "m₁⋅x₁̇    m₂⋅x₂̇ \n",
       "─────── + ───────\n",
       "   2         2   "
      ]
     },
     "execution_count": 13,
     "metadata": {},
     "output_type": "execute_result"
    }
   ],
   "source": [
    "block1.kinetic_energy(N) + block2.kinetic_energy(N)"
   ]
  },
  {
   "cell_type": "code",
   "execution_count": 14,
   "metadata": {
    "collapsed": false
   },
   "outputs": [],
   "source": [
    "block1.potential_energy = k * x1**2 / 2 + k * (x2 - x1)**2 / 2 - m1 * g * x1 \n",
    "block2.potential_energy = -m2 * g * x2"
   ]
  },
  {
   "cell_type": "code",
   "execution_count": 15,
   "metadata": {
    "collapsed": false
   },
   "outputs": [
    {
     "data": {
      "image/png": "[encoded data removed]",
      "text/latex": [
       "$$g m_{1} x_{1} + g m_{2} x_{2} - \\frac{k}{2} \\left(- x_{1} + x_{2}\\right)^{2} - \\frac{k x^{2}_{1}}{2} + \\frac{m_{1} \\dot{x}_{1}^{2}}{2} + \\frac{m_{2} \\dot{x}_{2}^{2}}{2}$$"
      ],
      "text/plain": [
       "                                2       2         2         2\n",
       "                    k⋅(-x₁ + x₂)    k⋅x₁    m₁⋅x₁̇    m₂⋅x₂̇ \n",
       "g⋅m₁⋅x₁ + g⋅m₂⋅x₂ - ───────────── - ───── + ─────── + ───────\n",
       "                          2           2        2         2   "
      ]
     },
     "execution_count": 15,
     "metadata": {},
     "output_type": "execute_result"
    }
   ],
   "source": [
    "L = Lagrangian(N, block1, block2)\n",
    "L"
   ]
  },
  {
   "cell_type": "code",
   "execution_count": 16,
   "metadata": {
    "collapsed": false
   },
   "outputs": [],
   "source": [
    "lagrange = LagrangesMethod(L, (x1, x2))"
   ]
  },
  {
   "cell_type": "code",
   "execution_count": 17,
   "metadata": {
    "collapsed": false
   },
   "outputs": [
    {
     "data": {
      "image/png": "[encoded data removed]",
      "text/latex": [
       "$$\\left[\\begin{matrix}- g m_{1} + 2 k x_{1} - k x_{2} + m_{1} \\ddot{x}_{1}\\\\- g m_{2} - k \\left(x_{1} - x_{2}\\right) + m_{2} \\ddot{x}_{2}\\end{matrix}\\right]$$"
      ],
      "text/plain": [
       "⎡-g⋅m₁ + 2⋅k⋅x₁ - k⋅x₂ + m₁⋅x₁̈⎤\n",
       "⎢                              ⎥\n",
       "⎣ -g⋅m₂ - k⋅(x₁ - x₂) + m₂⋅x₂̈ ⎦"
      ]
     },
     "execution_count": 17,
     "metadata": {},
     "output_type": "execute_result"
    }
   ],
   "source": [
    "lagranges_equations = lagrange.form_lagranges_equations()\n",
    "lagranges_equations.simplify()\n",
    "lagranges_equations"
   ]
  },
  {
   "cell_type": "code",
   "execution_count": 18,
   "metadata": {
    "collapsed": false
   },
   "outputs": [
    {
     "data": {
      "image/png": "[encoded data removed]",
      "text/latex": [
       "$$\\left \\{ x_{1} : \\frac{g}{k} \\left(m_{1} + m_{2}\\right), \\quad x_{2} : \\frac{g}{k} \\left(m_{1} + 2 m_{2}\\right)\\right \\}$$"
      ],
      "text/plain": [
       "⎧    g⋅(m₁ + m₂)      g⋅(m₁ + 2⋅m₂)⎫\n",
       "⎨x₁: ───────────, x₂: ─────────────⎬\n",
       "⎩         k                 k      ⎭"
      ]
     },
     "execution_count": 18,
     "metadata": {},
     "output_type": "execute_result"
    }
   ],
   "source": [
    "eq_points = solve(lagranges_equations.subs({x1.diff().diff(): 0,\n",
    "                                            x2.diff().diff(): 0,\n",
    "                                            x1.diff(): 0, x2.diff(): 0}), x1, x2)\n",
    "eq_points"
   ]
  },
  {
   "cell_type": "markdown",
   "metadata": {},
   "source": [
    "# Compare"
   ]
  },
  {
   "cell_type": "code",
   "execution_count": 19,
   "metadata": {
    "collapsed": false
   },
   "outputs": [
    {
     "data": {
      "image/png": "[encoded data removed]",
      "text/latex": [
       "$$\\left[\\begin{matrix}0\\\\0\\end{matrix}\\right]$$"
      ],
      "text/plain": [
       "⎡0⎤\n",
       "⎢ ⎥\n",
       "⎣0⎦"
      ]
     },
     "execution_count": 19,
     "metadata": {},
     "output_type": "execute_result"
    }
   ],
   "source": [
    "should_be_zero = fr_plus_frstar.subs({v1: x1.diff(), v2: x2.diff()}) + lagranges_equations\n",
    "should_be_zero.simplify()\n",
    "should_be_zero"
   ]
  }
 ],
 "metadata": {
  "anaconda-cloud": {},
  "kernelspec": {
   "display_name": "Python [conda root]",
   "language": "python",
   "name": "conda-root-py"
  },
  "language_info": {
   "codemirror_mode": {
    "name": "ipython",
    "version": 3
   },
   "file_extension": ".py",
   "mimetype": "text/x-python",
   "name": "python",
   "nbconvert_exporter": "python",
   "pygments_lexer": "ipython3",
   "version": "3.5.2"
  }
 },
 "nbformat": 4,
 "nbformat_minor": 1
}
