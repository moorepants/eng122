{
 "cells": [
  {
   "cell_type": "markdown",
   "metadata": {},
   "source": [
    "This derives the equations of motion for the compound pendulum with a base attached to a vertical spring using both Kane's method and Langrange's method and compares the results of both."
   ]
  },
  {
   "cell_type": "code",
   "execution_count": 62,
   "metadata": {
    "collapsed": false
   },
   "outputs": [],
   "source": [
    "from sympy import symbols, solve, sin, cos, Matrix, simplify\n",
    "from sympy.physics.mechanics import dynamicsymbols, ReferenceFrame, Point, Particle\n",
    "from sympy.physics.mechanics import RigidBody, inertia, KanesMethod, init_vprinting, Lagrangian, LagrangesMethod"
   ]
  },
  {
   "cell_type": "code",
   "execution_count": 63,
   "metadata": {
    "collapsed": true
   },
   "outputs": [],
   "source": [
    "init_vprinting()"
   ]
  },
  {
   "cell_type": "code",
   "execution_count": 64,
   "metadata": {
    "collapsed": true
   },
   "outputs": [],
   "source": [
    "x, theta = dynamicsymbols('x, theta')\n",
    "v, omega = dynamicsymbols('v, omega')\n",
    "m, M, I, k, l, g = symbols('m, M, I, k, l, g')"
   ]
  },
  {
   "cell_type": "code",
   "execution_count": 65,
   "metadata": {
    "collapsed": true
   },
   "outputs": [],
   "source": [
    "N = ReferenceFrame('N')\n",
    "A = N.orientnew('A', 'Axis', (theta, N.z))"
   ]
  },
  {
   "cell_type": "code",
   "execution_count": 66,
   "metadata": {
    "collapsed": false
   },
   "outputs": [],
   "source": [
    "O = Point('O')\n",
    "a = O.locatenew('a', x * N.x)\n",
    "b = a.locatenew('b', l * A.x)"
   ]
  },
  {
   "cell_type": "markdown",
   "metadata": {},
   "source": [
    "# Kane's Method"
   ]
  },
  {
   "cell_type": "code",
   "execution_count": 67,
   "metadata": {
    "collapsed": true
   },
   "outputs": [],
   "source": [
    "A.set_ang_vel(N, omega * N.z)"
   ]
  },
  {
   "cell_type": "code",
   "execution_count": 68,
   "metadata": {
    "collapsed": false,
    "scrolled": true
   },
   "outputs": [
    {
     "data": {
      "image/png": "[encoded data removed]",
      "text/latex": [
       "$$v\\mathbf{\\hat{n}_x} + l \\omega\\mathbf{\\hat{a}_y}$$"
      ],
      "text/plain": [
       "v n_x + l⋅ω a_y"
      ]
     },
     "execution_count": 68,
     "metadata": {},
     "output_type": "execute_result"
    }
   ],
   "source": [
    "O.set_vel(N, 0)\n",
    "a.set_vel(N, v * N.x)\n",
    "b.v2pt_theory(a, N, A)"
   ]
  },
  {
   "cell_type": "code",
   "execution_count": 69,
   "metadata": {
    "collapsed": false
   },
   "outputs": [],
   "source": [
    "block = Particle('block', a, m)\n",
    "bar = RigidBody('bar', b, A, M, (inertia(A, 0, 0, I), b))"
   ]
  },
  {
   "cell_type": "code",
   "execution_count": 70,
   "metadata": {
    "collapsed": true
   },
   "outputs": [],
   "source": [
    "force_on_a = (a, -k * x * N.x + m * g * N.x)\n",
    "force_on_b = (b, M * g * N.x)"
   ]
  },
  {
   "cell_type": "code",
   "execution_count": 71,
   "metadata": {
    "collapsed": false
   },
   "outputs": [],
   "source": [
    "kane = KanesMethod(N, (x, theta), (v, omega), kd_eqs=(x.diff() - v, theta.diff() - omega))\n",
    "fr, frstar = kane.kanes_equations((force_on_a, force_on_b), (block, bar))"
   ]
  },
  {
   "cell_type": "code",
   "execution_count": 72,
   "metadata": {
    "collapsed": false
   },
   "outputs": [
    {
     "data": {
      "image/png": "[encoded data removed]",
      "text/latex": [
       "$$\\left[\\begin{matrix}M g + M l \\omega^{2} \\operatorname{cos}\\left(\\theta\\right) + M l \\operatorname{sin}\\left(\\theta\\right) \\dot{\\omega} + g m - k x - \\left(M + m\\right) \\dot{v}\\\\- M g l \\operatorname{sin}\\left(\\theta\\right) + M l \\operatorname{sin}\\left(\\theta\\right) \\dot{v} - \\left(I + M l^{2}\\right) \\dot{\\omega}\\end{matrix}\\right]$$"
      ],
      "text/plain": [
       "⎡           2                                                ⎤\n",
       "⎢M⋅g + M⋅l⋅ω ⋅cos(θ) + M⋅l⋅sin(θ)⋅ω̇ + g⋅m - k⋅x - (M + m)⋅v̇⎥\n",
       "⎢                                                            ⎥\n",
       "⎢                                       ⎛       2⎞           ⎥\n",
       "⎣       -M⋅g⋅l⋅sin(θ) + M⋅l⋅sin(θ)⋅v̇ - ⎝I + M⋅l ⎠⋅ω̇        ⎦"
      ]
     },
     "execution_count": 72,
     "metadata": {},
     "output_type": "execute_result"
    }
   ],
   "source": [
    "fr_plus_frstar = fr + frstar\n",
    "fr_plus_frstar.simplify()\n",
    "fr_plus_frstar"
   ]
  },
  {
   "cell_type": "code",
   "execution_count": 73,
   "metadata": {
    "collapsed": false
   },
   "outputs": [
    {
     "data": {
      "image/png": "[encoded data removed]",
      "text/latex": [
       "$$\\left[\\begin{matrix}v\\\\\\omega\\\\\\frac{1}{\\left(M + m\\right) \\left(- M^{2} l^{2} \\operatorname{sin}^{2}\\left(\\theta\\right) + \\left(I + M l^{2}\\right) \\left(M + m\\right)\\right)} \\left(- M^{2} l^{2} \\left(- M l \\omega^{2} \\operatorname{cos}\\left(\\theta\\right) + k x\\right) \\operatorname{sin}^{2}\\left(\\theta\\right) + \\left(- M^{2} l^{2} \\operatorname{sin}^{2}\\left(\\theta\\right) + \\left(I + M l^{2}\\right) \\left(M + m\\right)\\right) \\left(M g + M l \\omega^{2} \\operatorname{cos}\\left(\\theta\\right) + g m - k x\\right)\\right)\\\\\\frac{M l \\left(M l \\omega^{2} \\operatorname{cos}\\left(\\theta\\right) - k x\\right) \\operatorname{sin}\\left(\\theta\\right)}{- M^{2} l^{2} \\operatorname{sin}^{2}\\left(\\theta\\right) + \\left(I + M l^{2}\\right) \\left(M + m\\right)}\\end{matrix}\\right]$$"
      ],
      "text/plain": [
       "⎡                                                        v                    \n",
       "⎢                                                                             \n",
       "⎢                                                        ω                    \n",
       "⎢                                                                             \n",
       "⎢   2  2 ⎛       2             ⎞    2      ⎛   2  2    2      ⎛       2⎞      \n",
       "⎢- M ⋅l ⋅⎝- M⋅l⋅ω ⋅cos(θ) + k⋅x⎠⋅sin (θ) + ⎝- M ⋅l ⋅sin (θ) + ⎝I + M⋅l ⎠⋅(M + \n",
       "⎢─────────────────────────────────────────────────────────────────────────────\n",
       "⎢                                          ⎛   2  2    2      ⎛       2⎞      \n",
       "⎢                                  (M + m)⋅⎝- M ⋅l ⋅sin (θ) + ⎝I + M⋅l ⎠⋅(M + \n",
       "⎢                                                                             \n",
       "⎢                                             ⎛     2             ⎞           \n",
       "⎢                                         M⋅l⋅⎝M⋅l⋅ω ⋅cos(θ) - k⋅x⎠⋅sin(θ)    \n",
       "⎢                                       ────────────────────────────────────  \n",
       "⎢                                          2  2    2      ⎛       2⎞          \n",
       "⎣                                       - M ⋅l ⋅sin (θ) + ⎝I + M⋅l ⎠⋅(M + m)  \n",
       "\n",
       "                                     ⎤\n",
       "                                     ⎥\n",
       "                                     ⎥\n",
       "                                     ⎥\n",
       "  ⎞ ⎛           2                   ⎞⎥\n",
       "m)⎠⋅⎝M⋅g + M⋅l⋅ω ⋅cos(θ) + g⋅m - k⋅x⎠⎥\n",
       "─────────────────────────────────────⎥\n",
       "  ⎞                                  ⎥\n",
       "m)⎠                                  ⎥\n",
       "                                     ⎥\n",
       "                                     ⎥\n",
       "                                     ⎥\n",
       "                                     ⎥\n",
       "                                     ⎥\n",
       "                                     ⎦"
      ]
     },
     "execution_count": 73,
     "metadata": {},
     "output_type": "execute_result"
    }
   ],
   "source": [
    "rhs = kane.rhs()\n",
    "rhs.simplify()\n",
    "rhs"
   ]
  },
  {
   "cell_type": "markdown",
   "metadata": {},
   "source": [
    "This gives the two equilibrium points:"
   ]
  },
  {
   "cell_type": "code",
   "execution_count": 74,
   "metadata": {
    "collapsed": false
   },
   "outputs": [
    {
     "data": {
      "image/png": "[encoded data removed]",
      "text/latex": [
       "$$\\left [ \\left \\{ \\theta : 0, \\quad x : \\frac{g}{k} \\left(M + m\\right)\\right \\}, \\quad \\left \\{ \\theta : \\pi, \\quad x : \\frac{g}{k} \\left(M + m\\right)\\right \\}\\right ]$$"
      ],
      "text/plain": [
       "⎡⎧         g⋅(M + m)⎫  ⎧         g⋅(M + m)⎫⎤\n",
       "⎢⎨θ: 0, x: ─────────⎬, ⎨θ: π, x: ─────────⎬⎥\n",
       "⎣⎩             k    ⎭  ⎩             k    ⎭⎦"
      ]
     },
     "execution_count": 74,
     "metadata": {},
     "output_type": "execute_result"
    }
   ],
   "source": [
    "eq_points = solve(fr_plus_frstar.subs({omega.diff(): 0, v.diff(): 0, omega: 0, v: 0}), x, theta)\n",
    "eq_points"
   ]
  },
  {
   "cell_type": "code",
   "execution_count": 76,
   "metadata": {
    "collapsed": false
   },
   "outputs": [
    {
     "data": {
      "image/png": "[encoded data removed]",
      "text/latex": [
       "$$\\left \\{ \\omega : 0, \\quad \\theta : 0, \\quad v : 0, \\quad x : \\frac{g}{k} \\left(M + m\\right)\\right \\}$$"
      ],
      "text/plain": [
       "⎧                     g⋅(M + m)⎫\n",
       "⎨ω: 0, θ: 0, v: 0, x: ─────────⎬\n",
       "⎩                         k    ⎭"
      ]
     },
     "execution_count": 76,
     "metadata": {},
     "output_type": "execute_result"
    }
   ],
   "source": [
    "eq_points = eq_points[0]\n",
    "eq_points.update({v: 0, omega:0})\n",
    "eq_points"
   ]
  },
  {
   "cell_type": "code",
   "execution_count": 83,
   "metadata": {
    "collapsed": true
   },
   "outputs": [],
   "source": [
    "kane.linearize?"
   ]
  },
  {
   "cell_type": "markdown",
   "metadata": {},
   "source": [
    "Linearized equations of motion about the stable equilibrium point."
   ]
  },
  {
   "cell_type": "code",
   "execution_count": 81,
   "metadata": {
    "collapsed": false
   },
   "outputs": [
    {
     "data": {
      "image/png": "[encoded data removed]",
      "text/latex": [
       "$$\\left[\\begin{matrix}0 & 0 & 1 & 0\\\\0 & 0 & 0 & 1\\\\\\frac{k}{- M - m} & - \\frac{M l \\dot{\\omega}}{- M - m} & 0 & 0\\\\0 & \\frac{M g l - M l \\dot{v}}{- I - M l^{2}} & 0 & 0\\end{matrix}\\right]$$"
      ],
      "text/plain": [
       "⎡  0           0         1  0⎤\n",
       "⎢                            ⎥\n",
       "⎢  0           0         0  1⎥\n",
       "⎢                            ⎥\n",
       "⎢  k        -M⋅l⋅ω̇          ⎥\n",
       "⎢──────     ────────     0  0⎥\n",
       "⎢-M - m      -M - m          ⎥\n",
       "⎢                            ⎥\n",
       "⎢        M⋅g⋅l - M⋅l⋅v̇      ⎥\n",
       "⎢  0     ──────────────  0  0⎥\n",
       "⎢                  2         ⎥\n",
       "⎣          -I - M⋅l          ⎦"
      ]
     },
     "execution_count": 81,
     "metadata": {},
     "output_type": "execute_result"
    }
   ],
   "source": [
    "A_mat, _, _ = kane.linearize(op_point=eq_points, new_method=True, A_and_B=True)\n",
    "A_mat"
   ]
  },
  {
   "cell_type": "code",
   "execution_count": 85,
   "metadata": {
    "collapsed": false
   },
   "outputs": [
    {
     "data": {
      "image/png": "[encoded data removed]",
      "text/latex": [
       "$$\\left ( \\left[\\begin{matrix}1 & 0 & 0 & 0\\\\0 & 1 & 0 & 0\\\\0 & 0 & - M - m & 0\\\\0 & 0 & 0 & - I - M l^{2}\\end{matrix}\\right], \\quad \\left[\\begin{matrix}0 & 0 & 1 & 0\\\\0 & 0 & 0 & 1\\\\k & - M l \\dot{\\omega} & 0 & 0\\\\0 & M g l - M l \\dot{v} & 0 & 0\\end{matrix}\\right], \\quad \\left[\\begin{matrix}\\end{matrix}\\right], \\quad \\left[\\begin{matrix}\\end{matrix}\\right]\\right )$$"
      ],
      "text/plain": [
       "⎛⎡1  0    0         0    ⎤, ⎡0        0         1  0⎤, [], []⎞\n",
       "⎜⎢                       ⎥  ⎢                       ⎥        ⎟\n",
       "⎜⎢0  1    0         0    ⎥  ⎢0        0         0  1⎥        ⎟\n",
       "⎜⎢                       ⎥  ⎢                       ⎥        ⎟\n",
       "⎜⎢0  0  -M - m      0    ⎥  ⎢k     -M⋅l⋅ω̇      0  0⎥        ⎟\n",
       "⎜⎢                       ⎥  ⎢                       ⎥        ⎟\n",
       "⎜⎢                      2⎥  ⎣0  M⋅g⋅l - M⋅l⋅v̇  0  0⎦        ⎟\n",
       "⎝⎣0  0    0     -I - M⋅l ⎦                                   ⎠"
      ]
     },
     "execution_count": 85,
     "metadata": {},
     "output_type": "execute_result"
    }
   ],
   "source": [
    "kane.linearize(op_point=eq_points, new_method=True, A_and_B=False)"
   ]
  },
  {
   "cell_type": "code",
   "execution_count": 80,
   "metadata": {
    "collapsed": false
   },
   "outputs": [
    {
     "name": "stderr",
     "output_type": "stream",
     "text": [
      "/home/moorepants/miniconda3/lib/python3.5/site-packages/sympy/physics/mechanics/kane.py:501: SymPyDeprecationWarning: \n",
      "\n",
      "The linearize class method has changed to a new interface, the old\n",
      "method is deprecated. To use the new method, set the kwarg\n",
      "`new_method=True`. For more information, read the docstring of\n",
      "`linearize`.\n",
      "\n",
      "  SymPyDeprecationWarning('The linearize class method has changed '\n"
     ]
    },
    {
     "data": {
      "image/png": "[encoded data removed]",
      "text/latex": [
       "$$\\left ( \\left[\\begin{matrix}0 & 0 & 1 & 0\\\\0 & 0 & 0 & 1\\\\- k & - M l \\omega^{2} \\operatorname{sin}\\left(\\theta\\right) & 0 & 2 M l \\omega \\operatorname{cos}\\left(\\theta\\right)\\\\0 & - M g l \\operatorname{cos}\\left(\\theta\\right) & 0 & 0\\end{matrix}\\right], \\quad \\left[\\begin{matrix}\\end{matrix}\\right], \\quad \\left[\\begin{matrix}\\end{matrix}\\right]\\right )$$"
      ],
      "text/plain": [
       "⎛⎡0         0         1        0       ⎤, [], []⎞\n",
       "⎜⎢                                     ⎥        ⎟\n",
       "⎜⎢0         0         0        1       ⎥        ⎟\n",
       "⎜⎢                                     ⎥        ⎟\n",
       "⎜⎢          2                          ⎥        ⎟\n",
       "⎜⎢-k  -M⋅l⋅ω ⋅sin(θ)  0  2⋅M⋅l⋅ω⋅cos(θ)⎥        ⎟\n",
       "⎜⎢                                     ⎥        ⎟\n",
       "⎝⎣0   -M⋅g⋅l⋅cos(θ)   0        0       ⎦        ⎠"
      ]
     },
     "execution_count": 80,
     "metadata": {},
     "output_type": "execute_result"
    }
   ],
   "source": [
    "kane.linearize(op_point=eq_points, A_and_B=True)"
   ]
  },
  {
   "cell_type": "code",
   "execution_count": 13,
   "metadata": {
    "collapsed": false
   },
   "outputs": [
    {
     "data": {
      "image/png": "[encoded data removed]",
      "text/latex": [
       "$$\\left[\\begin{matrix}v\\\\\\omega\\\\- \\frac{2 M l \\omega^{2}}{- M - m} - \\frac{M l \\theta \\dot{\\omega}}{- M - m} + \\frac{k x}{- M - m}\\\\\\frac{\\left(M g l - M l \\dot{v}\\right) \\theta}{- I - M l^{2}}\\end{matrix}\\right]$$"
      ],
      "text/plain": [
       "⎡              v               ⎤\n",
       "⎢                              ⎥\n",
       "⎢              ω               ⎥\n",
       "⎢                              ⎥\n",
       "⎢         2                    ⎥\n",
       "⎢  2⋅M⋅l⋅ω    M⋅l⋅θ⋅ω̇    k⋅x  ⎥\n",
       "⎢- ──────── - ──────── + ──────⎥\n",
       "⎢   -M - m     -M - m    -M - m⎥\n",
       "⎢                              ⎥\n",
       "⎢      (M⋅g⋅l - M⋅l⋅v̇)⋅θ      ⎥\n",
       "⎢      ──────────────────      ⎥\n",
       "⎢                  2           ⎥\n",
       "⎣          -I - M⋅l            ⎦"
      ]
     },
     "execution_count": 13,
     "metadata": {},
     "output_type": "execute_result"
    }
   ],
   "source": [
    "states = kane.q.col_join(kane.u)\n",
    "states.diff() - A_mat * states \n",
    "A_mat * states"
   ]
  },
  {
   "cell_type": "markdown",
   "metadata": {},
   "source": [
    "# Lagrange's Method"
   ]
  },
  {
   "cell_type": "code",
   "execution_count": 14,
   "metadata": {
    "collapsed": false
   },
   "outputs": [
    {
     "data": {
      "image/png": "[encoded data removed]",
      "text/latex": [
       "$$\\dot{x}\\mathbf{\\hat{n}_x} + l \\dot{\\theta}\\mathbf{\\hat{a}_y}$$"
      ],
      "text/plain": [
       "ẋ n_x + l⋅θ̇ a_y"
      ]
     },
     "execution_count": 14,
     "metadata": {},
     "output_type": "execute_result"
    }
   ],
   "source": [
    "A.set_ang_vel(N, theta.diff() * N.z)\n",
    "a.set_vel(N, x.diff() * N.x)\n",
    "b.v2pt_theory(a, N, A)"
   ]
  },
  {
   "cell_type": "code",
   "execution_count": 15,
   "metadata": {
    "collapsed": false
   },
   "outputs": [
    {
     "data": {
      "image/png": "[encoded data removed]",
      "text/latex": [
       "$$\\sqrt{l^{2} \\dot{\\theta}^{2} - 2 l \\operatorname{sin}\\left(\\theta\\right) \\dot{\\theta} \\dot{x} + \\dot{x}^{2}}$$"
      ],
      "text/plain": [
       "   _________________________________\n",
       "  ╱  2   2                        2 \n",
       "╲╱  l ⋅θ̇  - 2⋅l⋅sin(θ)⋅θ̇⋅ẋ + ẋ  "
      ]
     },
     "execution_count": 15,
     "metadata": {},
     "output_type": "execute_result"
    }
   ],
   "source": [
    "b.vel(N).magnitude()"
   ]
  },
  {
   "cell_type": "code",
   "execution_count": 16,
   "metadata": {
    "collapsed": false
   },
   "outputs": [
    {
     "data": {
      "image/png": "[encoded data removed]",
      "text/latex": [
       "$$\\frac{I \\dot{\\theta}^{2}}{2} + \\frac{M}{2} \\left(l^{2} \\dot{\\theta}^{2} - 2 l \\operatorname{sin}\\left(\\theta\\right) \\dot{\\theta} \\dot{x} + \\dot{x}^{2}\\right) + \\frac{m \\dot{x}^{2}}{2}$$"
      ],
      "text/plain": [
       "    2     ⎛ 2   2                        2⎞       2\n",
       "I⋅θ̇    M⋅⎝l ⋅θ̇  - 2⋅l⋅sin(θ)⋅θ̇⋅ẋ + ẋ ⎠   m⋅ẋ \n",
       "───── + ─────────────────────────────────── + ─────\n",
       "  2                      2                      2  "
      ]
     },
     "execution_count": 16,
     "metadata": {},
     "output_type": "execute_result"
    }
   ],
   "source": [
    "bar.kinetic_energy(N) + block.kinetic_energy(N)"
   ]
  },
  {
   "cell_type": "code",
   "execution_count": 17,
   "metadata": {
    "collapsed": false
   },
   "outputs": [],
   "source": [
    "block.potential_energy = k * x**2 / 2 - m * g * x\n",
    "bar.potential_energy = -M * g * (x + l * cos(theta))"
   ]
  },
  {
   "cell_type": "code",
   "execution_count": 18,
   "metadata": {
    "collapsed": false
   },
   "outputs": [
    {
     "data": {
      "image/png": "[encoded data removed]",
      "text/latex": [
       "$$\\frac{I \\dot{\\theta}^{2}}{2} + M g \\left(l \\operatorname{cos}\\left(\\theta\\right) + x\\right) + \\frac{M}{2} \\left(l^{2} \\dot{\\theta}^{2} - 2 l \\operatorname{sin}\\left(\\theta\\right) \\dot{\\theta} \\dot{x} + \\dot{x}^{2}\\right) + g m x - \\frac{k x^{2}}{2} + \\frac{m \\dot{x}^{2}}{2}$$"
      ],
      "text/plain": [
       "    2                          ⎛ 2   2                        2⎞              \n",
       "I⋅θ̇                         M⋅⎝l ⋅θ̇  - 2⋅l⋅sin(θ)⋅θ̇⋅ẋ + ẋ ⎠           k⋅x\n",
       "───── + M⋅g⋅(l⋅cos(θ) + x) + ─────────────────────────────────── + g⋅m⋅x - ───\n",
       "  2                                           2                             2 \n",
       "\n",
       "2       2\n",
       "    m⋅ẋ \n",
       "─ + ─────\n",
       "      2  "
      ]
     },
     "execution_count": 18,
     "metadata": {},
     "output_type": "execute_result"
    }
   ],
   "source": [
    "L = Lagrangian(N, block, bar)\n",
    "L"
   ]
  },
  {
   "cell_type": "code",
   "execution_count": 19,
   "metadata": {
    "collapsed": false
   },
   "outputs": [
    {
     "data": {
      "image/png": "[encoded data removed]",
      "text/latex": [
       "$$I \\ddot{\\theta} + M l \\left(l \\ddot{\\theta} - \\operatorname{sin}\\left(\\theta\\right) \\ddot{x} - \\operatorname{cos}\\left(\\theta\\right) \\dot{\\theta} \\dot{x}\\right)$$"
      ],
      "text/plain": [
       "I⋅θ̈ + M⋅l⋅(l⋅θ̈ - sin(θ)⋅ẍ - cos(θ)⋅θ̇⋅ẋ)"
      ]
     },
     "execution_count": 19,
     "metadata": {},
     "output_type": "execute_result"
    }
   ],
   "source": [
    "L.diff(theta.diff()).simplify().diff(dynamicsymbols._t)"
   ]
  },
  {
   "cell_type": "code",
   "execution_count": 20,
   "metadata": {
    "collapsed": true
   },
   "outputs": [],
   "source": [
    "lagrange = LagrangesMethod(L, (x, theta))"
   ]
  },
  {
   "cell_type": "code",
   "execution_count": 21,
   "metadata": {
    "collapsed": false
   },
   "outputs": [
    {
     "data": {
      "image/png": "[encoded data removed]",
      "text/latex": [
       "$$\\left[\\begin{matrix}- M g - M \\left(l \\operatorname{sin}\\left(\\theta\\right) \\ddot{\\theta} + l \\operatorname{cos}\\left(\\theta\\right) \\dot{\\theta}^{2} - \\ddot{x}\\right) - g m + k x + m \\ddot{x}\\\\I \\ddot{\\theta} + M g l \\operatorname{sin}\\left(\\theta\\right) + M l^{2} \\ddot{\\theta} - M l \\operatorname{sin}\\left(\\theta\\right) \\ddot{x}\\end{matrix}\\right]$$"
      ],
      "text/plain": [
       "⎡         ⎛                         2     ⎞                   ⎤\n",
       "⎢-M⋅g - M⋅⎝l⋅sin(θ)⋅θ̈ + l⋅cos(θ)⋅θ̇  - ẍ⎠ - g⋅m + k⋅x + m⋅ẍ⎥\n",
       "⎢                                                             ⎥\n",
       "⎢                                 2                           ⎥\n",
       "⎣        I⋅θ̈ + M⋅g⋅l⋅sin(θ) + M⋅l ⋅θ̈ - M⋅l⋅sin(θ)⋅ẍ        ⎦"
      ]
     },
     "execution_count": 21,
     "metadata": {},
     "output_type": "execute_result"
    }
   ],
   "source": [
    "lagranges_equations = lagrange.form_lagranges_equations()\n",
    "lagranges_equations.simplify()\n",
    "lagranges_equations"
   ]
  },
  {
   "cell_type": "markdown",
   "metadata": {},
   "source": [
    "# Compare"
   ]
  },
  {
   "cell_type": "code",
   "execution_count": 22,
   "metadata": {
    "collapsed": false
   },
   "outputs": [
    {
     "data": {
      "image/png": "[encoded data removed]",
      "text/latex": [
       "$$\\left[\\begin{matrix}0\\\\0\\end{matrix}\\right]$$"
      ],
      "text/plain": [
       "⎡0⎤\n",
       "⎢ ⎥\n",
       "⎣0⎦"
      ]
     },
     "execution_count": 22,
     "metadata": {},
     "output_type": "execute_result"
    }
   ],
   "source": [
    "should_be_zero = fr_plus_frstar.subs({omega: theta.diff(), v: x.diff()}) + lagranges_equations\n",
    "should_be_zero.simplify()\n",
    "should_be_zero"
   ]
  },
  {
   "cell_type": "markdown",
   "metadata": {},
   "source": [
    "# M, C, K form"
   ]
  },
  {
   "cell_type": "code",
   "execution_count": 25,
   "metadata": {
    "collapsed": false
   },
   "outputs": [],
   "source": [
    "q = Matrix([x, theta])"
   ]
  },
  {
   "cell_type": "code",
   "execution_count": 45,
   "metadata": {
    "collapsed": false
   },
   "outputs": [
    {
     "data": {
      "image/png": "[encoded data removed]",
      "text/latex": [
       "$$\\left[\\begin{matrix}- M g - M \\left(l \\theta \\ddot{\\theta} - \\ddot{x}\\right) - g m + k x + m \\ddot{x}\\\\I \\ddot{\\theta} + M g l \\theta + M l^{2} \\ddot{\\theta} - M l \\theta \\ddot{x}\\end{matrix}\\right]$$"
      ],
      "text/plain": [
       "⎡-M⋅g - M⋅(l⋅θ⋅θ̈ - ẍ) - g⋅m + k⋅x + m⋅ẍ⎤\n",
       "⎢                                         ⎥\n",
       "⎢                       2                 ⎥\n",
       "⎣   I⋅θ̈ + M⋅g⋅l⋅θ + M⋅l ⋅θ̈ - M⋅l⋅θ⋅ẍ   ⎦"
      ]
     },
     "execution_count": 45,
     "metadata": {},
     "output_type": "execute_result"
    }
   ],
   "source": [
    "lin_lagranges_equations = lagranges_equations.subs({sin(theta): theta,\n",
    "                                                    cos(theta): 1,\n",
    "                                                    theta.diff()**2: 0,\n",
    "                                                    theta*theta.diff().diff(): 0})\n",
    "lin_lagranges_equations"
   ]
  },
  {
   "cell_type": "code",
   "execution_count": 46,
   "metadata": {
    "collapsed": false
   },
   "outputs": [
    {
     "data": {
      "image/png": "[encoded data removed]",
      "text/latex": [
       "$$\\left[\\begin{matrix}M + m & - M l \\operatorname{sin}\\left(\\theta\\right)\\\\- M l \\operatorname{sin}\\left(\\theta\\right) & I + M l^{2}\\end{matrix}\\right]$$"
      ],
      "text/plain": [
       "⎡   M + m     -M⋅l⋅sin(θ)⎤\n",
       "⎢                        ⎥\n",
       "⎢                     2  ⎥\n",
       "⎣-M⋅l⋅sin(θ)   I + M⋅l   ⎦"
      ]
     },
     "execution_count": 46,
     "metadata": {},
     "output_type": "execute_result"
    }
   ],
   "source": [
    "M = lagranges_equations.jacobian(q.diff().diff())\n",
    "M"
   ]
  },
  {
   "cell_type": "code",
   "execution_count": 47,
   "metadata": {
    "collapsed": false
   },
   "outputs": [
    {
     "data": {
      "image/png": "[encoded data removed]",
      "text/latex": [
       "$$\\left[\\begin{matrix}0 & - 2 M l \\operatorname{cos}\\left(\\theta\\right) \\dot{\\theta}\\\\0 & 0\\end{matrix}\\right]$$"
      ],
      "text/plain": [
       "⎡0  -2⋅M⋅l⋅cos(θ)⋅θ̇⎤\n",
       "⎢                   ⎥\n",
       "⎣0         0        ⎦"
      ]
     },
     "execution_count": 47,
     "metadata": {},
     "output_type": "execute_result"
    }
   ],
   "source": [
    "C = lagranges_equations.jacobian(q.diff())\n",
    "C"
   ]
  },
  {
   "cell_type": "code",
   "execution_count": 48,
   "metadata": {
    "collapsed": false
   },
   "outputs": [
    {
     "data": {
      "image/png": "[encoded data removed]",
      "text/latex": [
       "$$\\left[\\begin{matrix}k & - M \\left(- l \\operatorname{sin}\\left(\\theta\\right) \\dot{\\theta}^{2} + l \\operatorname{cos}\\left(\\theta\\right) \\ddot{\\theta}\\right)\\\\0 & M g l \\operatorname{cos}\\left(\\theta\\right) - M l \\operatorname{cos}\\left(\\theta\\right) \\ddot{x}\\end{matrix}\\right]$$"
      ],
      "text/plain": [
       "⎡      ⎛             2              ⎞⎤\n",
       "⎢k  -M⋅⎝- l⋅sin(θ)⋅θ̇  + l⋅cos(θ)⋅θ̈⎠⎥\n",
       "⎢                                    ⎥\n",
       "⎣0    M⋅g⋅l⋅cos(θ) - M⋅l⋅cos(θ)⋅ẍ   ⎦"
      ]
     },
     "execution_count": 48,
     "metadata": {},
     "output_type": "execute_result"
    }
   ],
   "source": [
    "K = lagranges_equations.jacobian(q)\n",
    "K"
   ]
  },
  {
   "cell_type": "code",
   "execution_count": 49,
   "metadata": {
    "collapsed": false
   },
   "outputs": [
    {
     "data": {
      "image/png": "[encoded data removed]",
      "text/latex": [
       "$$\\left[\\begin{matrix}\\sqrt{a} & 0\\\\\\frac{c}{\\sqrt{a}} & \\sqrt{b - \\frac{c^{2}}{a}}\\end{matrix}\\right]$$"
      ],
      "text/plain": [
       "⎡√a        0      ⎤\n",
       "⎢                 ⎥\n",
       "⎢         ________⎥\n",
       "⎢        ╱      2 ⎥\n",
       "⎢c      ╱      c  ⎥\n",
       "⎢──    ╱   b - ── ⎥\n",
       "⎣√a  ╲╱        a  ⎦"
      ]
     },
     "execution_count": 49,
     "metadata": {},
     "output_type": "execute_result"
    }
   ],
   "source": [
    "a, b, c = symbols('a, b, c', real=True)\n",
    "M = Matrix([[a, c], [c, b]])\n",
    "M.cholesky()"
   ]
  },
  {
   "cell_type": "code",
   "execution_count": 59,
   "metadata": {
    "collapsed": false
   },
   "outputs": [
    {
     "data": {
      "image/png": "[encoded data removed]",
      "text/latex": [
       "$$\\left[\\begin{matrix}- M g - M \\left(l \\operatorname{sin}\\left(\\theta\\right) \\ddot{\\theta} + l \\operatorname{cos}\\left(\\theta\\right) \\dot{\\theta}^{2} - \\ddot{x}\\right) - g m + k x + m \\ddot{x}\\\\I \\ddot{\\theta} + M g l \\operatorname{sin}\\left(\\theta\\right) + M l^{2} \\ddot{\\theta} - M l \\operatorname{sin}\\left(\\theta\\right) \\ddot{x}\\end{matrix}\\right]$$"
      ],
      "text/plain": [
       "⎡         ⎛                         2     ⎞                   ⎤\n",
       "⎢-M⋅g - M⋅⎝l⋅sin(θ)⋅θ̈ + l⋅cos(θ)⋅θ̇  - ẍ⎠ - g⋅m + k⋅x + m⋅ẍ⎥\n",
       "⎢                                                             ⎥\n",
       "⎢                                 2                           ⎥\n",
       "⎣        I⋅θ̈ + M⋅g⋅l⋅sin(θ) + M⋅l ⋅θ̈ - M⋅l⋅sin(θ)⋅ẍ        ⎦"
      ]
     },
     "execution_count": 59,
     "metadata": {},
     "output_type": "execute_result"
    }
   ],
   "source": [
    "lagranges_equations"
   ]
  },
  {
   "cell_type": "code",
   "execution_count": null,
   "metadata": {
    "collapsed": true
   },
   "outputs": [],
   "source": []
  }
 ],
 "metadata": {
  "anaconda-cloud": {},
  "kernelspec": {
   "display_name": "Python [conda root]",
   "language": "python",
   "name": "conda-root-py"
  },
  "language_info": {
   "codemirror_mode": {
    "name": "ipython",
    "version": 3
   },
   "file_extension": ".py",
   "mimetype": "text/x-python",
   "name": "python",
   "nbconvert_exporter": "python",
   "pygments_lexer": "ipython3",
   "version": "3.5.2"
  }
 },
 "nbformat": 4,
 "nbformat_minor": 1
}
